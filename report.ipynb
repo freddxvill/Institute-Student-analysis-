{
 "cells": [
  {
   "cell_type": "markdown",
   "id": "3a5f08ec",
   "metadata": {},
   "source": [
    "---\n",
    "author: Freddy Villca Villegas\n",
    "lang: es\n",
    "format:\n",
    "    html:\n",
    "        embed-resources: true\n",
    "\n",
    "echo: false\n",
    "toc: true\n",
    "---"
   ]
  },
  {
   "cell_type": "markdown",
   "id": "c55be763",
   "metadata": {},
   "source": [
    "# Análisis - Instituto de Idiomas GM"
   ]
  },
  {
   "cell_type": "markdown",
   "id": "37340197",
   "metadata": {},
   "source": [
    "## Descripción general"
   ]
  },
  {
   "cell_type": "markdown",
   "id": "1f810e73",
   "metadata": {},
   "source": [
    "Se realiza una exploracion y visualización de los datos que provienen de un archivo PDF de una institucion de enseñanza de idiomas mediante la modalidad virtual. Los datos muestran la calificación obtenida de los estudiantes aprobados de cada nivel, asi como tambien la decisión de seguir o no avanzando al siguiente curso o nivel. \n",
    "\n",
    "En este reporte se mostrara los hallazgos del análisis realizado. Tambien se proveera un descripcion de varias caracteristicas sobre el rendimiento de los estudiantes. Al final del reporte se dara algunas sugerencias para la institución."
   ]
  },
  {
   "cell_type": "code",
   "execution_count": 1,
   "id": "fb57a290-2234-49b9-83d9-431fb0fc71c2",
   "metadata": {},
   "outputs": [],
   "source": [
    "import pdfplumber\n",
    "import pandas as pd\n",
    "import re"
   ]
  },
  {
   "cell_type": "markdown",
   "id": "07fcdcd0-cf60-4a1f-8da1-fb6cef6ca845",
   "metadata": {},
   "source": [
    "## Exploración y preparación de los datos"
   ]
  },
  {
   "cell_type": "markdown",
   "id": "93179f79",
   "metadata": {},
   "source": [
    "Extracción y lectura de los datos de las tablas contenidas en el pdf."
   ]
  },
  {
   "cell_type": "code",
   "execution_count": 2,
   "id": "40492832-6b18-4edf-9aeb-8f90b60fd2c3",
   "metadata": {
    "scrolled": true
   },
   "outputs": [
    {
     "name": "stdout",
     "output_type": "stream",
     "text": [
      "[['Nº', 'Nombre del Estudiante', 'DEPARTAMENT\\nO', 'TOTAL\\nGENERAL', 'DOCENTE', 'NIVEL', 'ACTIVIDADES', 'CONTINUIDAD', 'MODALIDAD'], ['1', 'ALBANY MADELINE GARCIA MONASTERIOS', 'La Paz', '81', 'MARIAN', 'INTERMEDIO', 'COMPLETO -11', 'CONGELAR - TRABAJO', 'INTENSIVO'], ['2', 'ALICIA MAMANI QUISPE', 'La Paz', '75', 'MARIA', 'PRINCIPIANTE', '0- INCOMPLETO', 'CONGELAR - TRABAJO', 'INTENSIVO'], ['3', 'ALVARO WILCARANI CHAMBI', 'Oruro', '76', 'LOURDES', 'INTERMEDIO', '0- INCOMPLETO', 'NO SE PRESENTO', 'INTENSIVO'], ['4', 'AMEL RUDDY VASQUEZ SANJINES', 'La Paz', '95', 'ERIKA', 'PRINCIPIANTE', 'COMPLETO -14', 'CONTINUAR', 'INTENSIVO'], ['5', 'ANA NELY QUISPE QUISPE', 'La Paz', '104', 'NICOLAS', 'PRINCIPIANTE', 'COMPLETO - 11', 'CONTINUAR', 'INTENSIVO'], ['6', 'ANA RAQUEL QUELCA CADENA', 'Cochabamba', '97', 'HELEN', 'BASICO', '4- INCOMPLETO', 'CONTINUAR', 'INTENSIVO'], ['7', 'ANA ROXANA CABALLERO MARQUEZ', 'Sucre', '88', 'NICOLAS', 'PRINCIPIANTE', 'COMPLETO -12', 'CONTINUAR', 'INTENSIVO'], ['8', 'ANA YOVANNA VEGA FERNÁNDEZ', 'La Paz', '90', 'ERIKA', 'PRINCIPIANTE', '', 'CONTINUAR', 'INTENSIVO'], ['9', 'ANDREA XIMENA FLORES ALVARADO', 'Sucre', '90', 'ERIKA', 'PRINCIPIANTE', '1- INCOMPLETO', 'NO SE PRESENTO', 'INTENSIVO'], ['10', 'ARACELY CALLISAYA BLANCO', 'La Paz', '97', 'HELEN', 'BASICO', '8- INCOMPLETO', 'CONTINUAR', 'INTENSIVO'], ['11', 'ARIANA CELESTE NUÑEZ PAZ', 'Cochabamba', '82', 'MARIAN', 'INTERMEDIO', '0- INCOMPLETO', 'RETIRAR - HORARIOS', 'INTENSIVO'], ['12', 'ARIEL IGNACIO SAAVEDRA MARQUEZ', 'La Paz', '78', 'HELEN', 'BASICO', '1- INCOMPLETO', 'CONTINUAR', 'INTENSIVO'], ['13', 'AZAMAR ALANA CHACÓN MENDOZA', 'La Paz', '97', 'RUTH', 'BASICO', 'COMPLETO', 'CONTINUAR', 'INTENSIVO'], ['14', 'BEYDA ALEJANDRA BARRIENTOS URIONA', 'Sucre', '107', 'MARIA', 'PRINCIPIANTE', '3-INCOMPLETO', 'CONTINUAR', 'INTENSIVO'], ['15', 'BORIS MARCELO VALENZUELA SAIRE', 'Santa Cruz', '89', 'ERIKA', 'PRINCIPIANTE', '6- INCOMPLETO', 'CONTINUAR', 'INTENSIVO'], ['16', 'BRENDA BEATRIZ UGARTE ARCE', 'La Paz', '87', 'LOURDES', 'INTERMEDIO', 'COMPLETO -11', 'CONTINUAR', 'INTENSIVO'], ['17', 'BRIGITTA KATA KIMBERGER MESZAROS', 'La Paz', '75', 'MARIAN', 'INTERMEDIO', 'COMPLETO - 12', 'CONGELAR -PREMILITAR', 'INTENSIVO'], ['18', 'BRISAN MONTAÑO MAMANI', 'Potosí', '87', 'ERIKA', 'PRINCIPIANTE', '0- INCOMPLETO', 'NO SE PRESENTO', 'INTENSIVO'], ['19', 'BRISEICA TINTA FEBRERO', 'La Paz', '92', 'MARIA', 'PRINCIPIANTE', '2- INCOMPLETO', 'CONTINUAR', 'INTENSIVO'], ['20', 'BRYAN EDUARDO LIZARRAGA SALAZAR', 'Sucre', '76', 'HELEN', 'BASICO', 'COMPLETO', 'CONTINUAR', 'INTENSIVO'], ['21', 'BRYSEIDA ABIGAIL QUISPE CHATA', 'La Paz', '95', 'ERIKA', 'PRINCIPIANTE', '0- INCOMPLETO', 'NO SE PRESENTO', 'INTENSIVO'], ['22', 'CADY BELL ALEGADO AREQUIPA', 'La Paz', '95', 'HELEN', 'BASICO', '7- INCOMPLETO', 'CONTINUAR', 'INTENSIVO'], ['23', 'CAMILA ZÚÑIGA IBARRA', 'Cochabamba', '93', 'NICOLAS', 'PRINCIPIANTE', 'COMPLETO -12', 'CONTINUAR', 'INTENSIVO'], ['24', 'CAREN MILENKA CAHUASA GARAY', 'Cochabamba', '96', 'LOURDES', 'INTERMEDIO', 'COMPLETO -10', 'CONTINUAR', 'INTENSIVO'], ['25', 'CARLA ANDREA ALEGRIA CHURA', 'La Paz', '99', 'NICOLAS', 'PRINCIPIANTE', 'COMPLETO', 'POR DEFINIR', 'INTENSIVO'], ['26', 'CARLA YESENIA ZUÑAGUA SOTO', 'Cochabamba', '108', 'MARIA', 'PRINCIPIANTE', 'COMPLETO -10', 'CONTINUAR', 'INTENSIVO'], ['27', 'CARMELA SANDRA CALLICONDE CARRASCO', 'La Paz', '107', 'MARIA', 'PRINCIPIANTE', 'COMPLETO -13', 'CONTINUAR', 'INTENSIVO'], ['28', 'CARMEN GLADYS ESPINOZA MAMANI', 'La Paz', '104', 'MARIA', 'PRINCIPIANTE', '4- INCOMPLETO', 'CONTINUAR', 'INTENSIVO'], ['29', 'CAROLA NEYDA QUISPE LLAMPAS', 'La Paz', '91', 'MARIAN', 'INTERMEDIO', '0- INCOMPLETO', 'NO SE PRESENTO', 'INTENSIVO'], ['30', 'CAROLAI BRIGHITTE PEREZ SALGUEIRO', 'Cochabamba', '97', 'MARIAN', 'INTERMEDIO', '8- INCOMPLETO', 'CONTINUAR', 'INTENSIVO'], ['31', 'CAROLINA GARZON JANCO', 'Tarija', '89', 'RUTH', 'BASICO', 'COMPLETO-11', 'CONTINUAR', 'INTENSIVO'], ['32', 'CIELO ESMERALDA PALENQUE PINTO', 'Sucre', '78', 'HELEN', 'BASICO', 'COMPLETO -13', 'CONTINUAR', 'INTENSIVO'], ['33', 'CIELO NORIE MAMANI CHOQUE', 'La Paz', '82', 'NICOLAS', 'PRINCIPIANTE', '5- INCOMPLETO', 'CONTINUAR', 'INTENSIVO'], ['34', 'COSETTE CAROL ANTEZANA MAITA', 'Cochabamba', '80', 'HELEN', 'BASICO', 'COMPLETO', 'CONTINUAR', 'INTENSIVO'], ['35', 'CRISTINA AVENDAÑO RIOS', 'Santa Cruz', '77', 'HELEN', 'BASICO', '6-INCOMPLETO', 'CONTINUAR', 'INTENSIVO'], ['36', 'DANIELA NOELIA NINA APAZA', 'La Paz', '107', 'MARIA', 'PRINCIPIANTE', 'COMPLETO', 'CONTINUAR', 'INTENSIVO'], ['37', 'DANIELA SAAVEDRA CESPEDES', 'Cochabamba', '90', 'RUTH', 'BASICO', 'COMPLETO -10', 'CONTINUAR', 'INTENSIVO'], ['38', 'DANNA NICOLE CATACORA MACHICADO', 'La Paz', '98', 'NICOLAS', 'PRINCIPIANTE', 'COMPLETO', 'CONTINUAR', 'INTENSIVO'], ['39', 'DANTE ANDREE YUPANQUI RODRIGUEZ', 'La Paz', '92', 'MARIA', 'PRINCIPIANTE', '4- INCOMPLETO', 'CONTINUAR', 'INTENSIVO'], ['40', 'DELIA VILLARROEL ROMERO', 'Santa Cruz', '83', 'LOURDES', 'INTERMEDIO', '8- INCOMPLETO', 'POR DEFINIR', 'INTENSIVO'], ['41', 'DIANA ERIKA CAPAJIQUI AJNO', 'La Paz', '82', 'NICOLAS', 'PRINCIPIANTE', 'COMPLETO -10', 'NO SE PRESENTO', 'INTENSIVO'], ['42', 'DOMINIK MICHEL ESPINOZA MIRANDA', 'La Paz', '98', 'HELEN', 'BASICO', 'COMPLETO -19', 'CONGELAR- INTERNADO', 'INTENSIVO'], ['43', 'EDDY ADAMO ROJAS VALVERDE', 'La Paz', '79', 'RUTH', 'BASICO', '2-INCOMPLETO', 'CONTINUAR', 'INTENSIVO'], ['44', 'EDILSON GUTIERREZ AYALA', 'Cochabamba', '88', 'ERIKA', 'PRINCIPIANTE', '1- INCOMPLETO', 'CONTINUAR', 'INTENSIVO'], ['45', 'ELIANE GABRIEL CABA LÓPEZ', 'Sucre', '88', 'MARIA', 'PRINCIPIANTE', '2- INCOMPLETO', 'CONGELAR- PRACTICAS', 'INTENSIVO'], ['46', 'ERICA EVELIN ROMERO SARDINAS', 'Potosí', '89', 'RUTH', 'BASICO', '1- INCOMPLETO', 'CONGELAR - SALUD', 'INTENSIVO'], ['47', 'EVA NORAH ALANOCA QUENTA', 'La Paz', '93', 'ERIKA', 'PRINCIPIANTE', 'COMPLETO -10', 'CONTINUAR', 'INTENSIVO'], ['48', 'EVELIN ONDARZA VARGAS', 'Cochabamba', '83', 'MARIAN', 'INTERMEDIO', 'COMPLETO', 'CONTINUAR', 'INTENSIVO'], ['49', 'FABIOLA VANESSA OLORIO QUISBERT', 'La Paz', '101', 'MARIA', 'PRINCIPIANTE', 'COMPLETO -10', 'CONTINUAR', 'INTENSIVO'], ['50', 'FABRICIO GONZALO ROMERO AREVALO', 'La Paz', '92', 'HELEN', 'BASICO', 'COMPLETO', 'CONTINUAR', 'INTENSIVO'], ['51', 'FERNANDA FAVIANA VILLEGAS MALPARTIDA', 'Potosí', '84', 'MARIAN', 'INTERMEDIO', '1-INCOMPLETO', 'CONTINUAR', 'INTENSIVO'], ['52', 'FRANKLIN GARI SANTILLAN ALCIBIA', 'Sucre', '93', 'MARIA', 'PRINCIPIANTE', 'COMPLETO -11', 'CONTINUAR', 'INTENSIVO'], ['53', 'FREDDY VILLCA VILLEGAS', 'Cochabamba', '92', 'RUTH', 'BASICO', 'COMPLETO -11', 'CONTINUAR', 'INTENSIVO'], ['54', 'GABRIELA KARLOTY CASTRO ALVAREZ', 'Santa Cruz', '89', 'ERIKA', 'PRINCIPIANTE', '3-INCOMPLETO', 'CONTINUAR', 'INTENSIVO'], ['55', 'GABRIELA LLANQUI CALIZAYA', 'Sucre', '104', 'MARIA', 'PRINCIPIANTE', 'COMPLETO', 'CONTINUAR', 'INTENSIVO'], ['56', 'GELWA NAGHAT SAMA ABUGOCH ISMAEL', 'Cochabamba', '102', 'MARIA', 'PRINCIPIANTE', 'COMPLETO-12', 'CONTINUAR', 'INTENSIVO'], ['57', 'GLENDA GLADIS JUÁREZ CHANE', 'La Paz', '92', 'ERIKA', 'PRINCIPIANTE', '1- INCOMPLETO', 'NO SE PRESENTO', 'INTENSIVO'], ['58', 'GLORIA ESTEFANY QUISPE MAMANI', 'La Paz', '95', 'NICOLAS', 'PRINCIPIANTE', 'COMPLETO-10', 'CONTINUAR', 'INTENSIVO'], ['59', 'GLORIA ROXANA RODRIGUEZ ALVAREZ', 'Cochabamba', '109', 'MARIA', 'PRINCIPIANTE', '8-INCOMPLETO', 'CONTINUAR', 'INTENSIVO'], ['60', 'INTI ERNESTO TAPIA POMA', 'La Paz', '87', 'NICOLAS', 'PRINCIPIANTE', '8- INCOMPLETO', 'CONTINUAR', 'INTENSIVO'], ['61', 'IRMA MARISOL MEJÍA CAYO', 'Potosí', '88', 'ERIKA', 'PRINCIPIANTE', 'INCOMPLETO', 'CONGELAR- ESTUDIO', 'INTENSIVO'], ['62', 'ISABEL ROJAS PAUCARA', 'La Paz', '83', 'NICOLAS', 'PRINCIPIANTE', '5- INCOMPLETO', 'NO SE PRESENTO', 'INTENSIVO'], ['63', 'ITZEL EMILY VELASQUEZ GUERRA', 'Sucre', '94', 'HELEN', 'BASICO', '1- INCOMPLETO', 'NO SE PRESENTO', 'INTENSIVO'], ['64', 'IVETT CONDORI VALDA', 'La Paz', '93', 'ERIKA', 'PRINCIPIANTE', '0- INCOMPLETO', 'CONTINUAR', 'INTENSIVO'], ['65', 'JANNA INTI HERRERA NINA', 'La Paz', '98', 'NICOLAS', 'PRINCIPIANTE', 'COMPLETO', 'CONTINUAR', 'INTENSIVO'], ['66', 'JAVIER ALEJANDRO ARAOZ VACA', 'Cochabamba', '78', 'LOURDES', 'INTERMEDIO', 'COMPLETO', 'CONTINUAR', 'INTENSIVO'], ['67', 'JAZMÍN SOFÍA SARMIENTO QUISPE', 'Cochabamba', '79', 'NICOLAS', 'PRINCIPIANTE', 'COMPLETO - 12', 'NO SE PRESENTO', 'INTENSIVO'], ['68', 'JENNY MÉNDEZ PARADA', 'Santa Cruz', '95', 'RUTH', 'BASICO', '0- INCOMPLETO', 'CONTINUAR', 'INTENSIVO'], ['69', 'JESICA SANTOS ASPI', 'Santa Cruz', '87', 'ERIKA', 'PRINCIPIANTE', '0- INCOMPLETO', 'CONTINUAR', 'INTENSIVO'], ['70', 'JHANNET PAREDES CHOQUE', 'Cochabamba', '90', 'RUTH', 'BASICO', 'COMPLETO-10', 'CONTINUAR', 'INTENSIVO'], ['71', 'JHERY NOE MIRANDA CRUZ', 'Cochabamba', '83', 'MARIAN', 'INTERMEDIO', '6-INCOMPLETO', 'CONGELAR - PREMILITAR', 'INTENSIVO'], ['72', 'JHONNY ANDRES CATARI MAMANI', 'La Paz', '92', 'ERIKA', 'PRINCIPIANTE', '5- INCOMPLETO', 'CONTINUAR', 'INTENSIVO'], ['73', 'JOEL CRISTIAN LOPEZ DOMINGUEZ', 'Sucre', '104', 'MARIA', 'PRINCIPIANTE', 'COMPLETO', 'CONTINUAR', 'INTENSIVO'], ['74', 'JOHAN DANIEL ÁLVAREZ ORTEGA', 'Sucre', '95', 'NICOLAS', 'PRINCIPIANTE', 'COMPLETO', 'CONTINUAR', 'INTENSIVO'], ['75', 'JOHANA MARIEL BRAVO IRIARTE', 'La Paz', '97', 'RUTH', 'BASICO', 'COMPLETO', 'CONTINUAR', 'INTENSIVO'], ['76', 'JORGE ALEJANDRO MONTAÑO CAYOJA', 'Cochabamba', '92', 'ERIKA', 'PRINCIPIANTE', '4-INCOMPLETO', 'NO SE PRESENTO', 'INTENSIVO'], ['77', 'JOSE ALDYR CUSSI SEGALES', 'La Paz', '100', 'MARIAN', 'INTERMEDIO', '2- INCOMPLETO', 'CONGELAR - PREMILITAR', 'INTENSIVO'], ['78', 'KANDY ZURITA BECERRA', 'Santa Cruz', '87', 'ERIKA', 'PRINCIPIANTE', '1- INCOMPLETO', 'CONTINUAR', 'INTENSIVO'], ['79', 'KAREN ASCHLY MAMANI AJATA', 'La Paz', '106', 'MARIA', 'PRINCIPIANTE', 'COMPLETO -10', 'CONTINUAR', 'INTENSIVO'], ['80', 'KARINA YESSENIA CHAMBI MAYTA', 'Santa Cruz', '90', 'NICOLAS', 'PRINCIPIANTE', '7- INCOMPLETO', 'NO SE PRESENTO', 'INTENSIVO'], ['81', 'KEYKLIN BRITANI SALAZ TELLERIA', 'La Paz', '80', 'HELEN', 'BASICO', 'COMPLETO', 'CONTINUAR', 'INTENSIVO'], ['82', 'KIMBERLY SARAH ESCOBAR COPA', 'La Paz', '92', 'RUTH', 'BASICO', 'COMPLETO-10', 'CONGELAR - TRABAJO', 'INTENSIVO'], ['83', 'LAURA ADRIANA ONTIVEROS FUENTES', 'La Paz', '94', 'RUTH', 'BASICO', '6- INCOMPLETO', 'CONTINUAR', 'INTENSIVO'], ['84', 'LENY CONDORI MORAN', 'La Paz', '90', 'ERIKA', 'PRINCIPIANTE', 'COMPLETO-11', 'CONTINUAR', 'INTENSIVO'], ['85', 'LIMBERT SIÑANI NINA', 'La Paz', '96', 'RUTH', 'BASICO', '7- INCOMPLETO', 'CONTINUAR', 'INTENSIVO'], ['86', 'LISSETTE CHOQUE LARGO', 'Sucre', '108', 'MARIA', 'PRINCIPIANTE', 'COMPLETO', 'CONTINUAR', 'INTENSIVO'], ['87', 'LIZBETH ARACELY CASTILLO LIMACHI', 'La Paz', '89', 'MARIA', 'PRINCIPIANTE', '7- INCOMPLETO', 'CONGELAR-ACADEMICO', 'INTENSIVO'], ['88', 'LIZETH ALVARADO FORONDA', 'La Paz', '87', 'ERIKA', 'PRINCIPIANTE', '0- INCOMPLETO', 'NO SE PRESENTO', 'INTENSIVO'], ['89', 'LORGIO ALEX CUENTAS COLQUE', 'La Paz', '107', 'MARIA', 'PRINCIPIANTE', 'COMPLETO -12', 'CONTINUAR', 'INTENSIVO'], ['90', 'LORIANA JELITZA MIRANDA ZAMBRANA', 'Tarija', '105', 'MARIA', 'PRINCIPIANTE', '8- INCOMPLETO', 'CONTINUAR', 'INTENSIVO'], ['91', 'LUCERO MARILÚ ARTEAGA GOMEZ', 'La Paz', '86', 'RUTH', 'BASICO', '5- INCOMPLETO', 'CONTINUAR', 'INTENSIVO'], ['92', 'LUCIANA GISELLE ALVAREZ SERRANO', 'Tarija', '99', 'MARIAN', 'INTERMEDIO', 'COMPLETO', 'POR CONFIRMAR', 'INTENSIVO'], ['93', 'LUIS ANGEL QUISPE FIGUEROA', 'Oruro', '87', 'HELEN', 'BASICO', '0- INCOMPLETO', 'CONTINUAR', 'INTENSIVO'], ['94', 'LUVINCA DANIELA PLATA ALCON', 'La Paz', '82', 'MARIA', 'PRINCIPIANTE', '7- INCOMPLETO0', 'CONTINUAR', 'INTENSIVO']]\n",
      "[['95', 'LUZ ADINA MORALES ANTONIO', 'Oruro', '89', 'NICOLAS', 'PRINCIPIANTE', 'COMPLETO-10', 'POR CONFIRMAR', 'INTENSIVO'], ['96', 'LUZ BELINDA POMA RAMOS', 'La Paz', '97', 'NICOLAS', 'PRINCIPIANTE', '7-INCOMPLETO', 'POR CONFIRMAR', 'INTENSIVO'], ['97', 'LUZ MARIA AYARDE VELASCO', 'Santa Cruz', '87', 'RUTH', 'BASICO', '0- INCOMPLETO', 'CONTINUAR', 'INTENSIVO'], ['98', 'MADELEN MARIEL ADRIAN MARTINEZ', 'Oruro', '75', 'HELEN', 'BASICO', '5-INCOMPLETO', 'COMPLETAR', 'INTENSIVO'], ['99', 'MARÍA BERTHA CRUZ ALANOCA', 'La Paz', '88', 'ERIKA', 'PRINCIPIANTE', '0- INCOMPLETO', 'NO SE PRESENTO', 'INTENSIVO'], ['100', 'MARIA DE LA PAZ QUIROZ POZO DE QUISPE', 'Potosí', '91', 'ERIKA', 'PRINCIPIANTE', '6-INCOMPLETO', 'CONTINUAR', 'INTENSIVO'], ['101', 'MARIA DEL CARMEN LOPEZ VELASCO', 'Santa Cruz', '89', 'RUTH', 'BASICO', '5- INCOMPLETO', 'CONTINUAR', 'INTENSIVO'], ['102', 'MARIA EUGENIA ZACARI SIÑANI', 'La Paz', '93', 'ERIKA', 'PRINCIPIANTE', 'COMPLETO', 'CONTINUAR', 'INTENSIVO'], ['103', 'MARÍA FERNANDA TARQUINO PADILLA', 'Beni', '76', 'HELEN', 'BASICO', '0- INCOMPLETO', 'NO SE PRESENTO', 'INTENSIVO'], ['104', 'MARIA LIZBETH GUERRERO SANDOVAL', 'Tarija', '108', 'MARIA', 'PRINCIPIANTE', '8-INCOMPLETO', 'CONTINUAR', 'INTENSIVO'], ['105', 'MARIEL ANDREA ALDAPI VELASQUEZ', 'Tarija', '90', 'HELEN', 'BASICO', '0- INCOMPLETO', 'CONTINUAR', 'INTENSIVO'], ['106', 'MARITZA MARIBEL MANUELANI DIAS', 'Santa Cruz', '81', 'MARIA', 'PRINCIPIANTE', 'COMPLETAS', 'CONGELAR - SALUD', 'INTENSIVO'], ['107', 'MASSIEL MARCELA ESCALANTE CANEDO', 'La Paz', '98', 'RUTH', 'BASICO', '2-INCOMPLETO', 'RETIRAR', 'INTENSIVO'], ['108', 'MATÍAS CRISTHOPER LÓPEZ SANCHEZ', 'Tarija', '89', 'MARIAN', 'INTERMEDIO', '0- INCOMPLETO', 'NO SE PRESENTO', 'INTENSIVO'], ['109', 'MELISA CANAVIRI MAMANI', 'La Paz', '91', 'NICOLAS', 'PRINCIPIANTE', 'COMPLETO', 'CONGELAR - HORARIO', 'INTENSIVO'], ['110', 'MICAELA NOELIA CATARI ARUQUIPA', 'La Paz', '80', 'RUTH', 'BASICO', '8- INCOMPLETO', 'CONTINUAR', 'INTENSIVO'], ['111', 'MILEY JILL UÑO MAMANI', 'Potosí', '86', 'NICOLAS', 'PRINCIPIANTE', '3-INCOMPLETO', 'CONTINUAR', 'INTENSIVO'], ['112', 'MOISES CHOQUEHUANCA CHOQUE', 'La Paz', '103', 'MARIA', 'PRINCIPIANTE', '8- INCOMPLETO', 'CONGELAR - TITULACION', 'INTENSIVO'], ['113', 'NAOMI ZAMIRA APAZA ALANOCA', 'La Paz', '91', 'HELEN', 'BASICO', '3- INCOMPLETO', 'POR CONFIRMAR', 'INTENSIVO'], ['114', 'NATALIA SOLEDAD GUTIÉRREZ ALMAZÁN', 'Tarija', '95', 'MARIAN', 'INTERMEDIO', 'COMPLETO - 10', 'POR CONFIRMAR', 'INTENSIVO'], ['115', 'NEIDY LILIAN MENESES ALVARO', 'Cochabamba', '87', 'LOURDES', 'INTERMEDIO', '0- INCOMPLETO', 'POR CONFIRMAR', 'INTENSIVO'], ['116', 'NELA KAREN PACOSILLO PACOSILLO', 'La Paz', '89', 'ERIKA', 'PRINCIPIANTE', 'COMPLETO', 'CONTINUAR', 'INTENSIVO'], ['117', 'NELSI MENECES PANIAGUA', 'Cochabamba', '102', 'MARIA', 'PRINCIPIANTE', 'COMPLETO', 'CONTINUAR', 'INTENSIVO'], ['118', 'NIVIA MELANIA LAURA AVENDAÑO', 'La Paz', '93', 'ERIKA', 'PRINCIPIANTE', '6- INCOMPLETO', 'CONTINUAR', 'INTENSIVO'], ['119', 'NOEMI CANO REJAS', 'Cochabamba', '100', 'MARIA', 'PRINCIPIANTE', '7- INCOMPLETO', 'NO SE PRESENTO', 'INTENSIVO'], ['120', 'NORAH HUAGUATINTA CHOQUE', 'Sucre', '88', 'MARIAN', 'INTERMEDIO', '0- INCOMPLETO', 'CONGELAR - HORARIO', 'INTENSIVO'], ['121', 'OLGA CAMILA NOELI HERRERA', 'La Paz', '82', 'LOURDES', 'INTERMEDIO', '0- INCOMPLETO', 'NO SE PRESENTO', 'INTENSIVO'], ['122', 'OMAR ISRAEL ROCHA MARCONI', 'La Paz', '84', 'LOURDES', 'INTERMEDIO', '0- INCOMPLETO', 'CONTINUAR', 'INTENSIVO'], ['123', 'OSCAR AARON LUNA CHUQUIMIA', 'La Paz', '79', 'HELEN', 'BASICO', '3- INCOMPLETO', 'NO SE PRESENTO', 'INTENSIVO'], ['124', 'OSCAR MARIO VASQUEZ MERCADO', 'Santa Cruz', '79', 'NICOLAS', 'PRINCIPIANTE', 'COMPLETO-14', 'CONTINUAR', 'INTENSIVO'], ['125', 'OSMAR ALBIN QUISPE VELIZ', 'Potosí', '86', 'MARIA', 'PRINCIPIANTE', 'COMPLETO', 'CONGELAR - TRABAJO', 'INTENSIVO'], ['126', 'PABLO JUNIOR SIERRA MONTAÑO', 'La Paz', '85', 'LOURDES', 'INTERMEDIO', '0- INCOMPLETO', 'CONGELAR- TITULACION', 'INTENSIVO'], ['127', 'PABLO RONALD CUELLAR SORIA GALVARRO', 'Cochabamba', '79', 'RUTH', 'BASICO', 'COMPLETO-10', 'CONGELAR', 'INTENSIVO'], ['128', 'PAMELA ROSSE MARY REA RAMOS', 'Oruro', '93', 'RUTH', 'BASICO', '8- INCOMPLETO', 'CONTINUAR', 'INTENSIVO'], ['129', 'PAOLA CHIPANA CAIPE', 'Potosí', '75', 'RUTH', 'BASICO', '4-INCOMPLETO', 'NO SE PRESENTO', 'INTENSIVO'], ['130', 'PAOLA TAMARA VIDEA ARAMAYO', 'La Paz', '89', 'LOURDES', 'INTERMEDIO', '5- INCOMPLETO', 'NO SE PRESENTO', 'INTENSIVO'], ['131', 'PATRICIA CELESTE TICONA RODRÍGUEZ', 'La Paz', '92', 'ERIKA', 'PRINCIPIANTE', 'COMPLETO', 'POR CONFIRMAR', 'INTENSIVO'], ['132', 'PATRICK FERNANDO TERAN CLAROS', 'Cochabamba', '82', 'LOURDES', 'INTERMEDIO', '5- INCOMPLETO', 'NO SE PRESENTO', 'INTENSIVO'], ['133', 'ROSA AMAYA LIMACHI SÁNCHEZ', 'La Paz', '94', 'NICOLAS', 'PRINCIPIANTE', '6- INCOMPLETO', 'CONTINUAR', 'INTENSIVO'], ['134', 'SARAHI GABRIELA ARION', 'Potosí', '81', 'HELEN', 'BASICO', '0- INCOMPLETA', 'CONTINUAR', 'INTENSIVO'], ['135', 'SILKA AIDE AYMA CHOQUE', 'Cochabamba', '93', 'RUTH', 'BASICO', '6- INCOMPLETA', 'POR CONFIRMAR', 'INTENSIVO'], ['136', 'SONIA TICONA CHINO', 'La Paz', '99', 'MARIA', 'PRINCIPIANTE', '2- INCOMPLETA', 'CONGELAR - HORARIOS', 'INTENSIVO'], ['137', 'SORAYA DE LA CRUZ YUPANQUI', 'La Paz', '75', 'HELEN', 'BASICO', 'COMPLETO', 'CONGELAR - TIEMPO', 'INTENSIVO'], ['138', 'STEVEN YAQUIL CALIZAYA CHOQUETANGA', 'La Paz', '81', 'MARIA', 'PRINCIPIANTE', '4- INCOMPLETO', 'CONTINUAR', 'INTENSIVO'], ['139', 'STIVEN CASTELLON DURAN', 'Cochabamba', '84', 'LOURDES', 'INTERMEDIO', '7- INCOMPLETO', 'CONGELAR - TRABAJO', 'INTENSIVO'], ['140', 'TANIA ALVAREZ VALLEJOS', 'Cochabamba', '89', 'ERIKA', 'PRINCIPIANTE', 'COMPLETO - 10', 'POR CONFIRMAR', 'INTENSIVO'], ['141', 'TANIA ROSAYCELA COAQUIRA LICOTA', 'La Paz', '93', 'RUTH', 'BASICO', '7- INCOMPLETO', 'POR CONFIRMAR', 'INTENSIVO'], ['142', 'TIAGO UZZIEL QUISPE QUISBERT', 'La Paz', '90', 'NICOLAS', 'PRINCIPIANTE', '0- INCOMPLETO', 'NO SE PRESENTO', 'INTENSIVO'], ['143', 'VAQUERA CESPEDES DIMAR EDUVIT', 'Tarija', '93', 'MARIA', 'PRINCIPIANTE', '0- INCOMPLETO', 'NO SE PRESENTO', 'INTENSIVO'], ['144', 'VERONICA CACERES SILVESTRE', 'Cochabamba', '88', 'LOURDES', 'INTERMEDIO', 'COMPLETO', 'CONTINUAR', 'INTENSIVO'], ['145', 'VICTOR ANTONIO ZURITA BORJA', 'Cochabamba', '89', 'RUTH', 'BASICO', '0- INCOMPLETA', 'CONGELAR - TRABAJO', 'INTENSIVO'], ['146', 'VICTOR EDUARDO JIMÉNEZ MARTÍNEZ', 'Tarija', '90', 'ERIKA', 'PRINCIPIANTE', '0- INCOMPLETO', 'NO SE PRESENTO', 'INTENSIVO'], ['147', 'YANIRA MILENCA ESTRADA BERRIOS', 'La Paz', '87', 'RUTH', 'BASICO', '0- INCOMPLETO', 'NO SE PRESENTO', 'INTENSIVO'], ['148', 'YOCELIN MIRIAM FLORES FLORES', 'La Paz', '83', 'RUTH', 'BASICO', '2- INCOMPLETO', 'CONTINUAR', 'INTENSIVO']]\n"
     ]
    }
   ],
   "source": [
    "# Open the PDF file\n",
    "with pdfplumber.open('GM_LISTA_MAYO_INTENSIVO.pdf') as pdf:\n",
    "    for page in pdf.pages:\n",
    "        tables = page.extract_table()\n",
    "        print(tables)"
   ]
  },
  {
   "cell_type": "code",
   "execution_count": 3,
   "id": "6e5782cb-3e43-462e-8725-8c6cb201bde1",
   "metadata": {},
   "outputs": [
    {
     "data": {
      "application/vnd.microsoft.datawrangler.viewer.v0+json": {
       "columns": [
        {
         "name": "index",
         "rawType": "int64",
         "type": "integer"
        },
        {
         "name": "Nº",
         "rawType": "object",
         "type": "string"
        },
        {
         "name": "Nombre del Estudiante",
         "rawType": "object",
         "type": "string"
        },
        {
         "name": "DEPARTAMENT\nO",
         "rawType": "object",
         "type": "string"
        },
        {
         "name": "TOTAL\nGENERAL",
         "rawType": "object",
         "type": "string"
        },
        {
         "name": "DOCENTE",
         "rawType": "object",
         "type": "string"
        },
        {
         "name": "NIVEL",
         "rawType": "object",
         "type": "string"
        },
        {
         "name": "ACTIVIDADES",
         "rawType": "object",
         "type": "string"
        },
        {
         "name": "CONTINUIDAD",
         "rawType": "object",
         "type": "string"
        },
        {
         "name": "MODALIDAD",
         "rawType": "object",
         "type": "string"
        }
       ],
       "ref": "bdfa46da-b33b-4ef9-8aef-b2786f35f7c7",
       "rows": [
        [
         "0",
         "1",
         "ALBANY MADELINE GARCIA MONASTERIOS",
         "La Paz",
         "81",
         "MARIAN",
         "INTERMEDIO",
         "COMPLETO -11",
         "CONGELAR - TRABAJO",
         "INTENSIVO"
        ],
        [
         "1",
         "2",
         "ALICIA MAMANI QUISPE",
         "La Paz",
         "75",
         "MARIA",
         "PRINCIPIANTE",
         "0- INCOMPLETO",
         "CONGELAR - TRABAJO",
         "INTENSIVO"
        ],
        [
         "2",
         "3",
         "ALVARO WILCARANI CHAMBI",
         "Oruro",
         "76",
         "LOURDES",
         "INTERMEDIO",
         "0- INCOMPLETO",
         "NO SE PRESENTO",
         "INTENSIVO"
        ],
        [
         "3",
         "4",
         "AMEL RUDDY VASQUEZ SANJINES",
         "La Paz",
         "95",
         "ERIKA",
         "PRINCIPIANTE",
         "COMPLETO -14",
         "CONTINUAR",
         "INTENSIVO"
        ],
        [
         "4",
         "5",
         "ANA NELY QUISPE QUISPE",
         "La Paz",
         "104",
         "NICOLAS",
         "PRINCIPIANTE",
         "COMPLETO - 11",
         "CONTINUAR",
         "INTENSIVO"
        ]
       ],
       "shape": {
        "columns": 9,
        "rows": 5
       }
      },
      "text/html": [
       "<div>\n",
       "<style scoped>\n",
       "    .dataframe tbody tr th:only-of-type {\n",
       "        vertical-align: middle;\n",
       "    }\n",
       "\n",
       "    .dataframe tbody tr th {\n",
       "        vertical-align: top;\n",
       "    }\n",
       "\n",
       "    .dataframe thead th {\n",
       "        text-align: right;\n",
       "    }\n",
       "</style>\n",
       "<table border=\"1\" class=\"dataframe\">\n",
       "  <thead>\n",
       "    <tr style=\"text-align: right;\">\n",
       "      <th></th>\n",
       "      <th>Nº</th>\n",
       "      <th>Nombre del Estudiante</th>\n",
       "      <th>DEPARTAMENT\\nO</th>\n",
       "      <th>TOTAL\\nGENERAL</th>\n",
       "      <th>DOCENTE</th>\n",
       "      <th>NIVEL</th>\n",
       "      <th>ACTIVIDADES</th>\n",
       "      <th>CONTINUIDAD</th>\n",
       "      <th>MODALIDAD</th>\n",
       "    </tr>\n",
       "  </thead>\n",
       "  <tbody>\n",
       "    <tr>\n",
       "      <th>0</th>\n",
       "      <td>1</td>\n",
       "      <td>ALBANY MADELINE GARCIA MONASTERIOS</td>\n",
       "      <td>La Paz</td>\n",
       "      <td>81</td>\n",
       "      <td>MARIAN</td>\n",
       "      <td>INTERMEDIO</td>\n",
       "      <td>COMPLETO -11</td>\n",
       "      <td>CONGELAR - TRABAJO</td>\n",
       "      <td>INTENSIVO</td>\n",
       "    </tr>\n",
       "    <tr>\n",
       "      <th>1</th>\n",
       "      <td>2</td>\n",
       "      <td>ALICIA MAMANI QUISPE</td>\n",
       "      <td>La Paz</td>\n",
       "      <td>75</td>\n",
       "      <td>MARIA</td>\n",
       "      <td>PRINCIPIANTE</td>\n",
       "      <td>0- INCOMPLETO</td>\n",
       "      <td>CONGELAR - TRABAJO</td>\n",
       "      <td>INTENSIVO</td>\n",
       "    </tr>\n",
       "    <tr>\n",
       "      <th>2</th>\n",
       "      <td>3</td>\n",
       "      <td>ALVARO WILCARANI CHAMBI</td>\n",
       "      <td>Oruro</td>\n",
       "      <td>76</td>\n",
       "      <td>LOURDES</td>\n",
       "      <td>INTERMEDIO</td>\n",
       "      <td>0- INCOMPLETO</td>\n",
       "      <td>NO SE PRESENTO</td>\n",
       "      <td>INTENSIVO</td>\n",
       "    </tr>\n",
       "    <tr>\n",
       "      <th>3</th>\n",
       "      <td>4</td>\n",
       "      <td>AMEL RUDDY VASQUEZ SANJINES</td>\n",
       "      <td>La Paz</td>\n",
       "      <td>95</td>\n",
       "      <td>ERIKA</td>\n",
       "      <td>PRINCIPIANTE</td>\n",
       "      <td>COMPLETO -14</td>\n",
       "      <td>CONTINUAR</td>\n",
       "      <td>INTENSIVO</td>\n",
       "    </tr>\n",
       "    <tr>\n",
       "      <th>4</th>\n",
       "      <td>5</td>\n",
       "      <td>ANA NELY QUISPE QUISPE</td>\n",
       "      <td>La Paz</td>\n",
       "      <td>104</td>\n",
       "      <td>NICOLAS</td>\n",
       "      <td>PRINCIPIANTE</td>\n",
       "      <td>COMPLETO - 11</td>\n",
       "      <td>CONTINUAR</td>\n",
       "      <td>INTENSIVO</td>\n",
       "    </tr>\n",
       "  </tbody>\n",
       "</table>\n",
       "</div>"
      ],
      "text/plain": [
       "  Nº               Nombre del Estudiante DEPARTAMENT\\nO TOTAL\\nGENERAL  \\\n",
       "0  1  ALBANY MADELINE GARCIA MONASTERIOS         La Paz             81   \n",
       "1  2                ALICIA MAMANI QUISPE         La Paz             75   \n",
       "2  3             ALVARO WILCARANI CHAMBI          Oruro             76   \n",
       "3  4         AMEL RUDDY VASQUEZ SANJINES         La Paz             95   \n",
       "4  5              ANA NELY QUISPE QUISPE         La Paz            104   \n",
       "\n",
       "   DOCENTE         NIVEL    ACTIVIDADES         CONTINUIDAD  MODALIDAD  \n",
       "0   MARIAN    INTERMEDIO   COMPLETO -11  CONGELAR - TRABAJO  INTENSIVO  \n",
       "1    MARIA  PRINCIPIANTE  0- INCOMPLETO  CONGELAR - TRABAJO  INTENSIVO  \n",
       "2  LOURDES    INTERMEDIO  0- INCOMPLETO      NO SE PRESENTO  INTENSIVO  \n",
       "3    ERIKA  PRINCIPIANTE   COMPLETO -14           CONTINUAR  INTENSIVO  \n",
       "4  NICOLAS  PRINCIPIANTE  COMPLETO - 11           CONTINUAR  INTENSIVO  "
      ]
     },
     "execution_count": 3,
     "metadata": {},
     "output_type": "execute_result"
    }
   ],
   "source": [
    "#| output: False\n",
    "# Extracción\n",
    "pdf = 'GM_LISTA_MAYO_INTENSIVO.pdf'\n",
    "\n",
    "def extract_table(path_pdf: str, page: int): \n",
    "    with pdfplumber.open(path_pdf) as pdf:\n",
    "        pagina = pdf.pages[page]\n",
    "        tabla = pagina.extract_table()\n",
    "    return tabla\n",
    "\n",
    "tabla_1 = extract_table(pdf, 0)\n",
    "tabla_2 = extract_table(pdf, 1)\n",
    "# Se convierte la tabla en un DataFrame\n",
    "df_1 = pd.DataFrame(tabla_1[1:], columns=tabla_1[0])\n",
    "df_2 = pd.DataFrame(tabla_2[0:], columns=tabla_1[0])\n",
    "\n",
    "df_1.head()"
   ]
  },
  {
   "cell_type": "code",
   "execution_count": 4,
   "id": "9e2ecc2f-21da-42e6-a65c-8099a50d97a4",
   "metadata": {
    "scrolled": true
   },
   "outputs": [
    {
     "data": {
      "application/vnd.microsoft.datawrangler.viewer.v0+json": {
       "columns": [
        {
         "name": "index",
         "rawType": "int64",
         "type": "integer"
        },
        {
         "name": "Nº",
         "rawType": "object",
         "type": "string"
        },
        {
         "name": "Nombre del Estudiante",
         "rawType": "object",
         "type": "string"
        },
        {
         "name": "DEPARTAMENT\nO",
         "rawType": "object",
         "type": "string"
        },
        {
         "name": "TOTAL\nGENERAL",
         "rawType": "object",
         "type": "string"
        },
        {
         "name": "DOCENTE",
         "rawType": "object",
         "type": "string"
        },
        {
         "name": "NIVEL",
         "rawType": "object",
         "type": "string"
        },
        {
         "name": "ACTIVIDADES",
         "rawType": "object",
         "type": "string"
        },
        {
         "name": "CONTINUIDAD",
         "rawType": "object",
         "type": "string"
        },
        {
         "name": "MODALIDAD",
         "rawType": "object",
         "type": "string"
        }
       ],
       "ref": "bf82e505-3e93-4106-9fee-3ce0b17563fb",
       "rows": [
        [
         "49",
         "144",
         "VERONICA CACERES SILVESTRE",
         "Cochabamba",
         "88",
         "LOURDES",
         "INTERMEDIO",
         "COMPLETO",
         "CONTINUAR",
         "INTENSIVO"
        ],
        [
         "50",
         "145",
         "VICTOR ANTONIO ZURITA BORJA",
         "Cochabamba",
         "89",
         "RUTH",
         "BASICO",
         "0- INCOMPLETA",
         "CONGELAR - TRABAJO",
         "INTENSIVO"
        ],
        [
         "51",
         "146",
         "VICTOR EDUARDO JIMÉNEZ MARTÍNEZ",
         "Tarija",
         "90",
         "ERIKA",
         "PRINCIPIANTE",
         "0- INCOMPLETO",
         "NO SE PRESENTO",
         "INTENSIVO"
        ],
        [
         "52",
         "147",
         "YANIRA MILENCA ESTRADA BERRIOS",
         "La Paz",
         "87",
         "RUTH",
         "BASICO",
         "0- INCOMPLETO",
         "NO SE PRESENTO",
         "INTENSIVO"
        ],
        [
         "53",
         "148",
         "YOCELIN MIRIAM FLORES FLORES",
         "La Paz",
         "83",
         "RUTH",
         "BASICO",
         "2- INCOMPLETO",
         "CONTINUAR",
         "INTENSIVO"
        ]
       ],
       "shape": {
        "columns": 9,
        "rows": 5
       }
      },
      "text/html": [
       "<div>\n",
       "<style scoped>\n",
       "    .dataframe tbody tr th:only-of-type {\n",
       "        vertical-align: middle;\n",
       "    }\n",
       "\n",
       "    .dataframe tbody tr th {\n",
       "        vertical-align: top;\n",
       "    }\n",
       "\n",
       "    .dataframe thead th {\n",
       "        text-align: right;\n",
       "    }\n",
       "</style>\n",
       "<table border=\"1\" class=\"dataframe\">\n",
       "  <thead>\n",
       "    <tr style=\"text-align: right;\">\n",
       "      <th></th>\n",
       "      <th>Nº</th>\n",
       "      <th>Nombre del Estudiante</th>\n",
       "      <th>DEPARTAMENT\\nO</th>\n",
       "      <th>TOTAL\\nGENERAL</th>\n",
       "      <th>DOCENTE</th>\n",
       "      <th>NIVEL</th>\n",
       "      <th>ACTIVIDADES</th>\n",
       "      <th>CONTINUIDAD</th>\n",
       "      <th>MODALIDAD</th>\n",
       "    </tr>\n",
       "  </thead>\n",
       "  <tbody>\n",
       "    <tr>\n",
       "      <th>49</th>\n",
       "      <td>144</td>\n",
       "      <td>VERONICA CACERES SILVESTRE</td>\n",
       "      <td>Cochabamba</td>\n",
       "      <td>88</td>\n",
       "      <td>LOURDES</td>\n",
       "      <td>INTERMEDIO</td>\n",
       "      <td>COMPLETO</td>\n",
       "      <td>CONTINUAR</td>\n",
       "      <td>INTENSIVO</td>\n",
       "    </tr>\n",
       "    <tr>\n",
       "      <th>50</th>\n",
       "      <td>145</td>\n",
       "      <td>VICTOR ANTONIO ZURITA BORJA</td>\n",
       "      <td>Cochabamba</td>\n",
       "      <td>89</td>\n",
       "      <td>RUTH</td>\n",
       "      <td>BASICO</td>\n",
       "      <td>0- INCOMPLETA</td>\n",
       "      <td>CONGELAR - TRABAJO</td>\n",
       "      <td>INTENSIVO</td>\n",
       "    </tr>\n",
       "    <tr>\n",
       "      <th>51</th>\n",
       "      <td>146</td>\n",
       "      <td>VICTOR EDUARDO JIMÉNEZ MARTÍNEZ</td>\n",
       "      <td>Tarija</td>\n",
       "      <td>90</td>\n",
       "      <td>ERIKA</td>\n",
       "      <td>PRINCIPIANTE</td>\n",
       "      <td>0- INCOMPLETO</td>\n",
       "      <td>NO SE PRESENTO</td>\n",
       "      <td>INTENSIVO</td>\n",
       "    </tr>\n",
       "    <tr>\n",
       "      <th>52</th>\n",
       "      <td>147</td>\n",
       "      <td>YANIRA MILENCA ESTRADA BERRIOS</td>\n",
       "      <td>La Paz</td>\n",
       "      <td>87</td>\n",
       "      <td>RUTH</td>\n",
       "      <td>BASICO</td>\n",
       "      <td>0- INCOMPLETO</td>\n",
       "      <td>NO SE PRESENTO</td>\n",
       "      <td>INTENSIVO</td>\n",
       "    </tr>\n",
       "    <tr>\n",
       "      <th>53</th>\n",
       "      <td>148</td>\n",
       "      <td>YOCELIN MIRIAM FLORES FLORES</td>\n",
       "      <td>La Paz</td>\n",
       "      <td>83</td>\n",
       "      <td>RUTH</td>\n",
       "      <td>BASICO</td>\n",
       "      <td>2- INCOMPLETO</td>\n",
       "      <td>CONTINUAR</td>\n",
       "      <td>INTENSIVO</td>\n",
       "    </tr>\n",
       "  </tbody>\n",
       "</table>\n",
       "</div>"
      ],
      "text/plain": [
       "     Nº            Nombre del Estudiante DEPARTAMENT\\nO TOTAL\\nGENERAL  \\\n",
       "49  144       VERONICA CACERES SILVESTRE     Cochabamba             88   \n",
       "50  145      VICTOR ANTONIO ZURITA BORJA     Cochabamba             89   \n",
       "51  146  VICTOR EDUARDO JIMÉNEZ MARTÍNEZ         Tarija             90   \n",
       "52  147   YANIRA MILENCA ESTRADA BERRIOS         La Paz             87   \n",
       "53  148     YOCELIN MIRIAM FLORES FLORES         La Paz             83   \n",
       "\n",
       "    DOCENTE         NIVEL    ACTIVIDADES         CONTINUIDAD  MODALIDAD  \n",
       "49  LOURDES    INTERMEDIO       COMPLETO           CONTINUAR  INTENSIVO  \n",
       "50     RUTH        BASICO  0- INCOMPLETA  CONGELAR - TRABAJO  INTENSIVO  \n",
       "51    ERIKA  PRINCIPIANTE  0- INCOMPLETO      NO SE PRESENTO  INTENSIVO  \n",
       "52     RUTH        BASICO  0- INCOMPLETO      NO SE PRESENTO  INTENSIVO  \n",
       "53     RUTH        BASICO  2- INCOMPLETO           CONTINUAR  INTENSIVO  "
      ]
     },
     "execution_count": 4,
     "metadata": {},
     "output_type": "execute_result"
    }
   ],
   "source": [
    "#| output: False\n",
    "df_2.tail()"
   ]
  },
  {
   "cell_type": "markdown",
   "id": "a44c410a",
   "metadata": {},
   "source": [
    "A continuacion se tiene una muestra del conjunto de datos extraido:"
   ]
  },
  {
   "cell_type": "code",
   "execution_count": 5,
   "id": "049d58b7-70cd-4df2-9f33-7a56d7b7fa1b",
   "metadata": {},
   "outputs": [
    {
     "data": {
      "application/vnd.microsoft.datawrangler.viewer.v0+json": {
       "columns": [
        {
         "name": "index",
         "rawType": "int64",
         "type": "integer"
        },
        {
         "name": "Nº",
         "rawType": "object",
         "type": "string"
        },
        {
         "name": "Nombre del Estudiante",
         "rawType": "object",
         "type": "string"
        },
        {
         "name": "DEPARTAMENT\nO",
         "rawType": "object",
         "type": "string"
        },
        {
         "name": "TOTAL\nGENERAL",
         "rawType": "object",
         "type": "string"
        },
        {
         "name": "DOCENTE",
         "rawType": "object",
         "type": "string"
        },
        {
         "name": "NIVEL",
         "rawType": "object",
         "type": "string"
        },
        {
         "name": "ACTIVIDADES",
         "rawType": "object",
         "type": "string"
        },
        {
         "name": "CONTINUIDAD",
         "rawType": "object",
         "type": "string"
        },
        {
         "name": "MODALIDAD",
         "rawType": "object",
         "type": "string"
        }
       ],
       "ref": "5ff84cf2-8d22-4228-98c5-9b83ffda2f78",
       "rows": [
        [
         "0",
         "1",
         "ALBANY MADELINE GARCIA MONASTERIOS",
         "La Paz",
         "81",
         "MARIAN",
         "INTERMEDIO",
         "COMPLETO -11",
         "CONGELAR - TRABAJO",
         "INTENSIVO"
        ],
        [
         "1",
         "2",
         "ALICIA MAMANI QUISPE",
         "La Paz",
         "75",
         "MARIA",
         "PRINCIPIANTE",
         "0- INCOMPLETO",
         "CONGELAR - TRABAJO",
         "INTENSIVO"
        ],
        [
         "2",
         "3",
         "ALVARO WILCARANI CHAMBI",
         "Oruro",
         "76",
         "LOURDES",
         "INTERMEDIO",
         "0- INCOMPLETO",
         "NO SE PRESENTO",
         "INTENSIVO"
        ],
        [
         "3",
         "4",
         "AMEL RUDDY VASQUEZ SANJINES",
         "La Paz",
         "95",
         "ERIKA",
         "PRINCIPIANTE",
         "COMPLETO -14",
         "CONTINUAR",
         "INTENSIVO"
        ],
        [
         "4",
         "5",
         "ANA NELY QUISPE QUISPE",
         "La Paz",
         "104",
         "NICOLAS",
         "PRINCIPIANTE",
         "COMPLETO - 11",
         "CONTINUAR",
         "INTENSIVO"
        ]
       ],
       "shape": {
        "columns": 9,
        "rows": 5
       }
      },
      "text/html": [
       "<div>\n",
       "<style scoped>\n",
       "    .dataframe tbody tr th:only-of-type {\n",
       "        vertical-align: middle;\n",
       "    }\n",
       "\n",
       "    .dataframe tbody tr th {\n",
       "        vertical-align: top;\n",
       "    }\n",
       "\n",
       "    .dataframe thead th {\n",
       "        text-align: right;\n",
       "    }\n",
       "</style>\n",
       "<table border=\"1\" class=\"dataframe\">\n",
       "  <thead>\n",
       "    <tr style=\"text-align: right;\">\n",
       "      <th></th>\n",
       "      <th>Nº</th>\n",
       "      <th>Nombre del Estudiante</th>\n",
       "      <th>DEPARTAMENT\\nO</th>\n",
       "      <th>TOTAL\\nGENERAL</th>\n",
       "      <th>DOCENTE</th>\n",
       "      <th>NIVEL</th>\n",
       "      <th>ACTIVIDADES</th>\n",
       "      <th>CONTINUIDAD</th>\n",
       "      <th>MODALIDAD</th>\n",
       "    </tr>\n",
       "  </thead>\n",
       "  <tbody>\n",
       "    <tr>\n",
       "      <th>0</th>\n",
       "      <td>1</td>\n",
       "      <td>ALBANY MADELINE GARCIA MONASTERIOS</td>\n",
       "      <td>La Paz</td>\n",
       "      <td>81</td>\n",
       "      <td>MARIAN</td>\n",
       "      <td>INTERMEDIO</td>\n",
       "      <td>COMPLETO -11</td>\n",
       "      <td>CONGELAR - TRABAJO</td>\n",
       "      <td>INTENSIVO</td>\n",
       "    </tr>\n",
       "    <tr>\n",
       "      <th>1</th>\n",
       "      <td>2</td>\n",
       "      <td>ALICIA MAMANI QUISPE</td>\n",
       "      <td>La Paz</td>\n",
       "      <td>75</td>\n",
       "      <td>MARIA</td>\n",
       "      <td>PRINCIPIANTE</td>\n",
       "      <td>0- INCOMPLETO</td>\n",
       "      <td>CONGELAR - TRABAJO</td>\n",
       "      <td>INTENSIVO</td>\n",
       "    </tr>\n",
       "    <tr>\n",
       "      <th>2</th>\n",
       "      <td>3</td>\n",
       "      <td>ALVARO WILCARANI CHAMBI</td>\n",
       "      <td>Oruro</td>\n",
       "      <td>76</td>\n",
       "      <td>LOURDES</td>\n",
       "      <td>INTERMEDIO</td>\n",
       "      <td>0- INCOMPLETO</td>\n",
       "      <td>NO SE PRESENTO</td>\n",
       "      <td>INTENSIVO</td>\n",
       "    </tr>\n",
       "    <tr>\n",
       "      <th>3</th>\n",
       "      <td>4</td>\n",
       "      <td>AMEL RUDDY VASQUEZ SANJINES</td>\n",
       "      <td>La Paz</td>\n",
       "      <td>95</td>\n",
       "      <td>ERIKA</td>\n",
       "      <td>PRINCIPIANTE</td>\n",
       "      <td>COMPLETO -14</td>\n",
       "      <td>CONTINUAR</td>\n",
       "      <td>INTENSIVO</td>\n",
       "    </tr>\n",
       "    <tr>\n",
       "      <th>4</th>\n",
       "      <td>5</td>\n",
       "      <td>ANA NELY QUISPE QUISPE</td>\n",
       "      <td>La Paz</td>\n",
       "      <td>104</td>\n",
       "      <td>NICOLAS</td>\n",
       "      <td>PRINCIPIANTE</td>\n",
       "      <td>COMPLETO - 11</td>\n",
       "      <td>CONTINUAR</td>\n",
       "      <td>INTENSIVO</td>\n",
       "    </tr>\n",
       "  </tbody>\n",
       "</table>\n",
       "</div>"
      ],
      "text/plain": [
       "  Nº               Nombre del Estudiante DEPARTAMENT\\nO TOTAL\\nGENERAL  \\\n",
       "0  1  ALBANY MADELINE GARCIA MONASTERIOS         La Paz             81   \n",
       "1  2                ALICIA MAMANI QUISPE         La Paz             75   \n",
       "2  3             ALVARO WILCARANI CHAMBI          Oruro             76   \n",
       "3  4         AMEL RUDDY VASQUEZ SANJINES         La Paz             95   \n",
       "4  5              ANA NELY QUISPE QUISPE         La Paz            104   \n",
       "\n",
       "   DOCENTE         NIVEL    ACTIVIDADES         CONTINUIDAD  MODALIDAD  \n",
       "0   MARIAN    INTERMEDIO   COMPLETO -11  CONGELAR - TRABAJO  INTENSIVO  \n",
       "1    MARIA  PRINCIPIANTE  0- INCOMPLETO  CONGELAR - TRABAJO  INTENSIVO  \n",
       "2  LOURDES    INTERMEDIO  0- INCOMPLETO      NO SE PRESENTO  INTENSIVO  \n",
       "3    ERIKA  PRINCIPIANTE   COMPLETO -14           CONTINUAR  INTENSIVO  \n",
       "4  NICOLAS  PRINCIPIANTE  COMPLETO - 11           CONTINUAR  INTENSIVO  "
      ]
     },
     "execution_count": 5,
     "metadata": {},
     "output_type": "execute_result"
    }
   ],
   "source": [
    "df_total = pd.concat([df_1, df_2], ignore_index=True)\n",
    "df_total.head()"
   ]
  },
  {
   "cell_type": "markdown",
   "id": "979e538f-8772-4472-80a3-97a929374007",
   "metadata": {},
   "source": [
    "::: {.content-hidden}\n",
    "## Limpieza de datos\n"
   ]
  },
  {
   "cell_type": "code",
   "execution_count": 6,
   "id": "5a3ea57a-cd87-4800-9aa1-8a12fe432966",
   "metadata": {},
   "outputs": [
    {
     "data": {
      "text/plain": [
       "(148, 9)"
      ]
     },
     "execution_count": 6,
     "metadata": {},
     "output_type": "execute_result"
    }
   ],
   "source": [
    "#| output: False\n",
    "df_total.shape"
   ]
  },
  {
   "cell_type": "code",
   "execution_count": 7,
   "id": "16ba8786-1b79-40ee-82c9-aeaab170055f",
   "metadata": {},
   "outputs": [
    {
     "data": {
      "text/plain": [
       "Index(['Nº', 'Nombre del Estudiante', 'DEPARTAMENT\\nO', 'TOTAL\\nGENERAL',\n",
       "       'DOCENTE', 'NIVEL', 'ACTIVIDADES', 'CONTINUIDAD', 'MODALIDAD'],\n",
       "      dtype='object')"
      ]
     },
     "execution_count": 7,
     "metadata": {},
     "output_type": "execute_result"
    }
   ],
   "source": [
    "df_total.columns"
   ]
  },
  {
   "cell_type": "code",
   "execution_count": 8,
   "id": "c79159a1-ef33-4f11-9471-bb3380058079",
   "metadata": {},
   "outputs": [
    {
     "data": {
      "text/plain": [
       "Index(['nº', 'nombre_del_estudiante', 'departamento', 'totalgeneral',\n",
       "       'docente', 'nivel', 'actividades', 'continuidad', 'modalidad'],\n",
       "      dtype='object')"
      ]
     },
     "execution_count": 8,
     "metadata": {},
     "output_type": "execute_result"
    }
   ],
   "source": [
    "# corrigiendo el nombre de las columnas\n",
    "df_total.columns = (\n",
    "    df_total.columns\n",
    "    .str.lower()\n",
    "    .str.replace('\\n', '')\n",
    "    .str.replace(' ', '_') \n",
    ")\n",
    "df_total.columns"
   ]
  },
  {
   "cell_type": "code",
   "execution_count": 9,
   "id": "cf6f62bd-dc11-4de8-ab68-f30dea3e116e",
   "metadata": {},
   "outputs": [
    {
     "data": {
      "application/vnd.microsoft.datawrangler.viewer.v0+json": {
       "columns": [
        {
         "name": "index",
         "rawType": "int64",
         "type": "integer"
        },
        {
         "name": "nº",
         "rawType": "object",
         "type": "string"
        },
        {
         "name": "nombre_del_estudiante",
         "rawType": "object",
         "type": "string"
        },
        {
         "name": "departamento",
         "rawType": "object",
         "type": "string"
        },
        {
         "name": "totalgeneral",
         "rawType": "object",
         "type": "string"
        },
        {
         "name": "docente",
         "rawType": "object",
         "type": "string"
        },
        {
         "name": "nivel",
         "rawType": "object",
         "type": "string"
        },
        {
         "name": "actividades",
         "rawType": "object",
         "type": "string"
        },
        {
         "name": "continuidad",
         "rawType": "object",
         "type": "string"
        },
        {
         "name": "modalidad",
         "rawType": "object",
         "type": "string"
        }
       ],
       "ref": "f4fad44b-9cfa-4dbe-8705-189972496449",
       "rows": [
        [
         "0",
         "1",
         "ALBANY MADELINE GARCIA MONASTERIOS",
         "La Paz",
         "81",
         "MARIAN",
         "INTERMEDIO",
         "COMPLETO -11",
         "CONGELAR - TRABAJO",
         "INTENSIVO"
        ],
        [
         "1",
         "2",
         "ALICIA MAMANI QUISPE",
         "La Paz",
         "75",
         "MARIA",
         "PRINCIPIANTE",
         "0- INCOMPLETO",
         "CONGELAR - TRABAJO",
         "INTENSIVO"
        ],
        [
         "2",
         "3",
         "ALVARO WILCARANI CHAMBI",
         "Oruro",
         "76",
         "LOURDES",
         "INTERMEDIO",
         "0- INCOMPLETO",
         "NO SE PRESENTO",
         "INTENSIVO"
        ],
        [
         "3",
         "4",
         "AMEL RUDDY VASQUEZ SANJINES",
         "La Paz",
         "95",
         "ERIKA",
         "PRINCIPIANTE",
         "COMPLETO -14",
         "CONTINUAR",
         "INTENSIVO"
        ],
        [
         "4",
         "5",
         "ANA NELY QUISPE QUISPE",
         "La Paz",
         "104",
         "NICOLAS",
         "PRINCIPIANTE",
         "COMPLETO - 11",
         "CONTINUAR",
         "INTENSIVO"
        ],
        [
         "5",
         "6",
         "ANA RAQUEL QUELCA CADENA",
         "Cochabamba",
         "97",
         "HELEN",
         "BASICO",
         "4- INCOMPLETO",
         "CONTINUAR",
         "INTENSIVO"
        ],
        [
         "6",
         "7",
         "ANA ROXANA CABALLERO MARQUEZ",
         "Sucre",
         "88",
         "NICOLAS",
         "PRINCIPIANTE",
         "COMPLETO -12",
         "CONTINUAR",
         "INTENSIVO"
        ],
        [
         "7",
         "8",
         "ANA YOVANNA VEGA FERNÁNDEZ",
         "La Paz",
         "90",
         "ERIKA",
         "PRINCIPIANTE",
         "",
         "CONTINUAR",
         "INTENSIVO"
        ],
        [
         "8",
         "9",
         "ANDREA XIMENA FLORES ALVARADO",
         "Sucre",
         "90",
         "ERIKA",
         "PRINCIPIANTE",
         "1- INCOMPLETO",
         "NO SE PRESENTO",
         "INTENSIVO"
        ],
        [
         "9",
         "10",
         "ARACELY CALLISAYA BLANCO",
         "La Paz",
         "97",
         "HELEN",
         "BASICO",
         "8- INCOMPLETO",
         "CONTINUAR",
         "INTENSIVO"
        ],
        [
         "10",
         "11",
         "ARIANA CELESTE NUÑEZ PAZ",
         "Cochabamba",
         "82",
         "MARIAN",
         "INTERMEDIO",
         "0- INCOMPLETO",
         "RETIRAR - HORARIOS",
         "INTENSIVO"
        ],
        [
         "11",
         "12",
         "ARIEL IGNACIO SAAVEDRA MARQUEZ",
         "La Paz",
         "78",
         "HELEN",
         "BASICO",
         "1- INCOMPLETO",
         "CONTINUAR",
         "INTENSIVO"
        ],
        [
         "12",
         "13",
         "AZAMAR ALANA CHACÓN MENDOZA",
         "La Paz",
         "97",
         "RUTH",
         "BASICO",
         "COMPLETO",
         "CONTINUAR",
         "INTENSIVO"
        ],
        [
         "13",
         "14",
         "BEYDA ALEJANDRA BARRIENTOS URIONA",
         "Sucre",
         "107",
         "MARIA",
         "PRINCIPIANTE",
         "3-INCOMPLETO",
         "CONTINUAR",
         "INTENSIVO"
        ],
        [
         "14",
         "15",
         "BORIS MARCELO VALENZUELA SAIRE",
         "Santa Cruz",
         "89",
         "ERIKA",
         "PRINCIPIANTE",
         "6- INCOMPLETO",
         "CONTINUAR",
         "INTENSIVO"
        ],
        [
         "15",
         "16",
         "BRENDA BEATRIZ UGARTE ARCE",
         "La Paz",
         "87",
         "LOURDES",
         "INTERMEDIO",
         "COMPLETO -11",
         "CONTINUAR",
         "INTENSIVO"
        ],
        [
         "16",
         "17",
         "BRIGITTA KATA KIMBERGER MESZAROS",
         "La Paz",
         "75",
         "MARIAN",
         "INTERMEDIO",
         "COMPLETO - 12",
         "CONGELAR -PREMILITAR",
         "INTENSIVO"
        ],
        [
         "17",
         "18",
         "BRISAN MONTAÑO MAMANI",
         "Potosí",
         "87",
         "ERIKA",
         "PRINCIPIANTE",
         "0- INCOMPLETO",
         "NO SE PRESENTO",
         "INTENSIVO"
        ],
        [
         "18",
         "19",
         "BRISEICA TINTA FEBRERO",
         "La Paz",
         "92",
         "MARIA",
         "PRINCIPIANTE",
         "2- INCOMPLETO",
         "CONTINUAR",
         "INTENSIVO"
        ],
        [
         "19",
         "20",
         "BRYAN EDUARDO LIZARRAGA SALAZAR",
         "Sucre",
         "76",
         "HELEN",
         "BASICO",
         "COMPLETO",
         "CONTINUAR",
         "INTENSIVO"
        ],
        [
         "20",
         "21",
         "BRYSEIDA ABIGAIL QUISPE CHATA",
         "La Paz",
         "95",
         "ERIKA",
         "PRINCIPIANTE",
         "0- INCOMPLETO",
         "NO SE PRESENTO",
         "INTENSIVO"
        ],
        [
         "21",
         "22",
         "CADY BELL ALEGADO AREQUIPA",
         "La Paz",
         "95",
         "HELEN",
         "BASICO",
         "7- INCOMPLETO",
         "CONTINUAR",
         "INTENSIVO"
        ],
        [
         "22",
         "23",
         "CAMILA ZÚÑIGA IBARRA",
         "Cochabamba",
         "93",
         "NICOLAS",
         "PRINCIPIANTE",
         "COMPLETO -12",
         "CONTINUAR",
         "INTENSIVO"
        ],
        [
         "23",
         "24",
         "CAREN MILENKA CAHUASA GARAY",
         "Cochabamba",
         "96",
         "LOURDES",
         "INTERMEDIO",
         "COMPLETO -10",
         "CONTINUAR",
         "INTENSIVO"
        ],
        [
         "24",
         "25",
         "CARLA ANDREA ALEGRIA CHURA",
         "La Paz",
         "99",
         "NICOLAS",
         "PRINCIPIANTE",
         "COMPLETO",
         "POR DEFINIR",
         "INTENSIVO"
        ],
        [
         "25",
         "26",
         "CARLA YESENIA ZUÑAGUA SOTO",
         "Cochabamba",
         "108",
         "MARIA",
         "PRINCIPIANTE",
         "COMPLETO -10",
         "CONTINUAR",
         "INTENSIVO"
        ],
        [
         "26",
         "27",
         "CARMELA SANDRA CALLICONDE CARRASCO",
         "La Paz",
         "107",
         "MARIA",
         "PRINCIPIANTE",
         "COMPLETO -13",
         "CONTINUAR",
         "INTENSIVO"
        ],
        [
         "27",
         "28",
         "CARMEN GLADYS ESPINOZA MAMANI",
         "La Paz",
         "104",
         "MARIA",
         "PRINCIPIANTE",
         "4- INCOMPLETO",
         "CONTINUAR",
         "INTENSIVO"
        ],
        [
         "28",
         "29",
         "CAROLA NEYDA QUISPE LLAMPAS",
         "La Paz",
         "91",
         "MARIAN",
         "INTERMEDIO",
         "0- INCOMPLETO",
         "NO SE PRESENTO",
         "INTENSIVO"
        ],
        [
         "29",
         "30",
         "CAROLAI BRIGHITTE PEREZ SALGUEIRO",
         "Cochabamba",
         "97",
         "MARIAN",
         "INTERMEDIO",
         "8- INCOMPLETO",
         "CONTINUAR",
         "INTENSIVO"
        ],
        [
         "30",
         "31",
         "CAROLINA GARZON JANCO",
         "Tarija",
         "89",
         "RUTH",
         "BASICO",
         "COMPLETO-11",
         "CONTINUAR",
         "INTENSIVO"
        ],
        [
         "31",
         "32",
         "CIELO ESMERALDA PALENQUE PINTO",
         "Sucre",
         "78",
         "HELEN",
         "BASICO",
         "COMPLETO -13",
         "CONTINUAR",
         "INTENSIVO"
        ],
        [
         "32",
         "33",
         "CIELO NORIE MAMANI CHOQUE",
         "La Paz",
         "82",
         "NICOLAS",
         "PRINCIPIANTE",
         "5- INCOMPLETO",
         "CONTINUAR",
         "INTENSIVO"
        ],
        [
         "33",
         "34",
         "COSETTE CAROL ANTEZANA MAITA",
         "Cochabamba",
         "80",
         "HELEN",
         "BASICO",
         "COMPLETO",
         "CONTINUAR",
         "INTENSIVO"
        ],
        [
         "34",
         "35",
         "CRISTINA AVENDAÑO RIOS",
         "Santa Cruz",
         "77",
         "HELEN",
         "BASICO",
         "6-INCOMPLETO",
         "CONTINUAR",
         "INTENSIVO"
        ],
        [
         "35",
         "36",
         "DANIELA NOELIA NINA APAZA",
         "La Paz",
         "107",
         "MARIA",
         "PRINCIPIANTE",
         "COMPLETO",
         "CONTINUAR",
         "INTENSIVO"
        ],
        [
         "36",
         "37",
         "DANIELA SAAVEDRA CESPEDES",
         "Cochabamba",
         "90",
         "RUTH",
         "BASICO",
         "COMPLETO -10",
         "CONTINUAR",
         "INTENSIVO"
        ],
        [
         "37",
         "38",
         "DANNA NICOLE CATACORA MACHICADO",
         "La Paz",
         "98",
         "NICOLAS",
         "PRINCIPIANTE",
         "COMPLETO",
         "CONTINUAR",
         "INTENSIVO"
        ],
        [
         "38",
         "39",
         "DANTE ANDREE YUPANQUI RODRIGUEZ",
         "La Paz",
         "92",
         "MARIA",
         "PRINCIPIANTE",
         "4- INCOMPLETO",
         "CONTINUAR",
         "INTENSIVO"
        ],
        [
         "39",
         "40",
         "DELIA VILLARROEL ROMERO",
         "Santa Cruz",
         "83",
         "LOURDES",
         "INTERMEDIO",
         "8- INCOMPLETO",
         "POR DEFINIR",
         "INTENSIVO"
        ],
        [
         "40",
         "41",
         "DIANA ERIKA CAPAJIQUI AJNO",
         "La Paz",
         "82",
         "NICOLAS",
         "PRINCIPIANTE",
         "COMPLETO -10",
         "NO SE PRESENTO",
         "INTENSIVO"
        ],
        [
         "41",
         "42",
         "DOMINIK MICHEL ESPINOZA MIRANDA",
         "La Paz",
         "98",
         "HELEN",
         "BASICO",
         "COMPLETO -19",
         "CONGELAR- INTERNADO",
         "INTENSIVO"
        ],
        [
         "42",
         "43",
         "EDDY ADAMO ROJAS VALVERDE",
         "La Paz",
         "79",
         "RUTH",
         "BASICO",
         "2-INCOMPLETO",
         "CONTINUAR",
         "INTENSIVO"
        ],
        [
         "43",
         "44",
         "EDILSON GUTIERREZ AYALA",
         "Cochabamba",
         "88",
         "ERIKA",
         "PRINCIPIANTE",
         "1- INCOMPLETO",
         "CONTINUAR",
         "INTENSIVO"
        ],
        [
         "44",
         "45",
         "ELIANE GABRIEL CABA LÓPEZ",
         "Sucre",
         "88",
         "MARIA",
         "PRINCIPIANTE",
         "2- INCOMPLETO",
         "CONGELAR- PRACTICAS",
         "INTENSIVO"
        ],
        [
         "45",
         "46",
         "ERICA EVELIN ROMERO SARDINAS",
         "Potosí",
         "89",
         "RUTH",
         "BASICO",
         "1- INCOMPLETO",
         "CONGELAR - SALUD",
         "INTENSIVO"
        ],
        [
         "46",
         "47",
         "EVA NORAH ALANOCA QUENTA",
         "La Paz",
         "93",
         "ERIKA",
         "PRINCIPIANTE",
         "COMPLETO -10",
         "CONTINUAR",
         "INTENSIVO"
        ],
        [
         "47",
         "48",
         "EVELIN ONDARZA VARGAS",
         "Cochabamba",
         "83",
         "MARIAN",
         "INTERMEDIO",
         "COMPLETO",
         "CONTINUAR",
         "INTENSIVO"
        ],
        [
         "48",
         "49",
         "FABIOLA VANESSA OLORIO QUISBERT",
         "La Paz",
         "101",
         "MARIA",
         "PRINCIPIANTE",
         "COMPLETO -10",
         "CONTINUAR",
         "INTENSIVO"
        ],
        [
         "49",
         "50",
         "FABRICIO GONZALO ROMERO AREVALO",
         "La Paz",
         "92",
         "HELEN",
         "BASICO",
         "COMPLETO",
         "CONTINUAR",
         "INTENSIVO"
        ]
       ],
       "shape": {
        "columns": 9,
        "rows": 148
       }
      },
      "text/html": [
       "<div>\n",
       "<style scoped>\n",
       "    .dataframe tbody tr th:only-of-type {\n",
       "        vertical-align: middle;\n",
       "    }\n",
       "\n",
       "    .dataframe tbody tr th {\n",
       "        vertical-align: top;\n",
       "    }\n",
       "\n",
       "    .dataframe thead th {\n",
       "        text-align: right;\n",
       "    }\n",
       "</style>\n",
       "<table border=\"1\" class=\"dataframe\">\n",
       "  <thead>\n",
       "    <tr style=\"text-align: right;\">\n",
       "      <th></th>\n",
       "      <th>nº</th>\n",
       "      <th>nombre_del_estudiante</th>\n",
       "      <th>departamento</th>\n",
       "      <th>totalgeneral</th>\n",
       "      <th>docente</th>\n",
       "      <th>nivel</th>\n",
       "      <th>actividades</th>\n",
       "      <th>continuidad</th>\n",
       "      <th>modalidad</th>\n",
       "    </tr>\n",
       "  </thead>\n",
       "  <tbody>\n",
       "    <tr>\n",
       "      <th>0</th>\n",
       "      <td>1</td>\n",
       "      <td>ALBANY MADELINE GARCIA MONASTERIOS</td>\n",
       "      <td>La Paz</td>\n",
       "      <td>81</td>\n",
       "      <td>MARIAN</td>\n",
       "      <td>INTERMEDIO</td>\n",
       "      <td>COMPLETO -11</td>\n",
       "      <td>CONGELAR - TRABAJO</td>\n",
       "      <td>INTENSIVO</td>\n",
       "    </tr>\n",
       "    <tr>\n",
       "      <th>1</th>\n",
       "      <td>2</td>\n",
       "      <td>ALICIA MAMANI QUISPE</td>\n",
       "      <td>La Paz</td>\n",
       "      <td>75</td>\n",
       "      <td>MARIA</td>\n",
       "      <td>PRINCIPIANTE</td>\n",
       "      <td>0- INCOMPLETO</td>\n",
       "      <td>CONGELAR - TRABAJO</td>\n",
       "      <td>INTENSIVO</td>\n",
       "    </tr>\n",
       "    <tr>\n",
       "      <th>2</th>\n",
       "      <td>3</td>\n",
       "      <td>ALVARO WILCARANI CHAMBI</td>\n",
       "      <td>Oruro</td>\n",
       "      <td>76</td>\n",
       "      <td>LOURDES</td>\n",
       "      <td>INTERMEDIO</td>\n",
       "      <td>0- INCOMPLETO</td>\n",
       "      <td>NO SE PRESENTO</td>\n",
       "      <td>INTENSIVO</td>\n",
       "    </tr>\n",
       "    <tr>\n",
       "      <th>3</th>\n",
       "      <td>4</td>\n",
       "      <td>AMEL RUDDY VASQUEZ SANJINES</td>\n",
       "      <td>La Paz</td>\n",
       "      <td>95</td>\n",
       "      <td>ERIKA</td>\n",
       "      <td>PRINCIPIANTE</td>\n",
       "      <td>COMPLETO -14</td>\n",
       "      <td>CONTINUAR</td>\n",
       "      <td>INTENSIVO</td>\n",
       "    </tr>\n",
       "    <tr>\n",
       "      <th>4</th>\n",
       "      <td>5</td>\n",
       "      <td>ANA NELY QUISPE QUISPE</td>\n",
       "      <td>La Paz</td>\n",
       "      <td>104</td>\n",
       "      <td>NICOLAS</td>\n",
       "      <td>PRINCIPIANTE</td>\n",
       "      <td>COMPLETO - 11</td>\n",
       "      <td>CONTINUAR</td>\n",
       "      <td>INTENSIVO</td>\n",
       "    </tr>\n",
       "    <tr>\n",
       "      <th>...</th>\n",
       "      <td>...</td>\n",
       "      <td>...</td>\n",
       "      <td>...</td>\n",
       "      <td>...</td>\n",
       "      <td>...</td>\n",
       "      <td>...</td>\n",
       "      <td>...</td>\n",
       "      <td>...</td>\n",
       "      <td>...</td>\n",
       "    </tr>\n",
       "    <tr>\n",
       "      <th>143</th>\n",
       "      <td>144</td>\n",
       "      <td>VERONICA CACERES SILVESTRE</td>\n",
       "      <td>Cochabamba</td>\n",
       "      <td>88</td>\n",
       "      <td>LOURDES</td>\n",
       "      <td>INTERMEDIO</td>\n",
       "      <td>COMPLETO</td>\n",
       "      <td>CONTINUAR</td>\n",
       "      <td>INTENSIVO</td>\n",
       "    </tr>\n",
       "    <tr>\n",
       "      <th>144</th>\n",
       "      <td>145</td>\n",
       "      <td>VICTOR ANTONIO ZURITA BORJA</td>\n",
       "      <td>Cochabamba</td>\n",
       "      <td>89</td>\n",
       "      <td>RUTH</td>\n",
       "      <td>BASICO</td>\n",
       "      <td>0- INCOMPLETA</td>\n",
       "      <td>CONGELAR - TRABAJO</td>\n",
       "      <td>INTENSIVO</td>\n",
       "    </tr>\n",
       "    <tr>\n",
       "      <th>145</th>\n",
       "      <td>146</td>\n",
       "      <td>VICTOR EDUARDO JIMÉNEZ MARTÍNEZ</td>\n",
       "      <td>Tarija</td>\n",
       "      <td>90</td>\n",
       "      <td>ERIKA</td>\n",
       "      <td>PRINCIPIANTE</td>\n",
       "      <td>0- INCOMPLETO</td>\n",
       "      <td>NO SE PRESENTO</td>\n",
       "      <td>INTENSIVO</td>\n",
       "    </tr>\n",
       "    <tr>\n",
       "      <th>146</th>\n",
       "      <td>147</td>\n",
       "      <td>YANIRA MILENCA ESTRADA BERRIOS</td>\n",
       "      <td>La Paz</td>\n",
       "      <td>87</td>\n",
       "      <td>RUTH</td>\n",
       "      <td>BASICO</td>\n",
       "      <td>0- INCOMPLETO</td>\n",
       "      <td>NO SE PRESENTO</td>\n",
       "      <td>INTENSIVO</td>\n",
       "    </tr>\n",
       "    <tr>\n",
       "      <th>147</th>\n",
       "      <td>148</td>\n",
       "      <td>YOCELIN MIRIAM FLORES FLORES</td>\n",
       "      <td>La Paz</td>\n",
       "      <td>83</td>\n",
       "      <td>RUTH</td>\n",
       "      <td>BASICO</td>\n",
       "      <td>2- INCOMPLETO</td>\n",
       "      <td>CONTINUAR</td>\n",
       "      <td>INTENSIVO</td>\n",
       "    </tr>\n",
       "  </tbody>\n",
       "</table>\n",
       "<p>148 rows × 9 columns</p>\n",
       "</div>"
      ],
      "text/plain": [
       "      nº               nombre_del_estudiante departamento totalgeneral  \\\n",
       "0      1  ALBANY MADELINE GARCIA MONASTERIOS       La Paz           81   \n",
       "1      2                ALICIA MAMANI QUISPE       La Paz           75   \n",
       "2      3             ALVARO WILCARANI CHAMBI        Oruro           76   \n",
       "3      4         AMEL RUDDY VASQUEZ SANJINES       La Paz           95   \n",
       "4      5              ANA NELY QUISPE QUISPE       La Paz          104   \n",
       "..   ...                                 ...          ...          ...   \n",
       "143  144          VERONICA CACERES SILVESTRE   Cochabamba           88   \n",
       "144  145         VICTOR ANTONIO ZURITA BORJA   Cochabamba           89   \n",
       "145  146     VICTOR EDUARDO JIMÉNEZ MARTÍNEZ       Tarija           90   \n",
       "146  147      YANIRA MILENCA ESTRADA BERRIOS       La Paz           87   \n",
       "147  148        YOCELIN MIRIAM FLORES FLORES       La Paz           83   \n",
       "\n",
       "     docente         nivel    actividades         continuidad  modalidad  \n",
       "0     MARIAN    INTERMEDIO   COMPLETO -11  CONGELAR - TRABAJO  INTENSIVO  \n",
       "1      MARIA  PRINCIPIANTE  0- INCOMPLETO  CONGELAR - TRABAJO  INTENSIVO  \n",
       "2    LOURDES    INTERMEDIO  0- INCOMPLETO      NO SE PRESENTO  INTENSIVO  \n",
       "3      ERIKA  PRINCIPIANTE   COMPLETO -14           CONTINUAR  INTENSIVO  \n",
       "4    NICOLAS  PRINCIPIANTE  COMPLETO - 11           CONTINUAR  INTENSIVO  \n",
       "..       ...           ...            ...                 ...        ...  \n",
       "143  LOURDES    INTERMEDIO       COMPLETO           CONTINUAR  INTENSIVO  \n",
       "144     RUTH        BASICO  0- INCOMPLETA  CONGELAR - TRABAJO  INTENSIVO  \n",
       "145    ERIKA  PRINCIPIANTE  0- INCOMPLETO      NO SE PRESENTO  INTENSIVO  \n",
       "146     RUTH        BASICO  0- INCOMPLETO      NO SE PRESENTO  INTENSIVO  \n",
       "147     RUTH        BASICO  2- INCOMPLETO           CONTINUAR  INTENSIVO  \n",
       "\n",
       "[148 rows x 9 columns]"
      ]
     },
     "execution_count": 9,
     "metadata": {},
     "output_type": "execute_result"
    }
   ],
   "source": [
    "df_total"
   ]
  },
  {
   "cell_type": "code",
   "execution_count": 10,
   "id": "0c64a155-1645-41de-977b-472fc94013ef",
   "metadata": {},
   "outputs": [
    {
     "data": {
      "application/vnd.microsoft.datawrangler.viewer.v0+json": {
       "columns": [
        {
         "name": "index",
         "rawType": "object",
         "type": "string"
        },
        {
         "name": "0",
         "rawType": "int64",
         "type": "integer"
        }
       ],
       "ref": "13d14e14-7f05-4d5a-9e54-d61b186ba815",
       "rows": [
        [
         "nº",
         "0"
        ],
        [
         "nombre_del_estudiante",
         "0"
        ],
        [
         "departamento",
         "0"
        ],
        [
         "totalgeneral",
         "0"
        ],
        [
         "docente",
         "0"
        ],
        [
         "nivel",
         "0"
        ],
        [
         "actividades",
         "0"
        ],
        [
         "continuidad",
         "0"
        ],
        [
         "modalidad",
         "0"
        ]
       ],
       "shape": {
        "columns": 1,
        "rows": 9
       }
      },
      "text/plain": [
       "nº                       0\n",
       "nombre_del_estudiante    0\n",
       "departamento             0\n",
       "totalgeneral             0\n",
       "docente                  0\n",
       "nivel                    0\n",
       "actividades              0\n",
       "continuidad              0\n",
       "modalidad                0\n",
       "dtype: int64"
      ]
     },
     "execution_count": 10,
     "metadata": {},
     "output_type": "execute_result"
    }
   ],
   "source": [
    "df_total.isnull().sum()"
   ]
  },
  {
   "cell_type": "markdown",
   "id": "37abcdb0-4685-47de-8815-5f85b7273b5b",
   "metadata": {},
   "source": [
    "* No se tienen valores nulos o faltantes"
   ]
  },
  {
   "cell_type": "code",
   "execution_count": 11,
   "id": "cfe93460-bd65-4b22-9f5a-722865dd7262",
   "metadata": {},
   "outputs": [
    {
     "data": {
      "text/plain": [
       "0"
      ]
     },
     "execution_count": 11,
     "metadata": {},
     "output_type": "execute_result"
    }
   ],
   "source": [
    "df_total.duplicated().sum() # revision de valores duplicados"
   ]
  },
  {
   "cell_type": "code",
   "execution_count": 12,
   "id": "0f7b6edb-8dba-42e7-87b9-c779d09d0bd4",
   "metadata": {},
   "outputs": [
    {
     "name": "stdout",
     "output_type": "stream",
     "text": [
      "<class 'pandas.core.frame.DataFrame'>\n",
      "RangeIndex: 148 entries, 0 to 147\n",
      "Data columns (total 9 columns):\n",
      " #   Column                 Non-Null Count  Dtype \n",
      "---  ------                 --------------  ----- \n",
      " 0   nº                     148 non-null    object\n",
      " 1   nombre_del_estudiante  148 non-null    object\n",
      " 2   departamento           148 non-null    object\n",
      " 3   totalgeneral           148 non-null    object\n",
      " 4   docente                148 non-null    object\n",
      " 5   nivel                  148 non-null    object\n",
      " 6   actividades            148 non-null    object\n",
      " 7   continuidad            148 non-null    object\n",
      " 8   modalidad              148 non-null    object\n",
      "dtypes: object(9)\n",
      "memory usage: 10.5+ KB\n"
     ]
    }
   ],
   "source": [
    "df_total.info()"
   ]
  },
  {
   "cell_type": "code",
   "execution_count": 13,
   "id": "cf92811f-50a2-4941-b439-310356e3569c",
   "metadata": {},
   "outputs": [],
   "source": [
    "cols_categories = ['departamento', 'docente', 'nivel', 'actividades', 'continuidad', 'modalidad']"
   ]
  },
  {
   "cell_type": "code",
   "execution_count": 14,
   "id": "4e0ef42f-803a-4fd4-8851-bc197efa493c",
   "metadata": {},
   "outputs": [
    {
     "name": "stdout",
     "output_type": "stream",
     "text": [
      "departamento:\n",
      "['La Paz' 'Oruro' 'Cochabamba' 'Sucre' 'Santa Cruz' 'Potosí' 'Tarija'\n",
      " 'Beni']\n",
      "----------------------------------------------------------------------\n",
      "docente:\n",
      "['MARIAN' 'MARIA' 'LOURDES' 'ERIKA' 'NICOLAS' 'HELEN' 'RUTH']\n",
      "----------------------------------------------------------------------\n",
      "nivel:\n",
      "['INTERMEDIO' 'PRINCIPIANTE' 'BASICO']\n",
      "----------------------------------------------------------------------\n",
      "actividades:\n",
      "['COMPLETO -11' '0- INCOMPLETO' 'COMPLETO -14' 'COMPLETO - 11'\n",
      " '4- INCOMPLETO' 'COMPLETO -12' '' '1- INCOMPLETO' '8- INCOMPLETO'\n",
      " 'COMPLETO' '3-INCOMPLETO' '6- INCOMPLETO' 'COMPLETO - 12' '2- INCOMPLETO'\n",
      " '7- INCOMPLETO' 'COMPLETO -10' 'COMPLETO -13' 'COMPLETO-11'\n",
      " '5- INCOMPLETO' '6-INCOMPLETO' 'COMPLETO -19' '2-INCOMPLETO'\n",
      " '1-INCOMPLETO' 'COMPLETO-12' 'COMPLETO-10' '8-INCOMPLETO' 'INCOMPLETO'\n",
      " '4-INCOMPLETO' '7- INCOMPLETO0' '7-INCOMPLETO' '5-INCOMPLETO' 'COMPLETAS'\n",
      " '3- INCOMPLETO' 'COMPLETO - 10' 'COMPLETO-14' '0- INCOMPLETA'\n",
      " '6- INCOMPLETA' '2- INCOMPLETA']\n",
      "----------------------------------------------------------------------\n",
      "continuidad:\n",
      "['CONGELAR - TRABAJO' 'NO SE PRESENTO' 'CONTINUAR' 'RETIRAR - HORARIOS'\n",
      " 'CONGELAR -PREMILITAR' 'POR DEFINIR' 'CONGELAR- INTERNADO'\n",
      " 'CONGELAR- PRACTICAS' 'CONGELAR - SALUD' 'CONGELAR- ESTUDIO'\n",
      " 'CONGELAR - PREMILITAR' 'CONGELAR-ACADEMICO' 'POR CONFIRMAR' 'COMPLETAR'\n",
      " 'RETIRAR' 'CONGELAR - HORARIO' 'CONGELAR - TITULACION'\n",
      " 'CONGELAR- TITULACION' 'CONGELAR' 'CONGELAR - HORARIOS'\n",
      " 'CONGELAR - TIEMPO']\n",
      "----------------------------------------------------------------------\n",
      "modalidad:\n",
      "['INTENSIVO']\n",
      "----------------------------------------------------------------------\n"
     ]
    }
   ],
   "source": [
    "# revision de los valores categoricos presentes en cada columna, revision de espacios o caracteres\n",
    "for col in cols_categories:\n",
    "    print(col+\":\")\n",
    "    print(df_total[col].unique())\n",
    "    print(\"-\"*70)"
   ]
  },
  {
   "cell_type": "code",
   "execution_count": 15,
   "id": "373338ec-d260-4454-8151-02f7206dd2b0",
   "metadata": {},
   "outputs": [
    {
     "data": {
      "text/plain": [
       "0"
      ]
     },
     "execution_count": 15,
     "metadata": {},
     "output_type": "execute_result"
    }
   ],
   "source": [
    "# Verificación de nulos despues de la conversion a enteros\n",
    "pd.to_numeric(df_total.totalgeneral, errors='coerce').isnull().sum() # no hay valores nulos en la columna de calificación"
   ]
  },
  {
   "cell_type": "code",
   "execution_count": 16,
   "id": "22de0f6b-5c58-460d-baeb-f05707436758",
   "metadata": {},
   "outputs": [
    {
     "name": "stdout",
     "output_type": "stream",
     "text": [
      "\n",
      "7- INCOMPLETO0\n",
      "COMPLETAS\n",
      "0- INCOMPLETA\n",
      "6- INCOMPLETA\n",
      "2- INCOMPLETA\n"
     ]
    }
   ],
   "source": [
    "# Se filtran las cadenas para detectar palabras distintas de COMPLETO e INCOMPLETO para poder tratarlas.\n",
    "for s in df_total.actividades.unique():\n",
    "    if not re.search(r'\\b(COMPLETO|INCOMPLETO)\\b', s):\n",
    "        print(s)"
   ]
  },
  {
   "cell_type": "code",
   "execution_count": 17,
   "id": "a82dfe4b-6253-4a1c-b835-c722921ca6b6",
   "metadata": {
    "scrolled": true
   },
   "outputs": [],
   "source": [
    "def extract_num(actividad): \n",
    "    if 'COMPLETO' == actividad: # solamente 'completo' == 9\n",
    "        return 9\n",
    "    numeros = re.findall(r'\\d+', actividad)\n",
    "    return int(numeros[0]) if numeros else 0\n",
    "\n",
    "# Funcion de limpieza y tratamiento del conjunto de datos\n",
    "def tweak_df(df_total):\n",
    "    return (\n",
    "    df_total\n",
    "    .assign(\n",
    "        totalgeneral=pd.to_numeric(df_total.totalgeneral, errors='coerce'),\n",
    "        actividades=lambda df: (df.actividades\n",
    "                                .str.strip()\n",
    "                                .str.replace('COMPLETAS', 'COMPLETO', regex=False)\n",
    "                                .str.replace('INCOMPLETO0', 'INCOMPLETO', regex=False)\n",
    "                                .str.replace('INCOMPLETA', 'INCOMPLETO', regex=False)\n",
    "                                .replace('', 'SIN INFORMACION', regex=False)\n",
    "                               )\n",
    "    )\n",
    "    .assign(\n",
    "        estado_actividades=lambda df: df.actividades.apply(\n",
    "            lambda x: 'INCOMPLETO' if 'INCOMPLETO' in x else 'COMPLETO'\n",
    "        ),\n",
    "        n_actividades=lambda df: df.actividades.apply(extract_num),\n",
    "        continuidad=lambda df: (df.continuidad\n",
    "                                .str.replace(r'\\s*-\\s*', ' - ', regex=True) # Se normaliza el uso del guion, para evitar repetir categorias\n",
    "                                .replace({\n",
    "                                    'POR DEFINIR': 'POR CONFIRMAR',\n",
    "                                    'CONGELAR - HORARIOS': 'CONGELAR - HORARIO',\n",
    "                                    'CONGELAR - ACADEMICO': 'CONGELAR - ESTUDIO'\n",
    "                                })\n",
    "                               ),\n",
    "        id_estudiante=lambda df: range(1, len(df) + 1), # Anonimización de nombres por seguridad en varios casos\n",
    "    )\n",
    "    .astype({'totalgeneral': 'uint8',\n",
    "             'n_actividades': 'uint8',\n",
    "             'id_estudiante': 'uint8',\n",
    "             **{col:'category' for col in ['departamento', 'docente', 'nivel',\n",
    "               'continuidad', 'modalidad', 'estado_actividades']}\n",
    "    })\n",
    "    [['id_estudiante', 'departamento', 'totalgeneral',\n",
    "    'docente', 'nivel', 'modalidad', 'estado_actividades', \n",
    "    'n_actividades', 'continuidad']]\n",
    "       \n",
    "    \n",
    ")"
   ]
  },
  {
   "cell_type": "markdown",
   "id": "205495c2",
   "metadata": {},
   "source": [
    ":::"
   ]
  },
  {
   "cell_type": "markdown",
   "id": "c5be61f9",
   "metadata": {},
   "source": [
    "Se realizo una limpieza y transformacion de datos para los análisis posteriores.\n",
    "\n",
    "- Tabla procesada"
   ]
  },
  {
   "cell_type": "code",
   "execution_count": 18,
   "id": "dfe39131-dfde-4e7a-93ac-56c366de99a1",
   "metadata": {},
   "outputs": [
    {
     "data": {
      "application/vnd.microsoft.datawrangler.viewer.v0+json": {
       "columns": [
        {
         "name": "index",
         "rawType": "int64",
         "type": "integer"
        },
        {
         "name": "id_estudiante",
         "rawType": "uint8",
         "type": "integer"
        },
        {
         "name": "departamento",
         "rawType": "category",
         "type": "unknown"
        },
        {
         "name": "totalgeneral",
         "rawType": "uint8",
         "type": "integer"
        },
        {
         "name": "docente",
         "rawType": "category",
         "type": "unknown"
        },
        {
         "name": "nivel",
         "rawType": "category",
         "type": "unknown"
        },
        {
         "name": "modalidad",
         "rawType": "category",
         "type": "unknown"
        },
        {
         "name": "estado_actividades",
         "rawType": "category",
         "type": "unknown"
        },
        {
         "name": "n_actividades",
         "rawType": "uint8",
         "type": "integer"
        },
        {
         "name": "continuidad",
         "rawType": "category",
         "type": "unknown"
        }
       ],
       "ref": "90ff19a6-62d4-42f7-86b9-0018810a537d",
       "rows": [
        [
         "0",
         "1",
         "La Paz",
         "81",
         "MARIAN",
         "INTERMEDIO",
         "INTENSIVO",
         "COMPLETO",
         "11",
         "CONGELAR - TRABAJO"
        ],
        [
         "1",
         "2",
         "La Paz",
         "75",
         "MARIA",
         "PRINCIPIANTE",
         "INTENSIVO",
         "INCOMPLETO",
         "0",
         "CONGELAR - TRABAJO"
        ],
        [
         "2",
         "3",
         "Oruro",
         "76",
         "LOURDES",
         "INTERMEDIO",
         "INTENSIVO",
         "INCOMPLETO",
         "0",
         "NO SE PRESENTO"
        ],
        [
         "3",
         "4",
         "La Paz",
         "95",
         "ERIKA",
         "PRINCIPIANTE",
         "INTENSIVO",
         "COMPLETO",
         "14",
         "CONTINUAR"
        ],
        [
         "4",
         "5",
         "La Paz",
         "104",
         "NICOLAS",
         "PRINCIPIANTE",
         "INTENSIVO",
         "COMPLETO",
         "11",
         "CONTINUAR"
        ],
        [
         "5",
         "6",
         "Cochabamba",
         "97",
         "HELEN",
         "BASICO",
         "INTENSIVO",
         "INCOMPLETO",
         "4",
         "CONTINUAR"
        ],
        [
         "6",
         "7",
         "Sucre",
         "88",
         "NICOLAS",
         "PRINCIPIANTE",
         "INTENSIVO",
         "COMPLETO",
         "12",
         "CONTINUAR"
        ],
        [
         "7",
         "8",
         "La Paz",
         "90",
         "ERIKA",
         "PRINCIPIANTE",
         "INTENSIVO",
         "COMPLETO",
         "0",
         "CONTINUAR"
        ],
        [
         "8",
         "9",
         "Sucre",
         "90",
         "ERIKA",
         "PRINCIPIANTE",
         "INTENSIVO",
         "INCOMPLETO",
         "1",
         "NO SE PRESENTO"
        ],
        [
         "9",
         "10",
         "La Paz",
         "97",
         "HELEN",
         "BASICO",
         "INTENSIVO",
         "INCOMPLETO",
         "8",
         "CONTINUAR"
        ],
        [
         "10",
         "11",
         "Cochabamba",
         "82",
         "MARIAN",
         "INTERMEDIO",
         "INTENSIVO",
         "INCOMPLETO",
         "0",
         "RETIRAR - HORARIOS"
        ],
        [
         "11",
         "12",
         "La Paz",
         "78",
         "HELEN",
         "BASICO",
         "INTENSIVO",
         "INCOMPLETO",
         "1",
         "CONTINUAR"
        ],
        [
         "12",
         "13",
         "La Paz",
         "97",
         "RUTH",
         "BASICO",
         "INTENSIVO",
         "COMPLETO",
         "9",
         "CONTINUAR"
        ],
        [
         "13",
         "14",
         "Sucre",
         "107",
         "MARIA",
         "PRINCIPIANTE",
         "INTENSIVO",
         "INCOMPLETO",
         "3",
         "CONTINUAR"
        ],
        [
         "14",
         "15",
         "Santa Cruz",
         "89",
         "ERIKA",
         "PRINCIPIANTE",
         "INTENSIVO",
         "INCOMPLETO",
         "6",
         "CONTINUAR"
        ],
        [
         "15",
         "16",
         "La Paz",
         "87",
         "LOURDES",
         "INTERMEDIO",
         "INTENSIVO",
         "COMPLETO",
         "11",
         "CONTINUAR"
        ],
        [
         "16",
         "17",
         "La Paz",
         "75",
         "MARIAN",
         "INTERMEDIO",
         "INTENSIVO",
         "COMPLETO",
         "12",
         "CONGELAR - PREMILITAR"
        ],
        [
         "17",
         "18",
         "Potosí",
         "87",
         "ERIKA",
         "PRINCIPIANTE",
         "INTENSIVO",
         "INCOMPLETO",
         "0",
         "NO SE PRESENTO"
        ],
        [
         "18",
         "19",
         "La Paz",
         "92",
         "MARIA",
         "PRINCIPIANTE",
         "INTENSIVO",
         "INCOMPLETO",
         "2",
         "CONTINUAR"
        ],
        [
         "19",
         "20",
         "Sucre",
         "76",
         "HELEN",
         "BASICO",
         "INTENSIVO",
         "COMPLETO",
         "9",
         "CONTINUAR"
        ],
        [
         "20",
         "21",
         "La Paz",
         "95",
         "ERIKA",
         "PRINCIPIANTE",
         "INTENSIVO",
         "INCOMPLETO",
         "0",
         "NO SE PRESENTO"
        ],
        [
         "21",
         "22",
         "La Paz",
         "95",
         "HELEN",
         "BASICO",
         "INTENSIVO",
         "INCOMPLETO",
         "7",
         "CONTINUAR"
        ],
        [
         "22",
         "23",
         "Cochabamba",
         "93",
         "NICOLAS",
         "PRINCIPIANTE",
         "INTENSIVO",
         "COMPLETO",
         "12",
         "CONTINUAR"
        ],
        [
         "23",
         "24",
         "Cochabamba",
         "96",
         "LOURDES",
         "INTERMEDIO",
         "INTENSIVO",
         "COMPLETO",
         "10",
         "CONTINUAR"
        ],
        [
         "24",
         "25",
         "La Paz",
         "99",
         "NICOLAS",
         "PRINCIPIANTE",
         "INTENSIVO",
         "COMPLETO",
         "9",
         "POR CONFIRMAR"
        ],
        [
         "25",
         "26",
         "Cochabamba",
         "108",
         "MARIA",
         "PRINCIPIANTE",
         "INTENSIVO",
         "COMPLETO",
         "10",
         "CONTINUAR"
        ],
        [
         "26",
         "27",
         "La Paz",
         "107",
         "MARIA",
         "PRINCIPIANTE",
         "INTENSIVO",
         "COMPLETO",
         "13",
         "CONTINUAR"
        ],
        [
         "27",
         "28",
         "La Paz",
         "104",
         "MARIA",
         "PRINCIPIANTE",
         "INTENSIVO",
         "INCOMPLETO",
         "4",
         "CONTINUAR"
        ],
        [
         "28",
         "29",
         "La Paz",
         "91",
         "MARIAN",
         "INTERMEDIO",
         "INTENSIVO",
         "INCOMPLETO",
         "0",
         "NO SE PRESENTO"
        ],
        [
         "29",
         "30",
         "Cochabamba",
         "97",
         "MARIAN",
         "INTERMEDIO",
         "INTENSIVO",
         "INCOMPLETO",
         "8",
         "CONTINUAR"
        ],
        [
         "30",
         "31",
         "Tarija",
         "89",
         "RUTH",
         "BASICO",
         "INTENSIVO",
         "COMPLETO",
         "11",
         "CONTINUAR"
        ],
        [
         "31",
         "32",
         "Sucre",
         "78",
         "HELEN",
         "BASICO",
         "INTENSIVO",
         "COMPLETO",
         "13",
         "CONTINUAR"
        ],
        [
         "32",
         "33",
         "La Paz",
         "82",
         "NICOLAS",
         "PRINCIPIANTE",
         "INTENSIVO",
         "INCOMPLETO",
         "5",
         "CONTINUAR"
        ],
        [
         "33",
         "34",
         "Cochabamba",
         "80",
         "HELEN",
         "BASICO",
         "INTENSIVO",
         "COMPLETO",
         "9",
         "CONTINUAR"
        ],
        [
         "34",
         "35",
         "Santa Cruz",
         "77",
         "HELEN",
         "BASICO",
         "INTENSIVO",
         "INCOMPLETO",
         "6",
         "CONTINUAR"
        ],
        [
         "35",
         "36",
         "La Paz",
         "107",
         "MARIA",
         "PRINCIPIANTE",
         "INTENSIVO",
         "COMPLETO",
         "9",
         "CONTINUAR"
        ],
        [
         "36",
         "37",
         "Cochabamba",
         "90",
         "RUTH",
         "BASICO",
         "INTENSIVO",
         "COMPLETO",
         "10",
         "CONTINUAR"
        ],
        [
         "37",
         "38",
         "La Paz",
         "98",
         "NICOLAS",
         "PRINCIPIANTE",
         "INTENSIVO",
         "COMPLETO",
         "9",
         "CONTINUAR"
        ],
        [
         "38",
         "39",
         "La Paz",
         "92",
         "MARIA",
         "PRINCIPIANTE",
         "INTENSIVO",
         "INCOMPLETO",
         "4",
         "CONTINUAR"
        ],
        [
         "39",
         "40",
         "Santa Cruz",
         "83",
         "LOURDES",
         "INTERMEDIO",
         "INTENSIVO",
         "INCOMPLETO",
         "8",
         "POR CONFIRMAR"
        ],
        [
         "40",
         "41",
         "La Paz",
         "82",
         "NICOLAS",
         "PRINCIPIANTE",
         "INTENSIVO",
         "COMPLETO",
         "10",
         "NO SE PRESENTO"
        ],
        [
         "41",
         "42",
         "La Paz",
         "98",
         "HELEN",
         "BASICO",
         "INTENSIVO",
         "COMPLETO",
         "19",
         "CONGELAR - INTERNADO"
        ],
        [
         "42",
         "43",
         "La Paz",
         "79",
         "RUTH",
         "BASICO",
         "INTENSIVO",
         "INCOMPLETO",
         "2",
         "CONTINUAR"
        ],
        [
         "43",
         "44",
         "Cochabamba",
         "88",
         "ERIKA",
         "PRINCIPIANTE",
         "INTENSIVO",
         "INCOMPLETO",
         "1",
         "CONTINUAR"
        ],
        [
         "44",
         "45",
         "Sucre",
         "88",
         "MARIA",
         "PRINCIPIANTE",
         "INTENSIVO",
         "INCOMPLETO",
         "2",
         "CONGELAR - PRACTICAS"
        ],
        [
         "45",
         "46",
         "Potosí",
         "89",
         "RUTH",
         "BASICO",
         "INTENSIVO",
         "INCOMPLETO",
         "1",
         "CONGELAR - SALUD"
        ],
        [
         "46",
         "47",
         "La Paz",
         "93",
         "ERIKA",
         "PRINCIPIANTE",
         "INTENSIVO",
         "COMPLETO",
         "10",
         "CONTINUAR"
        ],
        [
         "47",
         "48",
         "Cochabamba",
         "83",
         "MARIAN",
         "INTERMEDIO",
         "INTENSIVO",
         "COMPLETO",
         "9",
         "CONTINUAR"
        ],
        [
         "48",
         "49",
         "La Paz",
         "101",
         "MARIA",
         "PRINCIPIANTE",
         "INTENSIVO",
         "COMPLETO",
         "10",
         "CONTINUAR"
        ],
        [
         "49",
         "50",
         "La Paz",
         "92",
         "HELEN",
         "BASICO",
         "INTENSIVO",
         "COMPLETO",
         "9",
         "CONTINUAR"
        ]
       ],
       "shape": {
        "columns": 9,
        "rows": 148
       }
      },
      "text/html": [
       "<div>\n",
       "<style scoped>\n",
       "    .dataframe tbody tr th:only-of-type {\n",
       "        vertical-align: middle;\n",
       "    }\n",
       "\n",
       "    .dataframe tbody tr th {\n",
       "        vertical-align: top;\n",
       "    }\n",
       "\n",
       "    .dataframe thead th {\n",
       "        text-align: right;\n",
       "    }\n",
       "</style>\n",
       "<table border=\"1\" class=\"dataframe\">\n",
       "  <thead>\n",
       "    <tr style=\"text-align: right;\">\n",
       "      <th></th>\n",
       "      <th>id_estudiante</th>\n",
       "      <th>departamento</th>\n",
       "      <th>totalgeneral</th>\n",
       "      <th>docente</th>\n",
       "      <th>nivel</th>\n",
       "      <th>modalidad</th>\n",
       "      <th>estado_actividades</th>\n",
       "      <th>n_actividades</th>\n",
       "      <th>continuidad</th>\n",
       "    </tr>\n",
       "  </thead>\n",
       "  <tbody>\n",
       "    <tr>\n",
       "      <th>0</th>\n",
       "      <td>1</td>\n",
       "      <td>La Paz</td>\n",
       "      <td>81</td>\n",
       "      <td>MARIAN</td>\n",
       "      <td>INTERMEDIO</td>\n",
       "      <td>INTENSIVO</td>\n",
       "      <td>COMPLETO</td>\n",
       "      <td>11</td>\n",
       "      <td>CONGELAR - TRABAJO</td>\n",
       "    </tr>\n",
       "    <tr>\n",
       "      <th>1</th>\n",
       "      <td>2</td>\n",
       "      <td>La Paz</td>\n",
       "      <td>75</td>\n",
       "      <td>MARIA</td>\n",
       "      <td>PRINCIPIANTE</td>\n",
       "      <td>INTENSIVO</td>\n",
       "      <td>INCOMPLETO</td>\n",
       "      <td>0</td>\n",
       "      <td>CONGELAR - TRABAJO</td>\n",
       "    </tr>\n",
       "    <tr>\n",
       "      <th>2</th>\n",
       "      <td>3</td>\n",
       "      <td>Oruro</td>\n",
       "      <td>76</td>\n",
       "      <td>LOURDES</td>\n",
       "      <td>INTERMEDIO</td>\n",
       "      <td>INTENSIVO</td>\n",
       "      <td>INCOMPLETO</td>\n",
       "      <td>0</td>\n",
       "      <td>NO SE PRESENTO</td>\n",
       "    </tr>\n",
       "    <tr>\n",
       "      <th>3</th>\n",
       "      <td>4</td>\n",
       "      <td>La Paz</td>\n",
       "      <td>95</td>\n",
       "      <td>ERIKA</td>\n",
       "      <td>PRINCIPIANTE</td>\n",
       "      <td>INTENSIVO</td>\n",
       "      <td>COMPLETO</td>\n",
       "      <td>14</td>\n",
       "      <td>CONTINUAR</td>\n",
       "    </tr>\n",
       "    <tr>\n",
       "      <th>4</th>\n",
       "      <td>5</td>\n",
       "      <td>La Paz</td>\n",
       "      <td>104</td>\n",
       "      <td>NICOLAS</td>\n",
       "      <td>PRINCIPIANTE</td>\n",
       "      <td>INTENSIVO</td>\n",
       "      <td>COMPLETO</td>\n",
       "      <td>11</td>\n",
       "      <td>CONTINUAR</td>\n",
       "    </tr>\n",
       "    <tr>\n",
       "      <th>...</th>\n",
       "      <td>...</td>\n",
       "      <td>...</td>\n",
       "      <td>...</td>\n",
       "      <td>...</td>\n",
       "      <td>...</td>\n",
       "      <td>...</td>\n",
       "      <td>...</td>\n",
       "      <td>...</td>\n",
       "      <td>...</td>\n",
       "    </tr>\n",
       "    <tr>\n",
       "      <th>143</th>\n",
       "      <td>144</td>\n",
       "      <td>Cochabamba</td>\n",
       "      <td>88</td>\n",
       "      <td>LOURDES</td>\n",
       "      <td>INTERMEDIO</td>\n",
       "      <td>INTENSIVO</td>\n",
       "      <td>COMPLETO</td>\n",
       "      <td>9</td>\n",
       "      <td>CONTINUAR</td>\n",
       "    </tr>\n",
       "    <tr>\n",
       "      <th>144</th>\n",
       "      <td>145</td>\n",
       "      <td>Cochabamba</td>\n",
       "      <td>89</td>\n",
       "      <td>RUTH</td>\n",
       "      <td>BASICO</td>\n",
       "      <td>INTENSIVO</td>\n",
       "      <td>INCOMPLETO</td>\n",
       "      <td>0</td>\n",
       "      <td>CONGELAR - TRABAJO</td>\n",
       "    </tr>\n",
       "    <tr>\n",
       "      <th>145</th>\n",
       "      <td>146</td>\n",
       "      <td>Tarija</td>\n",
       "      <td>90</td>\n",
       "      <td>ERIKA</td>\n",
       "      <td>PRINCIPIANTE</td>\n",
       "      <td>INTENSIVO</td>\n",
       "      <td>INCOMPLETO</td>\n",
       "      <td>0</td>\n",
       "      <td>NO SE PRESENTO</td>\n",
       "    </tr>\n",
       "    <tr>\n",
       "      <th>146</th>\n",
       "      <td>147</td>\n",
       "      <td>La Paz</td>\n",
       "      <td>87</td>\n",
       "      <td>RUTH</td>\n",
       "      <td>BASICO</td>\n",
       "      <td>INTENSIVO</td>\n",
       "      <td>INCOMPLETO</td>\n",
       "      <td>0</td>\n",
       "      <td>NO SE PRESENTO</td>\n",
       "    </tr>\n",
       "    <tr>\n",
       "      <th>147</th>\n",
       "      <td>148</td>\n",
       "      <td>La Paz</td>\n",
       "      <td>83</td>\n",
       "      <td>RUTH</td>\n",
       "      <td>BASICO</td>\n",
       "      <td>INTENSIVO</td>\n",
       "      <td>INCOMPLETO</td>\n",
       "      <td>2</td>\n",
       "      <td>CONTINUAR</td>\n",
       "    </tr>\n",
       "  </tbody>\n",
       "</table>\n",
       "<p>148 rows × 9 columns</p>\n",
       "</div>"
      ],
      "text/plain": [
       "     id_estudiante departamento  totalgeneral  docente         nivel  \\\n",
       "0                1       La Paz            81   MARIAN    INTERMEDIO   \n",
       "1                2       La Paz            75    MARIA  PRINCIPIANTE   \n",
       "2                3        Oruro            76  LOURDES    INTERMEDIO   \n",
       "3                4       La Paz            95    ERIKA  PRINCIPIANTE   \n",
       "4                5       La Paz           104  NICOLAS  PRINCIPIANTE   \n",
       "..             ...          ...           ...      ...           ...   \n",
       "143            144   Cochabamba            88  LOURDES    INTERMEDIO   \n",
       "144            145   Cochabamba            89     RUTH        BASICO   \n",
       "145            146       Tarija            90    ERIKA  PRINCIPIANTE   \n",
       "146            147       La Paz            87     RUTH        BASICO   \n",
       "147            148       La Paz            83     RUTH        BASICO   \n",
       "\n",
       "     modalidad estado_actividades  n_actividades         continuidad  \n",
       "0    INTENSIVO           COMPLETO             11  CONGELAR - TRABAJO  \n",
       "1    INTENSIVO         INCOMPLETO              0  CONGELAR - TRABAJO  \n",
       "2    INTENSIVO         INCOMPLETO              0      NO SE PRESENTO  \n",
       "3    INTENSIVO           COMPLETO             14           CONTINUAR  \n",
       "4    INTENSIVO           COMPLETO             11           CONTINUAR  \n",
       "..         ...                ...            ...                 ...  \n",
       "143  INTENSIVO           COMPLETO              9           CONTINUAR  \n",
       "144  INTENSIVO         INCOMPLETO              0  CONGELAR - TRABAJO  \n",
       "145  INTENSIVO         INCOMPLETO              0      NO SE PRESENTO  \n",
       "146  INTENSIVO         INCOMPLETO              0      NO SE PRESENTO  \n",
       "147  INTENSIVO         INCOMPLETO              2           CONTINUAR  \n",
       "\n",
       "[148 rows x 9 columns]"
      ]
     },
     "execution_count": 18,
     "metadata": {},
     "output_type": "execute_result"
    }
   ],
   "source": [
    "df_clean = tweak_df(df_total)\n",
    "df_clean"
   ]
  },
  {
   "cell_type": "code",
   "execution_count": 19,
   "id": "b26f99b3-ef04-479c-bf6e-30c2b5d7fe59",
   "metadata": {},
   "outputs": [
    {
     "name": "stdout",
     "output_type": "stream",
     "text": [
      "<class 'pandas.core.frame.DataFrame'>\n",
      "RangeIndex: 148 entries, 0 to 147\n",
      "Data columns (total 9 columns):\n",
      " #   Column              Non-Null Count  Dtype   \n",
      "---  ------              --------------  -----   \n",
      " 0   id_estudiante       148 non-null    uint8   \n",
      " 1   departamento        148 non-null    category\n",
      " 2   totalgeneral        148 non-null    uint8   \n",
      " 3   docente             148 non-null    category\n",
      " 4   nivel               148 non-null    category\n",
      " 5   modalidad           148 non-null    category\n",
      " 6   estado_actividades  148 non-null    category\n",
      " 7   n_actividades       148 non-null    uint8   \n",
      " 8   continuidad         148 non-null    category\n",
      "dtypes: category(6), uint8(3)\n",
      "memory usage: 3.2 KB\n"
     ]
    }
   ],
   "source": [
    "#| output: False\n",
    "df_clean.info()"
   ]
  },
  {
   "cell_type": "markdown",
   "id": "8171558e-05e1-4437-876f-c1d80a22b1e8",
   "metadata": {},
   "source": [
    "## Descripción general y visualizaciones"
   ]
  },
  {
   "cell_type": "code",
   "execution_count": 20,
   "id": "6e9a7799-f536-4c04-9cae-cbcddf639566",
   "metadata": {},
   "outputs": [],
   "source": [
    "import matplotlib.pyplot as plt\n",
    "import seaborn as sns"
   ]
  },
  {
   "cell_type": "code",
   "execution_count": 21,
   "id": "d38f2359-b714-45ea-9eef-587a9faed9b9",
   "metadata": {},
   "outputs": [
    {
     "data": {
      "application/vnd.microsoft.datawrangler.viewer.v0+json": {
       "columns": [
        {
         "name": "index",
         "rawType": "int64",
         "type": "integer"
        },
        {
         "name": "id_estudiante",
         "rawType": "uint8",
         "type": "integer"
        },
        {
         "name": "departamento",
         "rawType": "category",
         "type": "unknown"
        },
        {
         "name": "totalgeneral",
         "rawType": "uint8",
         "type": "integer"
        },
        {
         "name": "docente",
         "rawType": "category",
         "type": "unknown"
        },
        {
         "name": "nivel",
         "rawType": "category",
         "type": "unknown"
        },
        {
         "name": "modalidad",
         "rawType": "category",
         "type": "unknown"
        },
        {
         "name": "estado_actividades",
         "rawType": "category",
         "type": "unknown"
        },
        {
         "name": "n_actividades",
         "rawType": "uint8",
         "type": "integer"
        },
        {
         "name": "continuidad",
         "rawType": "category",
         "type": "unknown"
        }
       ],
       "ref": "90e8d7f1-6127-4b7d-83f0-570c7a0814da",
       "rows": [
        [
         "0",
         "1",
         "La Paz",
         "81",
         "MARIAN",
         "INTERMEDIO",
         "INTENSIVO",
         "COMPLETO",
         "11",
         "CONGELAR - TRABAJO"
        ],
        [
         "1",
         "2",
         "La Paz",
         "75",
         "MARIA",
         "PRINCIPIANTE",
         "INTENSIVO",
         "INCOMPLETO",
         "0",
         "CONGELAR - TRABAJO"
        ],
        [
         "2",
         "3",
         "Oruro",
         "76",
         "LOURDES",
         "INTERMEDIO",
         "INTENSIVO",
         "INCOMPLETO",
         "0",
         "NO SE PRESENTO"
        ],
        [
         "3",
         "4",
         "La Paz",
         "95",
         "ERIKA",
         "PRINCIPIANTE",
         "INTENSIVO",
         "COMPLETO",
         "14",
         "CONTINUAR"
        ],
        [
         "4",
         "5",
         "La Paz",
         "104",
         "NICOLAS",
         "PRINCIPIANTE",
         "INTENSIVO",
         "COMPLETO",
         "11",
         "CONTINUAR"
        ]
       ],
       "shape": {
        "columns": 9,
        "rows": 5
       }
      },
      "text/html": [
       "<div>\n",
       "<style scoped>\n",
       "    .dataframe tbody tr th:only-of-type {\n",
       "        vertical-align: middle;\n",
       "    }\n",
       "\n",
       "    .dataframe tbody tr th {\n",
       "        vertical-align: top;\n",
       "    }\n",
       "\n",
       "    .dataframe thead th {\n",
       "        text-align: right;\n",
       "    }\n",
       "</style>\n",
       "<table border=\"1\" class=\"dataframe\">\n",
       "  <thead>\n",
       "    <tr style=\"text-align: right;\">\n",
       "      <th></th>\n",
       "      <th>id_estudiante</th>\n",
       "      <th>departamento</th>\n",
       "      <th>totalgeneral</th>\n",
       "      <th>docente</th>\n",
       "      <th>nivel</th>\n",
       "      <th>modalidad</th>\n",
       "      <th>estado_actividades</th>\n",
       "      <th>n_actividades</th>\n",
       "      <th>continuidad</th>\n",
       "    </tr>\n",
       "  </thead>\n",
       "  <tbody>\n",
       "    <tr>\n",
       "      <th>0</th>\n",
       "      <td>1</td>\n",
       "      <td>La Paz</td>\n",
       "      <td>81</td>\n",
       "      <td>MARIAN</td>\n",
       "      <td>INTERMEDIO</td>\n",
       "      <td>INTENSIVO</td>\n",
       "      <td>COMPLETO</td>\n",
       "      <td>11</td>\n",
       "      <td>CONGELAR - TRABAJO</td>\n",
       "    </tr>\n",
       "    <tr>\n",
       "      <th>1</th>\n",
       "      <td>2</td>\n",
       "      <td>La Paz</td>\n",
       "      <td>75</td>\n",
       "      <td>MARIA</td>\n",
       "      <td>PRINCIPIANTE</td>\n",
       "      <td>INTENSIVO</td>\n",
       "      <td>INCOMPLETO</td>\n",
       "      <td>0</td>\n",
       "      <td>CONGELAR - TRABAJO</td>\n",
       "    </tr>\n",
       "    <tr>\n",
       "      <th>2</th>\n",
       "      <td>3</td>\n",
       "      <td>Oruro</td>\n",
       "      <td>76</td>\n",
       "      <td>LOURDES</td>\n",
       "      <td>INTERMEDIO</td>\n",
       "      <td>INTENSIVO</td>\n",
       "      <td>INCOMPLETO</td>\n",
       "      <td>0</td>\n",
       "      <td>NO SE PRESENTO</td>\n",
       "    </tr>\n",
       "    <tr>\n",
       "      <th>3</th>\n",
       "      <td>4</td>\n",
       "      <td>La Paz</td>\n",
       "      <td>95</td>\n",
       "      <td>ERIKA</td>\n",
       "      <td>PRINCIPIANTE</td>\n",
       "      <td>INTENSIVO</td>\n",
       "      <td>COMPLETO</td>\n",
       "      <td>14</td>\n",
       "      <td>CONTINUAR</td>\n",
       "    </tr>\n",
       "    <tr>\n",
       "      <th>4</th>\n",
       "      <td>5</td>\n",
       "      <td>La Paz</td>\n",
       "      <td>104</td>\n",
       "      <td>NICOLAS</td>\n",
       "      <td>PRINCIPIANTE</td>\n",
       "      <td>INTENSIVO</td>\n",
       "      <td>COMPLETO</td>\n",
       "      <td>11</td>\n",
       "      <td>CONTINUAR</td>\n",
       "    </tr>\n",
       "  </tbody>\n",
       "</table>\n",
       "</div>"
      ],
      "text/plain": [
       "   id_estudiante departamento  totalgeneral  docente         nivel  modalidad  \\\n",
       "0              1       La Paz            81   MARIAN    INTERMEDIO  INTENSIVO   \n",
       "1              2       La Paz            75    MARIA  PRINCIPIANTE  INTENSIVO   \n",
       "2              3        Oruro            76  LOURDES    INTERMEDIO  INTENSIVO   \n",
       "3              4       La Paz            95    ERIKA  PRINCIPIANTE  INTENSIVO   \n",
       "4              5       La Paz           104  NICOLAS  PRINCIPIANTE  INTENSIVO   \n",
       "\n",
       "  estado_actividades  n_actividades         continuidad  \n",
       "0           COMPLETO             11  CONGELAR - TRABAJO  \n",
       "1         INCOMPLETO              0  CONGELAR - TRABAJO  \n",
       "2         INCOMPLETO              0      NO SE PRESENTO  \n",
       "3           COMPLETO             14           CONTINUAR  \n",
       "4           COMPLETO             11           CONTINUAR  "
      ]
     },
     "execution_count": 21,
     "metadata": {},
     "output_type": "execute_result"
    }
   ],
   "source": [
    "#| output: False\n",
    "df_clean.head()"
   ]
  },
  {
   "cell_type": "code",
   "execution_count": 22,
   "id": "75b3c477-4c71-44f7-9188-442926cab506",
   "metadata": {},
   "outputs": [],
   "source": [
    "dep_count = (\n",
    "    df_clean\n",
    "    .departamento\n",
    "    .value_counts()\n",
    "    .reset_index()\n",
    "    .rename(columns={'index':'departamento',\n",
    "                    'departamento': 'cantidad'})\n",
    ")"
   ]
  },
  {
   "cell_type": "code",
   "execution_count": 23,
   "id": "d0fffc27-9c4c-4ea1-b808-efb5221372b6",
   "metadata": {},
   "outputs": [
    {
     "data": {
      "application/vnd.microsoft.datawrangler.viewer.v0+json": {
       "columns": [
        {
         "name": "index",
         "rawType": "int64",
         "type": "integer"
        },
        {
         "name": "departamento",
         "rawType": "category",
         "type": "unknown"
        },
        {
         "name": "cantidad",
         "rawType": "int64",
         "type": "integer"
        }
       ],
       "ref": "0f91fd85-a980-43e3-a8c0-cad9ac082248",
       "rows": [
        [
         "0",
         "La Paz",
         "71"
        ],
        [
         "1",
         "Cochabamba",
         "28"
        ],
        [
         "2",
         "Sucre",
         "13"
        ],
        [
         "3",
         "Santa Cruz",
         "12"
        ],
        [
         "4",
         "Potosí",
         "9"
        ],
        [
         "5",
         "Tarija",
         "9"
        ],
        [
         "6",
         "Oruro",
         "5"
        ],
        [
         "7",
         "Beni",
         "1"
        ]
       ],
       "shape": {
        "columns": 2,
        "rows": 8
       }
      },
      "text/html": [
       "<div>\n",
       "<style scoped>\n",
       "    .dataframe tbody tr th:only-of-type {\n",
       "        vertical-align: middle;\n",
       "    }\n",
       "\n",
       "    .dataframe tbody tr th {\n",
       "        vertical-align: top;\n",
       "    }\n",
       "\n",
       "    .dataframe thead th {\n",
       "        text-align: right;\n",
       "    }\n",
       "</style>\n",
       "<table border=\"1\" class=\"dataframe\">\n",
       "  <thead>\n",
       "    <tr style=\"text-align: right;\">\n",
       "      <th></th>\n",
       "      <th>departamento</th>\n",
       "      <th>cantidad</th>\n",
       "    </tr>\n",
       "  </thead>\n",
       "  <tbody>\n",
       "    <tr>\n",
       "      <th>0</th>\n",
       "      <td>La Paz</td>\n",
       "      <td>71</td>\n",
       "    </tr>\n",
       "    <tr>\n",
       "      <th>1</th>\n",
       "      <td>Cochabamba</td>\n",
       "      <td>28</td>\n",
       "    </tr>\n",
       "    <tr>\n",
       "      <th>2</th>\n",
       "      <td>Sucre</td>\n",
       "      <td>13</td>\n",
       "    </tr>\n",
       "    <tr>\n",
       "      <th>3</th>\n",
       "      <td>Santa Cruz</td>\n",
       "      <td>12</td>\n",
       "    </tr>\n",
       "    <tr>\n",
       "      <th>4</th>\n",
       "      <td>Potosí</td>\n",
       "      <td>9</td>\n",
       "    </tr>\n",
       "    <tr>\n",
       "      <th>5</th>\n",
       "      <td>Tarija</td>\n",
       "      <td>9</td>\n",
       "    </tr>\n",
       "    <tr>\n",
       "      <th>6</th>\n",
       "      <td>Oruro</td>\n",
       "      <td>5</td>\n",
       "    </tr>\n",
       "    <tr>\n",
       "      <th>7</th>\n",
       "      <td>Beni</td>\n",
       "      <td>1</td>\n",
       "    </tr>\n",
       "  </tbody>\n",
       "</table>\n",
       "</div>"
      ],
      "text/plain": [
       "  departamento  cantidad\n",
       "0       La Paz        71\n",
       "1   Cochabamba        28\n",
       "2        Sucre        13\n",
       "3   Santa Cruz        12\n",
       "4       Potosí         9\n",
       "5       Tarija         9\n",
       "6        Oruro         5\n",
       "7         Beni         1"
      ]
     },
     "execution_count": 23,
     "metadata": {},
     "output_type": "execute_result"
    }
   ],
   "source": [
    "#| output: False\n",
    "dep_count"
   ]
  },
  {
   "cell_type": "code",
   "execution_count": 24,
   "id": "edeaa7d4-4b69-43ff-8f21-c50559c12d33",
   "metadata": {},
   "outputs": [],
   "source": [
    "sns.set_style(\"whitegrid\")"
   ]
  },
  {
   "cell_type": "code",
   "execution_count": 25,
   "id": "7b971b1e-a90a-43bf-98e0-e66eccde69fc",
   "metadata": {},
   "outputs": [
    {
     "data": {
      "image/png": "[encoded data removed]",
      "text/plain": [
       "<Figure size 640x480 with 1 Axes>"
      ]
     },
     "metadata": {},
     "output_type": "display_data"
    }
   ],
   "source": [
    "#| fig-align: center\n",
    "\n",
    "sns.barplot(\n",
    "    data=dep_count,\n",
    "    x='cantidad',\n",
    "    y='departamento',\n",
    "    order=dep_count.sort_values('cantidad',ascending=False)['departamento'],\n",
    "    color=\"#1f77b4\"\n",
    ")\n",
    "# Titulo\n",
    "plt.title(\"Estudiantes por departamento\", fontsize=14, loc=\"left\", fontweight=\"bold\", x=-0.2, y=1.1)\n",
    "plt.ylabel('')\n",
    "plt.xlabel('')\n",
    "# Subtítulo \n",
    "plt.text(\n",
    "    x=-0.2, y=1.08,                            \n",
    "    s=\"Nivel Intensico, Mayo 2025\",\n",
    "    transform=plt.gca().transAxes,\n",
    "    fontsize=9,\n",
    "    color=\"gray\"\n",
    ")\n",
    "\n",
    "# Eje X arriba\n",
    "plt.gca().xaxis.set_ticks_position('top')     # Se mueve los ticks arriba\n",
    "plt.gca().xaxis.set_label_position('top')     \n",
    "# Acortar las puntas de los ticks superiores\n",
    "plt.tick_params(axis='x', which='both', top=True, length=0)\n",
    "\n",
    "# Se agregan los textos dentro de las barras\n",
    "for i, bar in enumerate(plt.gca().patches):\n",
    "    ancho = bar.get_width()\n",
    "    y_pos = bar.get_y() + bar.get_height() / 2\n",
    "    plt.text(\n",
    "        x=ancho - 1,                      # Un poco antes del final de la barra\n",
    "        y=y_pos,\n",
    "        s=int(ancho),                     # Se muestra el valor como entero\n",
    "        va='center',                     # Se alinea verticalmente al centro\n",
    "        ha='right',                      # Se alinea a la derecha\n",
    "        color='white',                   # Color del texto\n",
    "        fontweight='bold',\n",
    "        fontsize='12'\n",
    "    )\n",
    "\n",
    "plt.gca().spines['left'].set_color('black')  # Se cambia el color del eje y a negro\n",
    "\n",
    "\n",
    "\n",
    "sns.despine(bottom=True)\n",
    "plt.tight_layout()"
   ]
  },
  {
   "cell_type": "markdown",
   "id": "a1eed013",
   "metadata": {},
   "source": [
    "El departamento de La Paz concentra la mayor cantidad de estudiantes de nivel intesivo (71), seguido por Cochabamba (28) y Sucre (13).\n",
    "Por otro lado, solo se tiene un estudiante del departamento de Beni y ninguno de Pando."
   ]
  },
  {
   "cell_type": "code",
   "execution_count": 26,
   "id": "5aaad292-672f-4172-a8d7-33329bc1a06a",
   "metadata": {},
   "outputs": [
    {
     "data": {
      "application/vnd.microsoft.datawrangler.viewer.v0+json": {
       "columns": [
        {
         "name": "departamento",
         "rawType": "category",
         "type": "unknown"
        },
        {
         "name": "PRINCIPIANTE",
         "rawType": "int64",
         "type": "integer"
        },
        {
         "name": "BASICO",
         "rawType": "int64",
         "type": "integer"
        },
        {
         "name": "INTERMEDIO",
         "rawType": "int64",
         "type": "integer"
        }
       ],
       "ref": "fb10a482-1d03-4c89-bce6-77dbbe8877a4",
       "rows": [
        [
         "Beni",
         "0",
         "1",
         "0"
        ],
        [
         "Oruro",
         "1",
         "3",
         "1"
        ],
        [
         "Potosí",
         "5",
         "3",
         "1"
        ],
        [
         "Tarija",
         "4",
         "2",
         "3"
        ],
        [
         "Santa Cruz",
         "7",
         "4",
         "1"
        ],
        [
         "Sucre",
         "9",
         "3",
         "1"
        ],
        [
         "Cochabamba",
         "10",
         "8",
         "10"
        ],
        [
         "La Paz",
         "41",
         "21",
         "9"
        ]
       ],
       "shape": {
        "columns": 3,
        "rows": 8
       }
      },
      "text/html": [
       "<div>\n",
       "<style scoped>\n",
       "    .dataframe tbody tr th:only-of-type {\n",
       "        vertical-align: middle;\n",
       "    }\n",
       "\n",
       "    .dataframe tbody tr th {\n",
       "        vertical-align: top;\n",
       "    }\n",
       "\n",
       "    .dataframe thead th {\n",
       "        text-align: right;\n",
       "    }\n",
       "</style>\n",
       "<table border=\"1\" class=\"dataframe\">\n",
       "  <thead>\n",
       "    <tr style=\"text-align: right;\">\n",
       "      <th>nivel</th>\n",
       "      <th>PRINCIPIANTE</th>\n",
       "      <th>BASICO</th>\n",
       "      <th>INTERMEDIO</th>\n",
       "    </tr>\n",
       "    <tr>\n",
       "      <th>departamento</th>\n",
       "      <th></th>\n",
       "      <th></th>\n",
       "      <th></th>\n",
       "    </tr>\n",
       "  </thead>\n",
       "  <tbody>\n",
       "    <tr>\n",
       "      <th>Beni</th>\n",
       "      <td>0</td>\n",
       "      <td>1</td>\n",
       "      <td>0</td>\n",
       "    </tr>\n",
       "    <tr>\n",
       "      <th>Oruro</th>\n",
       "      <td>1</td>\n",
       "      <td>3</td>\n",
       "      <td>1</td>\n",
       "    </tr>\n",
       "    <tr>\n",
       "      <th>Potosí</th>\n",
       "      <td>5</td>\n",
       "      <td>3</td>\n",
       "      <td>1</td>\n",
       "    </tr>\n",
       "    <tr>\n",
       "      <th>Tarija</th>\n",
       "      <td>4</td>\n",
       "      <td>2</td>\n",
       "      <td>3</td>\n",
       "    </tr>\n",
       "    <tr>\n",
       "      <th>Santa Cruz</th>\n",
       "      <td>7</td>\n",
       "      <td>4</td>\n",
       "      <td>1</td>\n",
       "    </tr>\n",
       "    <tr>\n",
       "      <th>Sucre</th>\n",
       "      <td>9</td>\n",
       "      <td>3</td>\n",
       "      <td>1</td>\n",
       "    </tr>\n",
       "    <tr>\n",
       "      <th>Cochabamba</th>\n",
       "      <td>10</td>\n",
       "      <td>8</td>\n",
       "      <td>10</td>\n",
       "    </tr>\n",
       "    <tr>\n",
       "      <th>La Paz</th>\n",
       "      <td>41</td>\n",
       "      <td>21</td>\n",
       "      <td>9</td>\n",
       "    </tr>\n",
       "  </tbody>\n",
       "</table>\n",
       "</div>"
      ],
      "text/plain": [
       "nivel         PRINCIPIANTE  BASICO  INTERMEDIO\n",
       "departamento                                  \n",
       "Beni                     0       1           0\n",
       "Oruro                    1       3           1\n",
       "Potosí                   5       3           1\n",
       "Tarija                   4       2           3\n",
       "Santa Cruz               7       4           1\n",
       "Sucre                    9       3           1\n",
       "Cochabamba              10       8          10\n",
       "La Paz                  41      21           9"
      ]
     },
     "execution_count": 26,
     "metadata": {},
     "output_type": "execute_result"
    }
   ],
   "source": [
    "#| output: False\n",
    "dep_nivel = pd.crosstab(df_clean['departamento'], df_clean['nivel'])\n",
    "# Se ordenan los departamentos (por suma total)\n",
    "dep_nivel_sort = dep_nivel.loc[dep_nivel.sum(axis=1).sort_values().index, ['PRINCIPIANTE','BASICO','INTERMEDIO']]\n",
    "dep_nivel_sort"
   ]
  },
  {
   "cell_type": "code",
   "execution_count": 27,
   "id": "9ad7a359",
   "metadata": {},
   "outputs": [
    {
     "data": {
      "image/png": "[encoded data removed]",
      "text/plain": [
       "<Figure size 800x150 with 1 Axes>"
      ]
     },
     "metadata": {},
     "output_type": "display_data"
    }
   ],
   "source": [
    "#| fig-align: center\n",
    "colores = ['#06d6a0', '#118ab2', '#073b4c']\n",
    "ax =df_clean.nivel.value_counts(normalize=True).mul(100).to_frame().T\\\n",
    ".plot(kind='barh',\n",
    "      stacked=True,\n",
    "      width=0.6,\n",
    "      color=colores,\n",
    "      figsize=(8, 1.5),\n",
    "      legend=False,\n",
    "      edgecolor='black',\n",
    "      )\n",
    "\n",
    "for c in ax.containers:\n",
    "    ax.bar_label(c, fmt='%.1f%%', \n",
    "                 label_type='center', \n",
    "                 fontsize=14, \n",
    "                 color='white',\n",
    "                 fontweight='bold',\n",
    "                 )\n",
    "\n",
    "ax.set_title('Distribución de estudiantes por nivel')\n",
    "# Quitar marcas del eje x\n",
    "ax.set_xticks([])\n",
    "for spine in ax.spines.values():\n",
    "    spine.set_visible(False)\n",
    "\n",
    "#plt.tight_layout()\n",
    "plt.show()"
   ]
  },
  {
   "cell_type": "markdown",
   "id": "dbaab8e2",
   "metadata": {},
   "source": [
    "Los estudiantes del nivel principiante representan el 52 % del total de estudiantes de la modalidad intensivo. Con menor presencia los estudiantes de nivel intermedio representan menos del 20 % del total los alumnos."
   ]
  },
  {
   "cell_type": "code",
   "execution_count": 28,
   "id": "b7ff2219",
   "metadata": {},
   "outputs": [],
   "source": [
    "# Gráfico\n",
    "# # Your original data (assuming this is the output of dep_nivel_sort.sum())\n",
    "# dep_nivel_sum = pd.Series([77, 45, 26], index=['PRINCIPIANTE', 'BASICO', 'INTERMEDIO'], name='count')\n",
    "\n",
    "# # Calculate percentages\n",
    "# total = dep_nivel_sum.sum()\n",
    "# percentages = (dep_nivel_sum / total) * 100\n",
    "\n",
    "# # Define colors for each category\n",
    "# colors = ['skyblue', 'lightcoral', 'lightgreen']\n",
    "\n",
    "# # Create the horizontal bar chart\n",
    "# plt.figure(figsize=(10, 6)) # Adjust figure size as needed\n",
    "\n",
    "# # Plot horizontal bars and capture the bar objects to create the legend\n",
    "# bars = plt.barh(percentages.index, percentages.values, color=colors)\n",
    "\n",
    "# # Add title and labels\n",
    "# plt.title('Distribución de Nivel por Porcentaje', fontsize=16)\n",
    "# plt.xlabel('Porcentaje (%)', fontsize=12)\n",
    "# plt.ylabel('Nivel', fontsize=12)\n",
    "\n",
    "# # Set x-axis limits to 0-100 for percentages\n",
    "# plt.xlim(0, 100)\n",
    "\n",
    "# # Invert y-axis to have PRINCIPIANTE at the top (optional, but often preferred for order)\n",
    "# plt.gca().invert_yaxis()\n",
    "\n",
    "# # Add percentage labels on the bars\n",
    "# for bar in bars:\n",
    "#     width = bar.get_width()\n",
    "#     plt.text(width + 1, bar.get_y() + bar.get_height()/2,\n",
    "#              f'{width:.1f}%',\n",
    "#              va='center', ha='left', fontsize=10)\n",
    "\n",
    "# # Add a legend for the colors\n",
    "# # We create proxy artists for the legend since barh doesn't automatically map to labels easily\n",
    "# legend_labels = percentages.index.tolist()\n",
    "# legend_handles = [plt.Rectangle((0,0),1,1, color=colors[i]) for i in range(len(colors))]\n",
    "# plt.legend(legend_handles, legend_labels, title=\"Nivel\")\n",
    "\n",
    "# # Add grid for better readability\n",
    "# plt.grid(axis='x', linestyle='--', alpha=0.7)\n",
    "\n",
    "# # Adjust layout to prevent labels from being cut off\n",
    "# plt.tight_layout()\n",
    "\n",
    "# # Show the plot\n",
    "# plt.show()"
   ]
  },
  {
   "cell_type": "code",
   "execution_count": 29,
   "id": "353c5631-7ac8-4fbc-9e4b-8dbcd4a3116f",
   "metadata": {},
   "outputs": [
    {
     "data": {
      "image/png": "[encoded data removed]",
      "text/plain": [
       "<Figure size 640x480 with 1 Axes>"
      ]
     },
     "metadata": {},
     "output_type": "display_data"
    }
   ],
   "source": [
    "#| fig-align: center\n",
    "colores = ['#06d6a0', '#118ab2', '#073b4c']\n",
    "\n",
    "ax = dep_nivel_sort.plot(kind='barh',\n",
    "                  stacked=True,\n",
    "                  color=colores,\n",
    "                  edgecolor='black',\n",
    "                 )\n",
    "\n",
    "plt.title(\"Estudiantes por nivel en cada departamento\", fontsize=14, loc=\"left\", fontweight=\"bold\", x=-0.2, y=1.08)\n",
    "plt.ylabel('')\n",
    "\n",
    "# Se elimina la grilla del eje Y (líneas horizontales)\n",
    "ax.grid(False, axis='y')\n",
    "# Se elimina el título de la leyenda\n",
    "ax.legend(\n",
    "    title=\"\",\n",
    "    bbox_to_anchor=(0.65, 0.8),\n",
    "    loc='upper left'\n",
    ")\n",
    "# Eje X arriba\n",
    "plt.gca().xaxis.set_ticks_position('top')     # Se mueve los ticks arriba\n",
    "plt.gca().xaxis.set_label_position('top')     \n",
    "# Acortar las puntas de los ticks superiores\n",
    "plt.tick_params(axis='x', which='both', top=True, length=0)\n",
    "\n",
    "sns.despine(bottom=True)\n",
    "plt.tight_layout()\n",
    "plt.show()"
   ]
  },
  {
   "cell_type": "code",
   "execution_count": 30,
   "id": "125258e0-d372-488b-9509-55819a57a103",
   "metadata": {},
   "outputs": [
    {
     "data": {
      "application/vnd.microsoft.datawrangler.viewer.v0+json": {
       "columns": [
        {
         "name": "departamento",
         "rawType": "object",
         "type": "string"
        },
        {
         "name": "PRINCIPIANTE",
         "rawType": "int64",
         "type": "integer"
        },
        {
         "name": "BASICO",
         "rawType": "int64",
         "type": "integer"
        },
        {
         "name": "INTERMEDIO",
         "rawType": "int64",
         "type": "integer"
        }
       ],
       "ref": "86fa95d3-bcb7-4dd8-84e2-29a84969a198",
       "rows": [
        [
         "La Paz",
         "41",
         "21",
         "9"
        ],
        [
         "Cochabamba",
         "10",
         "8",
         "10"
        ],
        [
         "Sucre",
         "9",
         "3",
         "1"
        ],
        [
         "Santa Cruz",
         "7",
         "4",
         "1"
        ],
        [
         "Potosí",
         "5",
         "3",
         "1"
        ],
        [
         "Tarija",
         "4",
         "2",
         "3"
        ],
        [
         "Oruro",
         "1",
         "3",
         "1"
        ],
        [
         "Beni",
         "0",
         "1",
         "0"
        ],
        [
         "Total",
         "77",
         "45",
         "26"
        ]
       ],
       "shape": {
        "columns": 3,
        "rows": 9
       }
      },
      "text/html": [
       "<div>\n",
       "<style scoped>\n",
       "    .dataframe tbody tr th:only-of-type {\n",
       "        vertical-align: middle;\n",
       "    }\n",
       "\n",
       "    .dataframe tbody tr th {\n",
       "        vertical-align: top;\n",
       "    }\n",
       "\n",
       "    .dataframe thead th {\n",
       "        text-align: right;\n",
       "    }\n",
       "</style>\n",
       "<table border=\"1\" class=\"dataframe\">\n",
       "  <thead>\n",
       "    <tr style=\"text-align: right;\">\n",
       "      <th>nivel</th>\n",
       "      <th>PRINCIPIANTE</th>\n",
       "      <th>BASICO</th>\n",
       "      <th>INTERMEDIO</th>\n",
       "    </tr>\n",
       "    <tr>\n",
       "      <th>departamento</th>\n",
       "      <th></th>\n",
       "      <th></th>\n",
       "      <th></th>\n",
       "    </tr>\n",
       "  </thead>\n",
       "  <tbody>\n",
       "    <tr>\n",
       "      <th>La Paz</th>\n",
       "      <td>41</td>\n",
       "      <td>21</td>\n",
       "      <td>9</td>\n",
       "    </tr>\n",
       "    <tr>\n",
       "      <th>Cochabamba</th>\n",
       "      <td>10</td>\n",
       "      <td>8</td>\n",
       "      <td>10</td>\n",
       "    </tr>\n",
       "    <tr>\n",
       "      <th>Sucre</th>\n",
       "      <td>9</td>\n",
       "      <td>3</td>\n",
       "      <td>1</td>\n",
       "    </tr>\n",
       "    <tr>\n",
       "      <th>Santa Cruz</th>\n",
       "      <td>7</td>\n",
       "      <td>4</td>\n",
       "      <td>1</td>\n",
       "    </tr>\n",
       "    <tr>\n",
       "      <th>Potosí</th>\n",
       "      <td>5</td>\n",
       "      <td>3</td>\n",
       "      <td>1</td>\n",
       "    </tr>\n",
       "    <tr>\n",
       "      <th>Tarija</th>\n",
       "      <td>4</td>\n",
       "      <td>2</td>\n",
       "      <td>3</td>\n",
       "    </tr>\n",
       "    <tr>\n",
       "      <th>Oruro</th>\n",
       "      <td>1</td>\n",
       "      <td>3</td>\n",
       "      <td>1</td>\n",
       "    </tr>\n",
       "    <tr>\n",
       "      <th>Beni</th>\n",
       "      <td>0</td>\n",
       "      <td>1</td>\n",
       "      <td>0</td>\n",
       "    </tr>\n",
       "    <tr>\n",
       "      <th>Total</th>\n",
       "      <td>77</td>\n",
       "      <td>45</td>\n",
       "      <td>26</td>\n",
       "    </tr>\n",
       "  </tbody>\n",
       "</table>\n",
       "</div>"
      ],
      "text/plain": [
       "nivel         PRINCIPIANTE  BASICO  INTERMEDIO\n",
       "departamento                                  \n",
       "La Paz                  41      21           9\n",
       "Cochabamba              10       8          10\n",
       "Sucre                    9       3           1\n",
       "Santa Cruz               7       4           1\n",
       "Potosí                   5       3           1\n",
       "Tarija                   4       2           3\n",
       "Oruro                    1       3           1\n",
       "Beni                     0       1           0\n",
       "Total                   77      45          26"
      ]
     },
     "execution_count": 30,
     "metadata": {},
     "output_type": "execute_result"
    }
   ],
   "source": [
    "tab_dep_nivel = dep_nivel.loc[dep_nivel.sum(axis=1).sort_values(ascending=False).index, ['PRINCIPIANTE','BASICO','INTERMEDIO']]\n",
    "tab_dep_nivel.loc['Total'] = tab_dep_nivel.sum()\n",
    "tab_dep_nivel"
   ]
  },
  {
   "cell_type": "markdown",
   "id": "0c1951a1",
   "metadata": {},
   "source": [
    "El nivel principiante, es el nivel con mayor presencia en 6 departamentos de Bolivia."
   ]
  },
  {
   "cell_type": "code",
   "execution_count": 31,
   "id": "3575fd18-9435-462b-a8ed-7fdcba272af6",
   "metadata": {},
   "outputs": [
    {
     "data": {
      "application/vnd.microsoft.datawrangler.viewer.v0+json": {
       "columns": [
        {
         "name": "index",
         "rawType": "int64",
         "type": "integer"
        },
        {
         "name": "id_estudiante",
         "rawType": "uint8",
         "type": "integer"
        },
        {
         "name": "departamento",
         "rawType": "category",
         "type": "unknown"
        },
        {
         "name": "totalgeneral",
         "rawType": "uint8",
         "type": "integer"
        },
        {
         "name": "docente",
         "rawType": "category",
         "type": "unknown"
        },
        {
         "name": "nivel",
         "rawType": "category",
         "type": "unknown"
        },
        {
         "name": "modalidad",
         "rawType": "category",
         "type": "unknown"
        },
        {
         "name": "estado_actividades",
         "rawType": "category",
         "type": "unknown"
        },
        {
         "name": "n_actividades",
         "rawType": "uint8",
         "type": "integer"
        },
        {
         "name": "continuidad",
         "rawType": "category",
         "type": "unknown"
        }
       ],
       "ref": "279c9030-1b42-446f-8da6-e54bbb789f9a",
       "rows": [
        [
         "0",
         "1",
         "La Paz",
         "81",
         "MARIAN",
         "INTERMEDIO",
         "INTENSIVO",
         "COMPLETO",
         "11",
         "CONGELAR - TRABAJO"
        ],
        [
         "1",
         "2",
         "La Paz",
         "75",
         "MARIA",
         "PRINCIPIANTE",
         "INTENSIVO",
         "INCOMPLETO",
         "0",
         "CONGELAR - TRABAJO"
        ],
        [
         "2",
         "3",
         "Oruro",
         "76",
         "LOURDES",
         "INTERMEDIO",
         "INTENSIVO",
         "INCOMPLETO",
         "0",
         "NO SE PRESENTO"
        ],
        [
         "3",
         "4",
         "La Paz",
         "95",
         "ERIKA",
         "PRINCIPIANTE",
         "INTENSIVO",
         "COMPLETO",
         "14",
         "CONTINUAR"
        ],
        [
         "4",
         "5",
         "La Paz",
         "104",
         "NICOLAS",
         "PRINCIPIANTE",
         "INTENSIVO",
         "COMPLETO",
         "11",
         "CONTINUAR"
        ]
       ],
       "shape": {
        "columns": 9,
        "rows": 5
       }
      },
      "text/html": [
       "<div>\n",
       "<style scoped>\n",
       "    .dataframe tbody tr th:only-of-type {\n",
       "        vertical-align: middle;\n",
       "    }\n",
       "\n",
       "    .dataframe tbody tr th {\n",
       "        vertical-align: top;\n",
       "    }\n",
       "\n",
       "    .dataframe thead th {\n",
       "        text-align: right;\n",
       "    }\n",
       "</style>\n",
       "<table border=\"1\" class=\"dataframe\">\n",
       "  <thead>\n",
       "    <tr style=\"text-align: right;\">\n",
       "      <th></th>\n",
       "      <th>id_estudiante</th>\n",
       "      <th>departamento</th>\n",
       "      <th>totalgeneral</th>\n",
       "      <th>docente</th>\n",
       "      <th>nivel</th>\n",
       "      <th>modalidad</th>\n",
       "      <th>estado_actividades</th>\n",
       "      <th>n_actividades</th>\n",
       "      <th>continuidad</th>\n",
       "    </tr>\n",
       "  </thead>\n",
       "  <tbody>\n",
       "    <tr>\n",
       "      <th>0</th>\n",
       "      <td>1</td>\n",
       "      <td>La Paz</td>\n",
       "      <td>81</td>\n",
       "      <td>MARIAN</td>\n",
       "      <td>INTERMEDIO</td>\n",
       "      <td>INTENSIVO</td>\n",
       "      <td>COMPLETO</td>\n",
       "      <td>11</td>\n",
       "      <td>CONGELAR - TRABAJO</td>\n",
       "    </tr>\n",
       "    <tr>\n",
       "      <th>1</th>\n",
       "      <td>2</td>\n",
       "      <td>La Paz</td>\n",
       "      <td>75</td>\n",
       "      <td>MARIA</td>\n",
       "      <td>PRINCIPIANTE</td>\n",
       "      <td>INTENSIVO</td>\n",
       "      <td>INCOMPLETO</td>\n",
       "      <td>0</td>\n",
       "      <td>CONGELAR - TRABAJO</td>\n",
       "    </tr>\n",
       "    <tr>\n",
       "      <th>2</th>\n",
       "      <td>3</td>\n",
       "      <td>Oruro</td>\n",
       "      <td>76</td>\n",
       "      <td>LOURDES</td>\n",
       "      <td>INTERMEDIO</td>\n",
       "      <td>INTENSIVO</td>\n",
       "      <td>INCOMPLETO</td>\n",
       "      <td>0</td>\n",
       "      <td>NO SE PRESENTO</td>\n",
       "    </tr>\n",
       "    <tr>\n",
       "      <th>3</th>\n",
       "      <td>4</td>\n",
       "      <td>La Paz</td>\n",
       "      <td>95</td>\n",
       "      <td>ERIKA</td>\n",
       "      <td>PRINCIPIANTE</td>\n",
       "      <td>INTENSIVO</td>\n",
       "      <td>COMPLETO</td>\n",
       "      <td>14</td>\n",
       "      <td>CONTINUAR</td>\n",
       "    </tr>\n",
       "    <tr>\n",
       "      <th>4</th>\n",
       "      <td>5</td>\n",
       "      <td>La Paz</td>\n",
       "      <td>104</td>\n",
       "      <td>NICOLAS</td>\n",
       "      <td>PRINCIPIANTE</td>\n",
       "      <td>INTENSIVO</td>\n",
       "      <td>COMPLETO</td>\n",
       "      <td>11</td>\n",
       "      <td>CONTINUAR</td>\n",
       "    </tr>\n",
       "  </tbody>\n",
       "</table>\n",
       "</div>"
      ],
      "text/plain": [
       "   id_estudiante departamento  totalgeneral  docente         nivel  modalidad  \\\n",
       "0              1       La Paz            81   MARIAN    INTERMEDIO  INTENSIVO   \n",
       "1              2       La Paz            75    MARIA  PRINCIPIANTE  INTENSIVO   \n",
       "2              3        Oruro            76  LOURDES    INTERMEDIO  INTENSIVO   \n",
       "3              4       La Paz            95    ERIKA  PRINCIPIANTE  INTENSIVO   \n",
       "4              5       La Paz           104  NICOLAS  PRINCIPIANTE  INTENSIVO   \n",
       "\n",
       "  estado_actividades  n_actividades         continuidad  \n",
       "0           COMPLETO             11  CONGELAR - TRABAJO  \n",
       "1         INCOMPLETO              0  CONGELAR - TRABAJO  \n",
       "2         INCOMPLETO              0      NO SE PRESENTO  \n",
       "3           COMPLETO             14           CONTINUAR  \n",
       "4           COMPLETO             11           CONTINUAR  "
      ]
     },
     "execution_count": 31,
     "metadata": {},
     "output_type": "execute_result"
    }
   ],
   "source": [
    "#| output: False\n",
    "df_clean.head()"
   ]
  },
  {
   "cell_type": "markdown",
   "id": "0c4fbd47",
   "metadata": {},
   "source": [
    "::: {.column-page-inset}"
   ]
  },
  {
   "cell_type": "code",
   "execution_count": 32,
   "id": "558426c9-d42a-46c6-a142-54c79f029537",
   "metadata": {},
   "outputs": [
    {
     "data": {
      "image/png": "[encoded data removed]",
      "text/plain": [
       "<Figure size 1500x500 with 3 Axes>"
      ]
     },
     "metadata": {},
     "output_type": "display_data"
    }
   ],
   "source": [
    "g = sns.displot(data=df_clean, x=\"totalgeneral\",\n",
    "            kde=True,\n",
    "            col='nivel',\n",
    "            color=\"teal\",\n",
    "            edgecolor='.2'\n",
    "           )\n",
    "\n",
    "# Se agrega el título principal\n",
    "g.fig.suptitle(\"Distribución de la Nota por nivel\", fontsize=16, fontweight=\"bold\", x=0.1)\n",
    "\n",
    "# Se ajusta el espacio para que no se sobreponga con los subgráficos\n",
    "g.fig.subplots_adjust(top=0.85)\n",
    "# Se accede a cada eje del grid y se desactiva la grilla del eje X\n",
    "for ax in g.axes.flat:\n",
    "    ax.grid(False, axis='x')\n",
    "# Se borra el nombre del eje X en cada subplot\n",
    "for ax in g.axes.flat:\n",
    "    ax.set_xlabel('Nota')  # Se elimina el nombre del eje X\n",
    "    ax.set_ylabel('Conteo')\n",
    "    ax.tick_params(axis='both', which='major', labelsize=11)\n",
    "    \n",
    "g.set_titles(\"{col_name}\")    \n",
    "sns.despine(left=True)\n",
    "plt.show()"
   ]
  },
  {
   "cell_type": "markdown",
   "id": "6d873139",
   "metadata": {},
   "source": [
    ":::"
   ]
  },
  {
   "cell_type": "markdown",
   "id": "3209c1d6",
   "metadata": {},
   "source": [
    "Dentro del nivel Principiante se tienen mayor cantidad de estudiantes con notas de 90 e incluso posee más estudiantes sobresalientes arriba de la nota de 100 con respecto a los otros niveles."
   ]
  },
  {
   "cell_type": "code",
   "execution_count": 56,
   "id": "8156d22a-55c4-4122-b03c-408a1962f9b6",
   "metadata": {},
   "outputs": [
    {
     "data": {
      "image/png": "[encoded data removed]",
      "text/plain": [
       "<Figure size 500x500 with 1 Axes>"
      ]
     },
     "metadata": {},
     "output_type": "display_data"
    }
   ],
   "source": [
    "#| fig-align: center\n",
    "plt.figure(figsize=(5, 5))\n",
    "ax = sns.boxplot(\n",
    "    df_clean,\n",
    "    x='nivel',\n",
    "    y='totalgeneral',\n",
    "    color='#34a0a4',\n",
    "    linewidth=1.5,\n",
    "    gap=.4\n",
    ")\n",
    "plt.title(\"Comparación de notas por nivel\", fontsize=12, loc=\"left\", fontweight=\"bold\", x=-0.15, y=1.03)\n",
    "plt.ylabel('')\n",
    "plt.xlabel('')\n",
    "ax.yaxis.grid(True)\n",
    "sns.despine(offset=10, trim=True)"
   ]
  },
  {
   "cell_type": "code",
   "execution_count": 34,
   "id": "dced2e7e",
   "metadata": {},
   "outputs": [
    {
     "data": {
      "application/vnd.microsoft.datawrangler.viewer.v0+json": {
       "columns": [
        {
         "name": "nivel",
         "rawType": "category",
         "type": "unknown"
        },
        {
         "name": "count",
         "rawType": "float64",
         "type": "float"
        },
        {
         "name": "mean",
         "rawType": "float64",
         "type": "float"
        },
        {
         "name": "std",
         "rawType": "float64",
         "type": "float"
        },
        {
         "name": "min",
         "rawType": "float64",
         "type": "float"
        },
        {
         "name": "25%",
         "rawType": "float64",
         "type": "float"
        },
        {
         "name": "50%",
         "rawType": "float64",
         "type": "float"
        },
        {
         "name": "75%",
         "rawType": "float64",
         "type": "float"
        },
        {
         "name": "max",
         "rawType": "float64",
         "type": "float"
        }
       ],
       "ref": "5aaa65e2-64e2-4d60-864e-3502edfc905f",
       "rows": [
        [
         "BASICO",
         "45.0",
         "87.28888888888889",
         "7.560730550988208",
         "75.0",
         "80.0",
         "89.0",
         "93.0",
         "98.0"
        ],
        [
         "INTERMEDIO",
         "26.0",
         "86.46153846153847",
         "6.67071671849896",
         "75.0",
         "82.25",
         "84.5",
         "89.0",
         "100.0"
        ],
        [
         "PRINCIPIANTE",
         "77.0",
         "93.3896103896104",
         "8.163068057376732",
         "75.0",
         "88.0",
         "92.0",
         "99.0",
         "109.0"
        ]
       ],
       "shape": {
        "columns": 8,
        "rows": 3
       }
      },
      "text/html": [
       "<div>\n",
       "<style scoped>\n",
       "    .dataframe tbody tr th:only-of-type {\n",
       "        vertical-align: middle;\n",
       "    }\n",
       "\n",
       "    .dataframe tbody tr th {\n",
       "        vertical-align: top;\n",
       "    }\n",
       "\n",
       "    .dataframe thead th {\n",
       "        text-align: right;\n",
       "    }\n",
       "</style>\n",
       "<table border=\"1\" class=\"dataframe\">\n",
       "  <thead>\n",
       "    <tr style=\"text-align: right;\">\n",
       "      <th></th>\n",
       "      <th>count</th>\n",
       "      <th>mean</th>\n",
       "      <th>std</th>\n",
       "      <th>min</th>\n",
       "      <th>25%</th>\n",
       "      <th>50%</th>\n",
       "      <th>75%</th>\n",
       "      <th>max</th>\n",
       "    </tr>\n",
       "    <tr>\n",
       "      <th>nivel</th>\n",
       "      <th></th>\n",
       "      <th></th>\n",
       "      <th></th>\n",
       "      <th></th>\n",
       "      <th></th>\n",
       "      <th></th>\n",
       "      <th></th>\n",
       "      <th></th>\n",
       "    </tr>\n",
       "  </thead>\n",
       "  <tbody>\n",
       "    <tr>\n",
       "      <th>BASICO</th>\n",
       "      <td>45.0</td>\n",
       "      <td>87.288889</td>\n",
       "      <td>7.560731</td>\n",
       "      <td>75.0</td>\n",
       "      <td>80.00</td>\n",
       "      <td>89.0</td>\n",
       "      <td>93.0</td>\n",
       "      <td>98.0</td>\n",
       "    </tr>\n",
       "    <tr>\n",
       "      <th>INTERMEDIO</th>\n",
       "      <td>26.0</td>\n",
       "      <td>86.461538</td>\n",
       "      <td>6.670717</td>\n",
       "      <td>75.0</td>\n",
       "      <td>82.25</td>\n",
       "      <td>84.5</td>\n",
       "      <td>89.0</td>\n",
       "      <td>100.0</td>\n",
       "    </tr>\n",
       "    <tr>\n",
       "      <th>PRINCIPIANTE</th>\n",
       "      <td>77.0</td>\n",
       "      <td>93.389610</td>\n",
       "      <td>8.163068</td>\n",
       "      <td>75.0</td>\n",
       "      <td>88.00</td>\n",
       "      <td>92.0</td>\n",
       "      <td>99.0</td>\n",
       "      <td>109.0</td>\n",
       "    </tr>\n",
       "  </tbody>\n",
       "</table>\n",
       "</div>"
      ],
      "text/plain": [
       "              count       mean       std   min    25%   50%   75%    max\n",
       "nivel                                                                   \n",
       "BASICO         45.0  87.288889  7.560731  75.0  80.00  89.0  93.0   98.0\n",
       "INTERMEDIO     26.0  86.461538  6.670717  75.0  82.25  84.5  89.0  100.0\n",
       "PRINCIPIANTE   77.0  93.389610  8.163068  75.0  88.00  92.0  99.0  109.0"
      ]
     },
     "execution_count": 34,
     "metadata": {},
     "output_type": "execute_result"
    }
   ],
   "source": [
    "df_clean.groupby('nivel')['totalgeneral'].describe()"
   ]
  },
  {
   "cell_type": "markdown",
   "id": "ed1a501a",
   "metadata": {},
   "source": [
    "Los alumnos del nivel principiante muestran un mejor rendimiento con respecto a los demas niveles, tomando en cuenta las medianas y los promedios de cada uno.\n",
    "\n",
    "\n",
    "* Un 25 % de estudiantes del nivel principiante posee notas por encima de 99.\n",
    "* La nota mas alta obtenida es de 109.\n",
    "* En general todos los niveles presentan buenos rendimientos en relacion a la calificacion de los estudiantes."
   ]
  },
  {
   "cell_type": "code",
   "execution_count": 35,
   "id": "cfd391e6-b7e1-4655-857e-afc2c4ed4894",
   "metadata": {},
   "outputs": [
    {
     "data": {
      "image/png": "[encoded data removed]",
      "text/plain": [
       "<Figure size 800x500 with 1 Axes>"
      ]
     },
     "metadata": {},
     "output_type": "display_data"
    }
   ],
   "source": [
    "#| fig-align: center\n",
    "sns.set_theme(style=\"ticks\")\n",
    "# Tamaño\n",
    "plt.figure(figsize=(8, 5))\n",
    "\n",
    "ax = sns.boxplot(\n",
    "    df_clean.query('nivel==\"PRINCIPIANTE\"'),\n",
    "    x='departamento',\n",
    "    y='totalgeneral',\n",
    "    color='#34a0a4',\n",
    "    linewidth=1.5,\n",
    ")\n",
    "# titulo\n",
    "plt.title(\"Comparación de Notas por Departamento, Nivel Principiante.\", fontsize=14, loc=\"left\", fontweight=\"bold\", x=-0.1, y=1.07)\n",
    "plt.ylabel('')\n",
    "plt.xlabel('')\n",
    "ax.yaxis.grid(True)\n",
    "sns.despine(offset=10, trim=True)"
   ]
  },
  {
   "cell_type": "code",
   "execution_count": 36,
   "id": "f2d15a47",
   "metadata": {},
   "outputs": [
    {
     "data": {
      "text/html": [
       "<style type=\"text/css\">\n",
       "#T_266a3_row0_col1, #T_266a3_row1_col3, #T_266a3_row1_col8, #T_266a3_row5_col2, #T_266a3_row5_col4, #T_266a3_row5_col5, #T_266a3_row5_col6, #T_266a3_row5_col7 {\n",
       "  color: green;\n",
       "  font-weight: bold;\n",
       "}\n",
       "</style>\n",
       "<table id=\"T_266a3\">\n",
       "  <thead>\n",
       "    <tr>\n",
       "      <th class=\"blank level0\" >&nbsp;</th>\n",
       "      <th id=\"T_266a3_level0_col0\" class=\"col_heading level0 col0\" >departamento</th>\n",
       "      <th id=\"T_266a3_level0_col1\" class=\"col_heading level0 col1\" >count</th>\n",
       "      <th id=\"T_266a3_level0_col2\" class=\"col_heading level0 col2\" >mean</th>\n",
       "      <th id=\"T_266a3_level0_col3\" class=\"col_heading level0 col3\" >std</th>\n",
       "      <th id=\"T_266a3_level0_col4\" class=\"col_heading level0 col4\" >min</th>\n",
       "      <th id=\"T_266a3_level0_col5\" class=\"col_heading level0 col5\" >25%</th>\n",
       "      <th id=\"T_266a3_level0_col6\" class=\"col_heading level0 col6\" >50%</th>\n",
       "      <th id=\"T_266a3_level0_col7\" class=\"col_heading level0 col7\" >75%</th>\n",
       "      <th id=\"T_266a3_level0_col8\" class=\"col_heading level0 col8\" >max</th>\n",
       "    </tr>\n",
       "  </thead>\n",
       "  <tbody>\n",
       "    <tr>\n",
       "      <th id=\"T_266a3_level0_row0\" class=\"row_heading level0 row0\" >2</th>\n",
       "      <td id=\"T_266a3_row0_col0\" class=\"data row0 col0\" >La Paz</td>\n",
       "      <td id=\"T_266a3_row0_col1\" class=\"data row0 col1\" >41.000000</td>\n",
       "      <td id=\"T_266a3_row0_col2\" class=\"data row0 col2\" >93.341463</td>\n",
       "      <td id=\"T_266a3_row0_col3\" class=\"data row0 col3\" >7.754385</td>\n",
       "      <td id=\"T_266a3_row0_col4\" class=\"data row0 col4\" >75.000000</td>\n",
       "      <td id=\"T_266a3_row0_col5\" class=\"data row0 col5\" >89.000000</td>\n",
       "      <td id=\"T_266a3_row0_col6\" class=\"data row0 col6\" >93.000000</td>\n",
       "      <td id=\"T_266a3_row0_col7\" class=\"data row0 col7\" >98.000000</td>\n",
       "      <td id=\"T_266a3_row0_col8\" class=\"data row0 col8\" >107.000000</td>\n",
       "    </tr>\n",
       "    <tr>\n",
       "      <th id=\"T_266a3_level0_row1\" class=\"row_heading level0 row1\" >1</th>\n",
       "      <td id=\"T_266a3_row1_col0\" class=\"data row1 col0\" >Cochabamba</td>\n",
       "      <td id=\"T_266a3_row1_col1\" class=\"data row1 col1\" >10.000000</td>\n",
       "      <td id=\"T_266a3_row1_col2\" class=\"data row1 col2\" >96.200000</td>\n",
       "      <td id=\"T_266a3_row1_col3\" class=\"data row1 col3\" >9.589346</td>\n",
       "      <td id=\"T_266a3_row1_col4\" class=\"data row1 col4\" >79.000000</td>\n",
       "      <td id=\"T_266a3_row1_col5\" class=\"data row1 col5\" >89.750000</td>\n",
       "      <td id=\"T_266a3_row1_col6\" class=\"data row1 col6\" >96.500000</td>\n",
       "      <td id=\"T_266a3_row1_col7\" class=\"data row1 col7\" >102.000000</td>\n",
       "      <td id=\"T_266a3_row1_col8\" class=\"data row1 col8\" >109.000000</td>\n",
       "    </tr>\n",
       "    <tr>\n",
       "      <th id=\"T_266a3_level0_row2\" class=\"row_heading level0 row2\" >6</th>\n",
       "      <td id=\"T_266a3_row2_col0\" class=\"data row2 col0\" >Sucre</td>\n",
       "      <td id=\"T_266a3_row2_col1\" class=\"data row2 col1\" >9.000000</td>\n",
       "      <td id=\"T_266a3_row2_col2\" class=\"data row2 col2\" >97.444444</td>\n",
       "      <td id=\"T_266a3_row2_col3\" class=\"data row2 col3\" >8.278151</td>\n",
       "      <td id=\"T_266a3_row2_col4\" class=\"data row2 col4\" >88.000000</td>\n",
       "      <td id=\"T_266a3_row2_col5\" class=\"data row2 col5\" >90.000000</td>\n",
       "      <td id=\"T_266a3_row2_col6\" class=\"data row2 col6\" >95.000000</td>\n",
       "      <td id=\"T_266a3_row2_col7\" class=\"data row2 col7\" >104.000000</td>\n",
       "      <td id=\"T_266a3_row2_col8\" class=\"data row2 col8\" >108.000000</td>\n",
       "    </tr>\n",
       "    <tr>\n",
       "      <th id=\"T_266a3_level0_row3\" class=\"row_heading level0 row3\" >5</th>\n",
       "      <td id=\"T_266a3_row3_col0\" class=\"data row3 col0\" >Santa Cruz</td>\n",
       "      <td id=\"T_266a3_row3_col1\" class=\"data row3 col1\" >7.000000</td>\n",
       "      <td id=\"T_266a3_row3_col2\" class=\"data row3 col2\" >86.000000</td>\n",
       "      <td id=\"T_266a3_row3_col3\" class=\"data row3 col3\" >4.281744</td>\n",
       "      <td id=\"T_266a3_row3_col4\" class=\"data row3 col4\" >79.000000</td>\n",
       "      <td id=\"T_266a3_row3_col5\" class=\"data row3 col5\" >84.000000</td>\n",
       "      <td id=\"T_266a3_row3_col6\" class=\"data row3 col6\" >87.000000</td>\n",
       "      <td id=\"T_266a3_row3_col7\" class=\"data row3 col7\" >89.000000</td>\n",
       "      <td id=\"T_266a3_row3_col8\" class=\"data row3 col8\" >90.000000</td>\n",
       "    </tr>\n",
       "    <tr>\n",
       "      <th id=\"T_266a3_level0_row4\" class=\"row_heading level0 row4\" >4</th>\n",
       "      <td id=\"T_266a3_row4_col0\" class=\"data row4 col0\" >Potosí</td>\n",
       "      <td id=\"T_266a3_row4_col1\" class=\"data row4 col1\" >5.000000</td>\n",
       "      <td id=\"T_266a3_row4_col2\" class=\"data row4 col2\" >87.600000</td>\n",
       "      <td id=\"T_266a3_row4_col3\" class=\"data row4 col3\" >2.073644</td>\n",
       "      <td id=\"T_266a3_row4_col4\" class=\"data row4 col4\" >86.000000</td>\n",
       "      <td id=\"T_266a3_row4_col5\" class=\"data row4 col5\" >86.000000</td>\n",
       "      <td id=\"T_266a3_row4_col6\" class=\"data row4 col6\" >87.000000</td>\n",
       "      <td id=\"T_266a3_row4_col7\" class=\"data row4 col7\" >88.000000</td>\n",
       "      <td id=\"T_266a3_row4_col8\" class=\"data row4 col8\" >91.000000</td>\n",
       "    </tr>\n",
       "    <tr>\n",
       "      <th id=\"T_266a3_level0_row5\" class=\"row_heading level0 row5\" >7</th>\n",
       "      <td id=\"T_266a3_row5_col0\" class=\"data row5 col0\" >Tarija</td>\n",
       "      <td id=\"T_266a3_row5_col1\" class=\"data row5 col1\" >4.000000</td>\n",
       "      <td id=\"T_266a3_row5_col2\" class=\"data row5 col2\" >99.000000</td>\n",
       "      <td id=\"T_266a3_row5_col3\" class=\"data row5 col3\" >8.831761</td>\n",
       "      <td id=\"T_266a3_row5_col4\" class=\"data row5 col4\" >90.000000</td>\n",
       "      <td id=\"T_266a3_row5_col5\" class=\"data row5 col5\" >92.250000</td>\n",
       "      <td id=\"T_266a3_row5_col6\" class=\"data row5 col6\" >99.000000</td>\n",
       "      <td id=\"T_266a3_row5_col7\" class=\"data row5 col7\" >105.750000</td>\n",
       "      <td id=\"T_266a3_row5_col8\" class=\"data row5 col8\" >108.000000</td>\n",
       "    </tr>\n",
       "    <tr>\n",
       "      <th id=\"T_266a3_level0_row6\" class=\"row_heading level0 row6\" >3</th>\n",
       "      <td id=\"T_266a3_row6_col0\" class=\"data row6 col0\" >Oruro</td>\n",
       "      <td id=\"T_266a3_row6_col1\" class=\"data row6 col1\" >1.000000</td>\n",
       "      <td id=\"T_266a3_row6_col2\" class=\"data row6 col2\" >89.000000</td>\n",
       "      <td id=\"T_266a3_row6_col3\" class=\"data row6 col3\" >0.000000</td>\n",
       "      <td id=\"T_266a3_row6_col4\" class=\"data row6 col4\" >89.000000</td>\n",
       "      <td id=\"T_266a3_row6_col5\" class=\"data row6 col5\" >89.000000</td>\n",
       "      <td id=\"T_266a3_row6_col6\" class=\"data row6 col6\" >89.000000</td>\n",
       "      <td id=\"T_266a3_row6_col7\" class=\"data row6 col7\" >89.000000</td>\n",
       "      <td id=\"T_266a3_row6_col8\" class=\"data row6 col8\" >89.000000</td>\n",
       "    </tr>\n",
       "    <tr>\n",
       "      <th id=\"T_266a3_level0_row7\" class=\"row_heading level0 row7\" >0</th>\n",
       "      <td id=\"T_266a3_row7_col0\" class=\"data row7 col0\" >Beni</td>\n",
       "      <td id=\"T_266a3_row7_col1\" class=\"data row7 col1\" >0.000000</td>\n",
       "      <td id=\"T_266a3_row7_col2\" class=\"data row7 col2\" >0.000000</td>\n",
       "      <td id=\"T_266a3_row7_col3\" class=\"data row7 col3\" >0.000000</td>\n",
       "      <td id=\"T_266a3_row7_col4\" class=\"data row7 col4\" >0.000000</td>\n",
       "      <td id=\"T_266a3_row7_col5\" class=\"data row7 col5\" >0.000000</td>\n",
       "      <td id=\"T_266a3_row7_col6\" class=\"data row7 col6\" >0.000000</td>\n",
       "      <td id=\"T_266a3_row7_col7\" class=\"data row7 col7\" >0.000000</td>\n",
       "      <td id=\"T_266a3_row7_col8\" class=\"data row7 col8\" >0.000000</td>\n",
       "    </tr>\n",
       "  </tbody>\n",
       "</table>\n"
      ],
      "text/plain": [
       "<pandas.io.formats.style.Styler at 0x237f4bdfb10>"
      ]
     },
     "execution_count": 36,
     "metadata": {},
     "output_type": "execute_result"
    }
   ],
   "source": [
    "# Función para resaltar valores altos\n",
    "def resaltar_maximos(valores):\n",
    "    es_max = valores == valores.max()\n",
    "    return ['color: green; font-weight: bold' if v else '' for v in es_max]\n",
    "\n",
    "def highlight_df(df):\n",
    "    columnas_numericas = df.select_dtypes(include='number').columns\n",
    "    # Se Aplica estilos solo a las columnas numéricas\n",
    "    return df.style.apply(resaltar_maximos, axis=0, subset=columnas_numericas)\n",
    "\n",
    "\n",
    "df_clean.query('nivel==\"PRINCIPIANTE\"')\\\n",
    ".groupby('departamento')['totalgeneral'].describe()\\\n",
    ".fillna(0)\\\n",
    ".reset_index()\\\n",
    ".sort_values('count', ascending=False)\\\n",
    ".pipe(highlight_df)"
   ]
  },
  {
   "cell_type": "markdown",
   "id": "47e37384",
   "metadata": {},
   "source": [
    "Los estudiantes del departamento de Tarija tiene el mejor promedio de notas del nivel Principiante. Aunque tambien presenta menor cantidad de alumnos con diferencia del departamento de La Paz que tiene notas mas variadas."
   ]
  },
  {
   "cell_type": "code",
   "execution_count": 37,
   "id": "9747fc97-312e-4a58-8835-223871335584",
   "metadata": {},
   "outputs": [
    {
     "data": {
      "image/png": "[encoded data removed]",
      "text/plain": [
       "<Figure size 800x500 with 1 Axes>"
      ]
     },
     "metadata": {},
     "output_type": "display_data"
    }
   ],
   "source": [
    "#| fig-align: center\n",
    "plt.figure(figsize=(8, 5))\n",
    "\n",
    "ax = sns.boxplot(\n",
    "    df_clean.query('nivel==\"BASICO\"'),\n",
    "    x='departamento',\n",
    "    y='totalgeneral',\n",
    "    color='#34a0a4',\n",
    "    linewidth=1.5\n",
    "    \n",
    ")\n",
    "# titulo\n",
    "plt.title(\"Notas por departamento, Nivel Básico.\", fontsize=14, loc=\"left\", fontweight=\"bold\", x=-0.1, y=1.07)\n",
    "plt.ylabel('')\n",
    "plt.xlabel('')\n",
    "ax.yaxis.grid(True)\n",
    "sns.despine(offset=10, trim=True)"
   ]
  },
  {
   "cell_type": "code",
   "execution_count": 38,
   "id": "9328b7c8",
   "metadata": {},
   "outputs": [
    {
     "data": {
      "application/vnd.microsoft.datawrangler.viewer.v0+json": {
       "columns": [
        {
         "name": "index",
         "rawType": "int64",
         "type": "integer"
        },
        {
         "name": "departamento",
         "rawType": "category",
         "type": "unknown"
        },
        {
         "name": "count",
         "rawType": "float64",
         "type": "float"
        },
        {
         "name": "mean",
         "rawType": "float64",
         "type": "float"
        },
        {
         "name": "std",
         "rawType": "float64",
         "type": "float"
        },
        {
         "name": "min",
         "rawType": "float64",
         "type": "float"
        },
        {
         "name": "25%",
         "rawType": "float64",
         "type": "float"
        },
        {
         "name": "50%",
         "rawType": "float64",
         "type": "float"
        },
        {
         "name": "75%",
         "rawType": "float64",
         "type": "float"
        },
        {
         "name": "max",
         "rawType": "float64",
         "type": "float"
        }
       ],
       "ref": "8cdfd36f-e176-4431-92af-c7c85e7da54c",
       "rows": [
        [
         "2",
         "La Paz",
         "21.0",
         "88.9047619047619",
         "7.841586331251872",
         "75.0",
         "80.0",
         "92.0",
         "96.0",
         "98.0"
        ],
        [
         "1",
         "Cochabamba",
         "8.0",
         "88.75",
         "6.22781777878209",
         "79.0",
         "86.75",
         "90.0",
         "92.25",
         "97.0"
        ],
        [
         "5",
         "Santa Cruz",
         "4.0",
         "87.0",
         "7.483314773547883",
         "77.0",
         "84.5",
         "88.0",
         "90.5",
         "95.0"
        ],
        [
         "3",
         "Oruro",
         "3.0",
         "85.0",
         "9.16515138991168",
         "75.0",
         "81.0",
         "87.0",
         "90.0",
         "93.0"
        ],
        [
         "4",
         "Potosí",
         "3.0",
         "81.66666666666667",
         "7.023769168568493",
         "75.0",
         "78.0",
         "81.0",
         "85.0",
         "89.0"
        ],
        [
         "6",
         "Sucre",
         "3.0",
         "82.66666666666667",
         "9.865765724632496",
         "76.0",
         "77.0",
         "78.0",
         "86.0",
         "94.0"
        ],
        [
         "7",
         "Tarija",
         "2.0",
         "89.5",
         "0.7071067811865476",
         "89.0",
         "89.25",
         "89.5",
         "89.75",
         "90.0"
        ],
        [
         "0",
         "Beni",
         "1.0",
         "76.0",
         "0.0",
         "76.0",
         "76.0",
         "76.0",
         "76.0",
         "76.0"
        ]
       ],
       "shape": {
        "columns": 9,
        "rows": 8
       }
      },
      "text/html": [
       "<div>\n",
       "<style scoped>\n",
       "    .dataframe tbody tr th:only-of-type {\n",
       "        vertical-align: middle;\n",
       "    }\n",
       "\n",
       "    .dataframe tbody tr th {\n",
       "        vertical-align: top;\n",
       "    }\n",
       "\n",
       "    .dataframe thead th {\n",
       "        text-align: right;\n",
       "    }\n",
       "</style>\n",
       "<table border=\"1\" class=\"dataframe\">\n",
       "  <thead>\n",
       "    <tr style=\"text-align: right;\">\n",
       "      <th></th>\n",
       "      <th>departamento</th>\n",
       "      <th>count</th>\n",
       "      <th>mean</th>\n",
       "      <th>std</th>\n",
       "      <th>min</th>\n",
       "      <th>25%</th>\n",
       "      <th>50%</th>\n",
       "      <th>75%</th>\n",
       "      <th>max</th>\n",
       "    </tr>\n",
       "  </thead>\n",
       "  <tbody>\n",
       "    <tr>\n",
       "      <th>2</th>\n",
       "      <td>La Paz</td>\n",
       "      <td>21.0</td>\n",
       "      <td>88.904762</td>\n",
       "      <td>7.841586</td>\n",
       "      <td>75.0</td>\n",
       "      <td>80.00</td>\n",
       "      <td>92.0</td>\n",
       "      <td>96.00</td>\n",
       "      <td>98.0</td>\n",
       "    </tr>\n",
       "    <tr>\n",
       "      <th>1</th>\n",
       "      <td>Cochabamba</td>\n",
       "      <td>8.0</td>\n",
       "      <td>88.750000</td>\n",
       "      <td>6.227818</td>\n",
       "      <td>79.0</td>\n",
       "      <td>86.75</td>\n",
       "      <td>90.0</td>\n",
       "      <td>92.25</td>\n",
       "      <td>97.0</td>\n",
       "    </tr>\n",
       "    <tr>\n",
       "      <th>5</th>\n",
       "      <td>Santa Cruz</td>\n",
       "      <td>4.0</td>\n",
       "      <td>87.000000</td>\n",
       "      <td>7.483315</td>\n",
       "      <td>77.0</td>\n",
       "      <td>84.50</td>\n",
       "      <td>88.0</td>\n",
       "      <td>90.50</td>\n",
       "      <td>95.0</td>\n",
       "    </tr>\n",
       "    <tr>\n",
       "      <th>3</th>\n",
       "      <td>Oruro</td>\n",
       "      <td>3.0</td>\n",
       "      <td>85.000000</td>\n",
       "      <td>9.165151</td>\n",
       "      <td>75.0</td>\n",
       "      <td>81.00</td>\n",
       "      <td>87.0</td>\n",
       "      <td>90.00</td>\n",
       "      <td>93.0</td>\n",
       "    </tr>\n",
       "    <tr>\n",
       "      <th>4</th>\n",
       "      <td>Potosí</td>\n",
       "      <td>3.0</td>\n",
       "      <td>81.666667</td>\n",
       "      <td>7.023769</td>\n",
       "      <td>75.0</td>\n",
       "      <td>78.00</td>\n",
       "      <td>81.0</td>\n",
       "      <td>85.00</td>\n",
       "      <td>89.0</td>\n",
       "    </tr>\n",
       "    <tr>\n",
       "      <th>6</th>\n",
       "      <td>Sucre</td>\n",
       "      <td>3.0</td>\n",
       "      <td>82.666667</td>\n",
       "      <td>9.865766</td>\n",
       "      <td>76.0</td>\n",
       "      <td>77.00</td>\n",
       "      <td>78.0</td>\n",
       "      <td>86.00</td>\n",
       "      <td>94.0</td>\n",
       "    </tr>\n",
       "    <tr>\n",
       "      <th>7</th>\n",
       "      <td>Tarija</td>\n",
       "      <td>2.0</td>\n",
       "      <td>89.500000</td>\n",
       "      <td>0.707107</td>\n",
       "      <td>89.0</td>\n",
       "      <td>89.25</td>\n",
       "      <td>89.5</td>\n",
       "      <td>89.75</td>\n",
       "      <td>90.0</td>\n",
       "    </tr>\n",
       "    <tr>\n",
       "      <th>0</th>\n",
       "      <td>Beni</td>\n",
       "      <td>1.0</td>\n",
       "      <td>76.000000</td>\n",
       "      <td>0.000000</td>\n",
       "      <td>76.0</td>\n",
       "      <td>76.00</td>\n",
       "      <td>76.0</td>\n",
       "      <td>76.00</td>\n",
       "      <td>76.0</td>\n",
       "    </tr>\n",
       "  </tbody>\n",
       "</table>\n",
       "</div>"
      ],
      "text/plain": [
       "  departamento  count       mean       std   min    25%   50%    75%   max\n",
       "2       La Paz   21.0  88.904762  7.841586  75.0  80.00  92.0  96.00  98.0\n",
       "1   Cochabamba    8.0  88.750000  6.227818  79.0  86.75  90.0  92.25  97.0\n",
       "5   Santa Cruz    4.0  87.000000  7.483315  77.0  84.50  88.0  90.50  95.0\n",
       "3        Oruro    3.0  85.000000  9.165151  75.0  81.00  87.0  90.00  93.0\n",
       "4       Potosí    3.0  81.666667  7.023769  75.0  78.00  81.0  85.00  89.0\n",
       "6        Sucre    3.0  82.666667  9.865766  76.0  77.00  78.0  86.00  94.0\n",
       "7       Tarija    2.0  89.500000  0.707107  89.0  89.25  89.5  89.75  90.0\n",
       "0         Beni    1.0  76.000000  0.000000  76.0  76.00  76.0  76.00  76.0"
      ]
     },
     "execution_count": 38,
     "metadata": {},
     "output_type": "execute_result"
    }
   ],
   "source": [
    "df_clean.query('nivel==\"BASICO\"')\\\n",
    ".groupby('departamento')['totalgeneral'].describe()\\\n",
    ".fillna(0)\\\n",
    ".reset_index()\\\n",
    ".sort_values('count', ascending=False)"
   ]
  },
  {
   "cell_type": "markdown",
   "id": "e2bca71e",
   "metadata": {},
   "source": [
    "Los estudiantes de Potosí y Sucre tiene promedios ligeramente mas bajos que los otros departamentos. Asimismo tambien cuenta con una reducida cantidad de estudiantes (3). Los demas departamentos no presentan grandes diferencias entre las notas obtenidas en el nivel Básico."
   ]
  },
  {
   "cell_type": "code",
   "execution_count": 39,
   "id": "530a66c3-7041-4fda-bade-bb9593beb70a",
   "metadata": {},
   "outputs": [
    {
     "data": {
      "image/png": "[encoded data removed]",
      "text/plain": [
       "<Figure size 800x500 with 1 Axes>"
      ]
     },
     "metadata": {},
     "output_type": "display_data"
    }
   ],
   "source": [
    "#| fig-align: center\n",
    "plt.figure(figsize=(8, 5))\n",
    "\n",
    "ax = sns.boxplot(\n",
    "    df_clean.query('nivel==\"INTERMEDIO\"'),\n",
    "    x='departamento',\n",
    "    y='totalgeneral',\n",
    "    color='#34a0a4',\n",
    "    linewidth=1.5\n",
    "    \n",
    ")\n",
    "# titulo y configuraciones\n",
    "plt.title(\"Notas por departamento, Nivel Intermedio.\", fontsize=14, loc=\"left\", fontweight=\"bold\", x=-0.1, y=1.07)\n",
    "plt.ylabel('')\n",
    "plt.xlabel('')\n",
    "ax.yaxis.grid(True)\n",
    "sns.despine(offset=10, trim=True)"
   ]
  },
  {
   "cell_type": "code",
   "execution_count": 40,
   "id": "333cc9ef",
   "metadata": {},
   "outputs": [
    {
     "data": {
      "text/html": [
       "<style type=\"text/css\">\n",
       "#T_0472f_row0_col1, #T_0472f_row1_col3, #T_0472f_row1_col8, #T_0472f_row2_col2, #T_0472f_row2_col4, #T_0472f_row2_col5, #T_0472f_row2_col6, #T_0472f_row2_col7 {\n",
       "  color: green;\n",
       "  font-weight: bold;\n",
       "}\n",
       "</style>\n",
       "<table id=\"T_0472f\">\n",
       "  <thead>\n",
       "    <tr>\n",
       "      <th class=\"blank level0\" >&nbsp;</th>\n",
       "      <th id=\"T_0472f_level0_col0\" class=\"col_heading level0 col0\" >departamento</th>\n",
       "      <th id=\"T_0472f_level0_col1\" class=\"col_heading level0 col1\" >count</th>\n",
       "      <th id=\"T_0472f_level0_col2\" class=\"col_heading level0 col2\" >mean</th>\n",
       "      <th id=\"T_0472f_level0_col3\" class=\"col_heading level0 col3\" >std</th>\n",
       "      <th id=\"T_0472f_level0_col4\" class=\"col_heading level0 col4\" >min</th>\n",
       "      <th id=\"T_0472f_level0_col5\" class=\"col_heading level0 col5\" >25%</th>\n",
       "      <th id=\"T_0472f_level0_col6\" class=\"col_heading level0 col6\" >50%</th>\n",
       "      <th id=\"T_0472f_level0_col7\" class=\"col_heading level0 col7\" >75%</th>\n",
       "      <th id=\"T_0472f_level0_col8\" class=\"col_heading level0 col8\" >max</th>\n",
       "    </tr>\n",
       "  </thead>\n",
       "  <tbody>\n",
       "    <tr>\n",
       "      <th id=\"T_0472f_level0_row0\" class=\"row_heading level0 row0\" >1</th>\n",
       "      <td id=\"T_0472f_row0_col0\" class=\"data row0 col0\" >Cochabamba</td>\n",
       "      <td id=\"T_0472f_row0_col1\" class=\"data row0 col1\" >10.000000</td>\n",
       "      <td id=\"T_0472f_row0_col2\" class=\"data row0 col2\" >86.000000</td>\n",
       "      <td id=\"T_0472f_row0_col3\" class=\"data row0 col3\" >6.182412</td>\n",
       "      <td id=\"T_0472f_row0_col4\" class=\"data row0 col4\" >78.000000</td>\n",
       "      <td id=\"T_0472f_row0_col5\" class=\"data row0 col5\" >82.250000</td>\n",
       "      <td id=\"T_0472f_row0_col6\" class=\"data row0 col6\" >83.500000</td>\n",
       "      <td id=\"T_0472f_row0_col7\" class=\"data row0 col7\" >87.750000</td>\n",
       "      <td id=\"T_0472f_row0_col8\" class=\"data row0 col8\" >97.000000</td>\n",
       "    </tr>\n",
       "    <tr>\n",
       "      <th id=\"T_0472f_level0_row1\" class=\"row_heading level0 row1\" >2</th>\n",
       "      <td id=\"T_0472f_row1_col0\" class=\"data row1 col0\" >La Paz</td>\n",
       "      <td id=\"T_0472f_row1_col1\" class=\"data row1 col1\" >9.000000</td>\n",
       "      <td id=\"T_0472f_row1_col2\" class=\"data row1 col2\" >86.000000</td>\n",
       "      <td id=\"T_0472f_row1_col3\" class=\"data row1 col3\" >7.053368</td>\n",
       "      <td id=\"T_0472f_row1_col4\" class=\"data row1 col4\" >75.000000</td>\n",
       "      <td id=\"T_0472f_row1_col5\" class=\"data row1 col5\" >82.000000</td>\n",
       "      <td id=\"T_0472f_row1_col6\" class=\"data row1 col6\" >85.000000</td>\n",
       "      <td id=\"T_0472f_row1_col7\" class=\"data row1 col7\" >89.000000</td>\n",
       "      <td id=\"T_0472f_row1_col8\" class=\"data row1 col8\" >100.000000</td>\n",
       "    </tr>\n",
       "    <tr>\n",
       "      <th id=\"T_0472f_level0_row2\" class=\"row_heading level0 row2\" >7</th>\n",
       "      <td id=\"T_0472f_row2_col0\" class=\"data row2 col0\" >Tarija</td>\n",
       "      <td id=\"T_0472f_row2_col1\" class=\"data row2 col1\" >3.000000</td>\n",
       "      <td id=\"T_0472f_row2_col2\" class=\"data row2 col2\" >94.333333</td>\n",
       "      <td id=\"T_0472f_row2_col3\" class=\"data row2 col3\" >5.033223</td>\n",
       "      <td id=\"T_0472f_row2_col4\" class=\"data row2 col4\" >89.000000</td>\n",
       "      <td id=\"T_0472f_row2_col5\" class=\"data row2 col5\" >92.000000</td>\n",
       "      <td id=\"T_0472f_row2_col6\" class=\"data row2 col6\" >95.000000</td>\n",
       "      <td id=\"T_0472f_row2_col7\" class=\"data row2 col7\" >97.000000</td>\n",
       "      <td id=\"T_0472f_row2_col8\" class=\"data row2 col8\" >99.000000</td>\n",
       "    </tr>\n",
       "    <tr>\n",
       "      <th id=\"T_0472f_level0_row3\" class=\"row_heading level0 row3\" >3</th>\n",
       "      <td id=\"T_0472f_row3_col0\" class=\"data row3 col0\" >Oruro</td>\n",
       "      <td id=\"T_0472f_row3_col1\" class=\"data row3 col1\" >1.000000</td>\n",
       "      <td id=\"T_0472f_row3_col2\" class=\"data row3 col2\" >76.000000</td>\n",
       "      <td id=\"T_0472f_row3_col3\" class=\"data row3 col3\" >0.000000</td>\n",
       "      <td id=\"T_0472f_row3_col4\" class=\"data row3 col4\" >76.000000</td>\n",
       "      <td id=\"T_0472f_row3_col5\" class=\"data row3 col5\" >76.000000</td>\n",
       "      <td id=\"T_0472f_row3_col6\" class=\"data row3 col6\" >76.000000</td>\n",
       "      <td id=\"T_0472f_row3_col7\" class=\"data row3 col7\" >76.000000</td>\n",
       "      <td id=\"T_0472f_row3_col8\" class=\"data row3 col8\" >76.000000</td>\n",
       "    </tr>\n",
       "    <tr>\n",
       "      <th id=\"T_0472f_level0_row4\" class=\"row_heading level0 row4\" >4</th>\n",
       "      <td id=\"T_0472f_row4_col0\" class=\"data row4 col0\" >Potosí</td>\n",
       "      <td id=\"T_0472f_row4_col1\" class=\"data row4 col1\" >1.000000</td>\n",
       "      <td id=\"T_0472f_row4_col2\" class=\"data row4 col2\" >84.000000</td>\n",
       "      <td id=\"T_0472f_row4_col3\" class=\"data row4 col3\" >0.000000</td>\n",
       "      <td id=\"T_0472f_row4_col4\" class=\"data row4 col4\" >84.000000</td>\n",
       "      <td id=\"T_0472f_row4_col5\" class=\"data row4 col5\" >84.000000</td>\n",
       "      <td id=\"T_0472f_row4_col6\" class=\"data row4 col6\" >84.000000</td>\n",
       "      <td id=\"T_0472f_row4_col7\" class=\"data row4 col7\" >84.000000</td>\n",
       "      <td id=\"T_0472f_row4_col8\" class=\"data row4 col8\" >84.000000</td>\n",
       "    </tr>\n",
       "    <tr>\n",
       "      <th id=\"T_0472f_level0_row5\" class=\"row_heading level0 row5\" >5</th>\n",
       "      <td id=\"T_0472f_row5_col0\" class=\"data row5 col0\" >Santa Cruz</td>\n",
       "      <td id=\"T_0472f_row5_col1\" class=\"data row5 col1\" >1.000000</td>\n",
       "      <td id=\"T_0472f_row5_col2\" class=\"data row5 col2\" >83.000000</td>\n",
       "      <td id=\"T_0472f_row5_col3\" class=\"data row5 col3\" >0.000000</td>\n",
       "      <td id=\"T_0472f_row5_col4\" class=\"data row5 col4\" >83.000000</td>\n",
       "      <td id=\"T_0472f_row5_col5\" class=\"data row5 col5\" >83.000000</td>\n",
       "      <td id=\"T_0472f_row5_col6\" class=\"data row5 col6\" >83.000000</td>\n",
       "      <td id=\"T_0472f_row5_col7\" class=\"data row5 col7\" >83.000000</td>\n",
       "      <td id=\"T_0472f_row5_col8\" class=\"data row5 col8\" >83.000000</td>\n",
       "    </tr>\n",
       "    <tr>\n",
       "      <th id=\"T_0472f_level0_row6\" class=\"row_heading level0 row6\" >6</th>\n",
       "      <td id=\"T_0472f_row6_col0\" class=\"data row6 col0\" >Sucre</td>\n",
       "      <td id=\"T_0472f_row6_col1\" class=\"data row6 col1\" >1.000000</td>\n",
       "      <td id=\"T_0472f_row6_col2\" class=\"data row6 col2\" >88.000000</td>\n",
       "      <td id=\"T_0472f_row6_col3\" class=\"data row6 col3\" >0.000000</td>\n",
       "      <td id=\"T_0472f_row6_col4\" class=\"data row6 col4\" >88.000000</td>\n",
       "      <td id=\"T_0472f_row6_col5\" class=\"data row6 col5\" >88.000000</td>\n",
       "      <td id=\"T_0472f_row6_col6\" class=\"data row6 col6\" >88.000000</td>\n",
       "      <td id=\"T_0472f_row6_col7\" class=\"data row6 col7\" >88.000000</td>\n",
       "      <td id=\"T_0472f_row6_col8\" class=\"data row6 col8\" >88.000000</td>\n",
       "    </tr>\n",
       "    <tr>\n",
       "      <th id=\"T_0472f_level0_row7\" class=\"row_heading level0 row7\" >0</th>\n",
       "      <td id=\"T_0472f_row7_col0\" class=\"data row7 col0\" >Beni</td>\n",
       "      <td id=\"T_0472f_row7_col1\" class=\"data row7 col1\" >0.000000</td>\n",
       "      <td id=\"T_0472f_row7_col2\" class=\"data row7 col2\" >0.000000</td>\n",
       "      <td id=\"T_0472f_row7_col3\" class=\"data row7 col3\" >0.000000</td>\n",
       "      <td id=\"T_0472f_row7_col4\" class=\"data row7 col4\" >0.000000</td>\n",
       "      <td id=\"T_0472f_row7_col5\" class=\"data row7 col5\" >0.000000</td>\n",
       "      <td id=\"T_0472f_row7_col6\" class=\"data row7 col6\" >0.000000</td>\n",
       "      <td id=\"T_0472f_row7_col7\" class=\"data row7 col7\" >0.000000</td>\n",
       "      <td id=\"T_0472f_row7_col8\" class=\"data row7 col8\" >0.000000</td>\n",
       "    </tr>\n",
       "  </tbody>\n",
       "</table>\n"
      ],
      "text/plain": [
       "<pandas.io.formats.style.Styler at 0x237f4c8e610>"
      ]
     },
     "execution_count": 40,
     "metadata": {},
     "output_type": "execute_result"
    }
   ],
   "source": [
    "df_clean.query('nivel==\"INTERMEDIO\"')\\\n",
    ".groupby('departamento')['totalgeneral'].describe()\\\n",
    ".fillna(0)\\\n",
    ".reset_index()\\\n",
    ".sort_values('count', ascending=False)\\\n",
    ".pipe(highlight_df)"
   ]
  },
  {
   "cell_type": "markdown",
   "id": "9a89a34c",
   "metadata": {},
   "source": [
    "Los estudiantes de Tarija (3) presentan mejor rendimiento en el nivel Intermedio con respecto a los demas departamentos.\n",
    "Los departamentod de Cochabamba y La Paz presentan rendimientos similares teniendo ambos un promedio de 86 puntos."
   ]
  },
  {
   "cell_type": "code",
   "execution_count": 41,
   "id": "0a0e1ed3-e5b1-458c-8082-f94144aab7f7",
   "metadata": {},
   "outputs": [
    {
     "data": {
      "application/vnd.microsoft.datawrangler.viewer.v0+json": {
       "columns": [
        {
         "name": "docente",
         "rawType": "category",
         "type": "unknown"
        },
        {
         "name": "PRINCIPIANTE",
         "rawType": "int64",
         "type": "integer"
        },
        {
         "name": "BASICO",
         "rawType": "int64",
         "type": "integer"
        },
        {
         "name": "INTERMEDIO",
         "rawType": "int64",
         "type": "integer"
        }
       ],
       "ref": "0344b367-1c9e-4e3e-b8b5-30fd95b6a854",
       "rows": [
        [
         "ERIKA",
         "26",
         "0",
         "0"
        ],
        [
         "HELEN",
         "0",
         "20",
         "0"
        ],
        [
         "LOURDES",
         "0",
         "0",
         "13"
        ],
        [
         "MARIA",
         "30",
         "0",
         "0"
        ],
        [
         "MARIAN",
         "0",
         "0",
         "13"
        ],
        [
         "NICOLAS",
         "21",
         "0",
         "0"
        ],
        [
         "RUTH",
         "0",
         "25",
         "0"
        ]
       ],
       "shape": {
        "columns": 3,
        "rows": 7
       }
      },
      "text/html": [
       "<div>\n",
       "<style scoped>\n",
       "    .dataframe tbody tr th:only-of-type {\n",
       "        vertical-align: middle;\n",
       "    }\n",
       "\n",
       "    .dataframe tbody tr th {\n",
       "        vertical-align: top;\n",
       "    }\n",
       "\n",
       "    .dataframe thead th {\n",
       "        text-align: right;\n",
       "    }\n",
       "</style>\n",
       "<table border=\"1\" class=\"dataframe\">\n",
       "  <thead>\n",
       "    <tr style=\"text-align: right;\">\n",
       "      <th>nivel</th>\n",
       "      <th>PRINCIPIANTE</th>\n",
       "      <th>BASICO</th>\n",
       "      <th>INTERMEDIO</th>\n",
       "    </tr>\n",
       "    <tr>\n",
       "      <th>docente</th>\n",
       "      <th></th>\n",
       "      <th></th>\n",
       "      <th></th>\n",
       "    </tr>\n",
       "  </thead>\n",
       "  <tbody>\n",
       "    <tr>\n",
       "      <th>ERIKA</th>\n",
       "      <td>26</td>\n",
       "      <td>0</td>\n",
       "      <td>0</td>\n",
       "    </tr>\n",
       "    <tr>\n",
       "      <th>HELEN</th>\n",
       "      <td>0</td>\n",
       "      <td>20</td>\n",
       "      <td>0</td>\n",
       "    </tr>\n",
       "    <tr>\n",
       "      <th>LOURDES</th>\n",
       "      <td>0</td>\n",
       "      <td>0</td>\n",
       "      <td>13</td>\n",
       "    </tr>\n",
       "    <tr>\n",
       "      <th>MARIA</th>\n",
       "      <td>30</td>\n",
       "      <td>0</td>\n",
       "      <td>0</td>\n",
       "    </tr>\n",
       "    <tr>\n",
       "      <th>MARIAN</th>\n",
       "      <td>0</td>\n",
       "      <td>0</td>\n",
       "      <td>13</td>\n",
       "    </tr>\n",
       "    <tr>\n",
       "      <th>NICOLAS</th>\n",
       "      <td>21</td>\n",
       "      <td>0</td>\n",
       "      <td>0</td>\n",
       "    </tr>\n",
       "    <tr>\n",
       "      <th>RUTH</th>\n",
       "      <td>0</td>\n",
       "      <td>25</td>\n",
       "      <td>0</td>\n",
       "    </tr>\n",
       "  </tbody>\n",
       "</table>\n",
       "</div>"
      ],
      "text/plain": [
       "nivel    PRINCIPIANTE  BASICO  INTERMEDIO\n",
       "docente                                  \n",
       "ERIKA              26       0           0\n",
       "HELEN               0      20           0\n",
       "LOURDES             0       0          13\n",
       "MARIA              30       0           0\n",
       "MARIAN              0       0          13\n",
       "NICOLAS            21       0           0\n",
       "RUTH                0      25           0"
      ]
     },
     "execution_count": 41,
     "metadata": {},
     "output_type": "execute_result"
    }
   ],
   "source": [
    "pd.crosstab(df_clean.docente, df_clean.nivel).loc[:,['PRINCIPIANTE', 'BASICO', 'INTERMEDIO']]"
   ]
  },
  {
   "cell_type": "markdown",
   "id": "66b5f863",
   "metadata": {},
   "source": [
    "Cada docente solamente dicto un curso en la modalidad intensivo."
   ]
  },
  {
   "cell_type": "code",
   "execution_count": 42,
   "id": "de8845e5-4803-49f1-b62c-4606c19c0464",
   "metadata": {},
   "outputs": [
    {
     "data": {
      "image/png": "[encoded data removed]",
      "text/plain": [
       "<Figure size 700x400 with 3 Axes>"
      ]
     },
     "metadata": {},
     "output_type": "display_data"
    }
   ],
   "source": [
    "\n",
    "# Se crean 3 subgráficos (1 fila, 3 columnas)\n",
    "fig, axes = plt.subplots(1, 3, figsize=(7, 4), sharey=True)\n",
    "colores = ['#76c893', '#34a0a4', '#168aad']\n",
    "# Barplot 1: por docente\n",
    "sns.barplot(\n",
    "    df_clean.query('nivel==\"PRINCIPIANTE\"').assign(docente=lambda df: df.docente.astype(str)), \n",
    "    x=\"docente\", y=\"totalgeneral\",\n",
    "    errorbar='sd',\n",
    "    estimator='mean',\n",
    "    capsize=.4,\n",
    "    color=colores[0],\n",
    "    err_kws={\"color\": \".2\", \"linewidth\": 2},\n",
    "    edgecolor=\".2\",\n",
    "    linewidth=2,\n",
    "    ax=axes[0],\n",
    ")\n",
    "axes[0].set_title(\"Principiante\")    \n",
    "axes[0].set_xlabel(\"\")\n",
    "axes[0].set_ylabel(\"\")\n",
    "\n",
    "# Barplot 2: por nivel\n",
    "sns.barplot(\n",
    "    df_clean.query('nivel==\"BASICO\"').assign(docente=lambda df: df.docente.astype(str)), \n",
    "    x=\"docente\", y=\"totalgeneral\",\n",
    "    errorbar='sd',\n",
    "    estimator='mean',\n",
    "    capsize=.4,\n",
    "    color=colores[1],\n",
    "    err_kws={\"color\": \".2\", \"linewidth\": 2},\n",
    "    edgecolor=\".2\",\n",
    "    linewidth=2,\n",
    "    ax=axes[1],\n",
    ")\n",
    "axes[1].set_title(\"Básico\")\n",
    "axes[1].set_xlabel(\"\")\n",
    "axes[1].set_ylabel(\"\")\n",
    "\n",
    "# Barplot 3: por departamento\n",
    "sns.barplot(\n",
    "    df_clean.query('nivel==\"INTERMEDIO\"').assign(docente=lambda df: df.docente.astype(str)), \n",
    "    x=\"docente\", y=\"totalgeneral\",\n",
    "    errorbar='sd',\n",
    "    estimator='mean',\n",
    "    capsize=.4,\n",
    "    color=colores[2],\n",
    "    err_kws={\"color\": \".2\", \"linewidth\": 2},\n",
    "    edgecolor=\".2\",\n",
    "    linewidth=2,\n",
    "    ax=axes[2],\n",
    ")\n",
    "axes[2].set_title(\"Intermedio\")\n",
    "axes[2].set_xlabel(\"\")\n",
    "axes[2].set_ylabel(\"\")\n",
    "\n",
    "\n",
    "for ax in axes:\n",
    "    # Se les pone en negrita las etiquetas del eje X\n",
    "    for label in ax.get_xticklabels():\n",
    "        label.set_fontweight('bold')\n",
    "#Titulo\n",
    "fig.suptitle(\"Comparación de Notas Promedio por Docente de cada nivel\", fontsize=16, fontweight='bold', x=0.38, y=1)\n",
    "fig.text(-0.07, 0.9, '*se muestra la desviación estandar.', fontsize=10, color='gray')\n",
    "\n",
    "\n",
    "# Eje y, etiqueta\n",
    "fig.text(-0.04, 0.77, 'Nota', fontsize=12, fontweight='bold')\n",
    "\n",
    "\n",
    "sns.despine(top=True, right=True)\n",
    "# Ajuste del diseño para evitar solapamiento\n",
    "plt.tight_layout()\n",
    "plt.ylim(50, None)\n",
    "# Mostrar gráfico\n",
    "plt.show()\n"
   ]
  },
  {
   "cell_type": "code",
   "execution_count": 43,
   "id": "841c7159",
   "metadata": {},
   "outputs": [
    {
     "data": {
      "application/vnd.microsoft.datawrangler.viewer.v0+json": {
       "columns": [
        {
         "name": "('nivel', 'docente')",
         "rawType": "object",
         "type": "string"
        },
        {
         "name": "count",
         "rawType": "float64",
         "type": "float"
        },
        {
         "name": "mean",
         "rawType": "float64",
         "type": "float"
        },
        {
         "name": "std",
         "rawType": "float64",
         "type": "float"
        },
        {
         "name": "min",
         "rawType": "float64",
         "type": "float"
        },
        {
         "name": "25%",
         "rawType": "float64",
         "type": "float"
        },
        {
         "name": "50%",
         "rawType": "float64",
         "type": "float"
        },
        {
         "name": "75%",
         "rawType": "float64",
         "type": "float"
        },
        {
         "name": "max",
         "rawType": "float64",
         "type": "float"
        }
       ],
       "ref": "03ff3ae5-826e-4323-af59-e5f3697c8cc2",
       "rows": [
        [
         "('BASICO', 'HELEN')",
         "20.0",
         "84.8",
         "8.513765942655212",
         "75.0",
         "77.75",
         "80.5",
         "92.5",
         "98.0"
        ],
        [
         "('BASICO', 'RUTH')",
         "25.0",
         "89.28",
         "6.174679478860961",
         "75.0",
         "87.0",
         "90.0",
         "93.0",
         "98.0"
        ],
        [
         "('INTERMEDIO', 'LOURDES')",
         "13.0",
         "84.6923076923077",
         "5.056095584945221",
         "76.0",
         "82.0",
         "84.0",
         "87.0",
         "96.0"
        ],
        [
         "('INTERMEDIO', 'MARIAN')",
         "13.0",
         "88.23076923076923",
         "7.769103832423296",
         "75.0",
         "83.0",
         "88.0",
         "95.0",
         "100.0"
        ],
        [
         "('PRINCIPIANTE', 'ERIKA')",
         "26.0",
         "90.34615384615384",
         "2.4648295306946917",
         "87.0",
         "88.25",
         "90.0",
         "92.0",
         "95.0"
        ],
        [
         "('PRINCIPIANTE', 'MARIA')",
         "30.0",
         "98.1",
         "9.907677273988957",
         "75.0",
         "92.0",
         "102.0",
         "106.75",
         "109.0"
        ],
        [
         "('PRINCIPIANTE', 'NICOLAS')",
         "21.0",
         "90.42857142857143",
         "6.982631513773503",
         "79.0",
         "86.0",
         "90.0",
         "95.0",
         "104.0"
        ]
       ],
       "shape": {
        "columns": 8,
        "rows": 7
       }
      },
      "text/html": [
       "<div>\n",
       "<style scoped>\n",
       "    .dataframe tbody tr th:only-of-type {\n",
       "        vertical-align: middle;\n",
       "    }\n",
       "\n",
       "    .dataframe tbody tr th {\n",
       "        vertical-align: top;\n",
       "    }\n",
       "\n",
       "    .dataframe thead th {\n",
       "        text-align: right;\n",
       "    }\n",
       "</style>\n",
       "<table border=\"1\" class=\"dataframe\">\n",
       "  <thead>\n",
       "    <tr style=\"text-align: right;\">\n",
       "      <th></th>\n",
       "      <th></th>\n",
       "      <th>count</th>\n",
       "      <th>mean</th>\n",
       "      <th>std</th>\n",
       "      <th>min</th>\n",
       "      <th>25%</th>\n",
       "      <th>50%</th>\n",
       "      <th>75%</th>\n",
       "      <th>max</th>\n",
       "    </tr>\n",
       "    <tr>\n",
       "      <th>nivel</th>\n",
       "      <th>docente</th>\n",
       "      <th></th>\n",
       "      <th></th>\n",
       "      <th></th>\n",
       "      <th></th>\n",
       "      <th></th>\n",
       "      <th></th>\n",
       "      <th></th>\n",
       "      <th></th>\n",
       "    </tr>\n",
       "  </thead>\n",
       "  <tbody>\n",
       "    <tr>\n",
       "      <th rowspan=\"2\" valign=\"top\">BASICO</th>\n",
       "      <th>HELEN</th>\n",
       "      <td>20.0</td>\n",
       "      <td>84.800000</td>\n",
       "      <td>8.513766</td>\n",
       "      <td>75.0</td>\n",
       "      <td>77.75</td>\n",
       "      <td>80.5</td>\n",
       "      <td>92.50</td>\n",
       "      <td>98.0</td>\n",
       "    </tr>\n",
       "    <tr>\n",
       "      <th>RUTH</th>\n",
       "      <td>25.0</td>\n",
       "      <td>89.280000</td>\n",
       "      <td>6.174679</td>\n",
       "      <td>75.0</td>\n",
       "      <td>87.00</td>\n",
       "      <td>90.0</td>\n",
       "      <td>93.00</td>\n",
       "      <td>98.0</td>\n",
       "    </tr>\n",
       "    <tr>\n",
       "      <th rowspan=\"2\" valign=\"top\">INTERMEDIO</th>\n",
       "      <th>LOURDES</th>\n",
       "      <td>13.0</td>\n",
       "      <td>84.692308</td>\n",
       "      <td>5.056096</td>\n",
       "      <td>76.0</td>\n",
       "      <td>82.00</td>\n",
       "      <td>84.0</td>\n",
       "      <td>87.00</td>\n",
       "      <td>96.0</td>\n",
       "    </tr>\n",
       "    <tr>\n",
       "      <th>MARIAN</th>\n",
       "      <td>13.0</td>\n",
       "      <td>88.230769</td>\n",
       "      <td>7.769104</td>\n",
       "      <td>75.0</td>\n",
       "      <td>83.00</td>\n",
       "      <td>88.0</td>\n",
       "      <td>95.00</td>\n",
       "      <td>100.0</td>\n",
       "    </tr>\n",
       "    <tr>\n",
       "      <th rowspan=\"3\" valign=\"top\">PRINCIPIANTE</th>\n",
       "      <th>ERIKA</th>\n",
       "      <td>26.0</td>\n",
       "      <td>90.346154</td>\n",
       "      <td>2.464830</td>\n",
       "      <td>87.0</td>\n",
       "      <td>88.25</td>\n",
       "      <td>90.0</td>\n",
       "      <td>92.00</td>\n",
       "      <td>95.0</td>\n",
       "    </tr>\n",
       "    <tr>\n",
       "      <th>MARIA</th>\n",
       "      <td>30.0</td>\n",
       "      <td>98.100000</td>\n",
       "      <td>9.907677</td>\n",
       "      <td>75.0</td>\n",
       "      <td>92.00</td>\n",
       "      <td>102.0</td>\n",
       "      <td>106.75</td>\n",
       "      <td>109.0</td>\n",
       "    </tr>\n",
       "    <tr>\n",
       "      <th>NICOLAS</th>\n",
       "      <td>21.0</td>\n",
       "      <td>90.428571</td>\n",
       "      <td>6.982632</td>\n",
       "      <td>79.0</td>\n",
       "      <td>86.00</td>\n",
       "      <td>90.0</td>\n",
       "      <td>95.00</td>\n",
       "      <td>104.0</td>\n",
       "    </tr>\n",
       "  </tbody>\n",
       "</table>\n",
       "</div>"
      ],
      "text/plain": [
       "                      count       mean       std   min    25%    50%     75%  \\\n",
       "nivel        docente                                                           \n",
       "BASICO       HELEN     20.0  84.800000  8.513766  75.0  77.75   80.5   92.50   \n",
       "             RUTH      25.0  89.280000  6.174679  75.0  87.00   90.0   93.00   \n",
       "INTERMEDIO   LOURDES   13.0  84.692308  5.056096  76.0  82.00   84.0   87.00   \n",
       "             MARIAN    13.0  88.230769  7.769104  75.0  83.00   88.0   95.00   \n",
       "PRINCIPIANTE ERIKA     26.0  90.346154  2.464830  87.0  88.25   90.0   92.00   \n",
       "             MARIA     30.0  98.100000  9.907677  75.0  92.00  102.0  106.75   \n",
       "             NICOLAS   21.0  90.428571  6.982632  79.0  86.00   90.0   95.00   \n",
       "\n",
       "                        max  \n",
       "nivel        docente         \n",
       "BASICO       HELEN     98.0  \n",
       "             RUTH      98.0  \n",
       "INTERMEDIO   LOURDES   96.0  \n",
       "             MARIAN   100.0  \n",
       "PRINCIPIANTE ERIKA     95.0  \n",
       "             MARIA    109.0  \n",
       "             NICOLAS  104.0  "
      ]
     },
     "execution_count": 43,
     "metadata": {},
     "output_type": "execute_result"
    }
   ],
   "source": [
    "df_clean.groupby(['nivel', 'docente'])['totalgeneral'].describe()"
   ]
  },
  {
   "cell_type": "markdown",
   "id": "492078d8",
   "metadata": {},
   "source": [
    "A nivel general el curso de Maria tiene un promedio de notas superior al resto de cursos, con 98 puntos.\n",
    "\n",
    "\n",
    "- El 75 % de los alumnos del curso de Maria del nivel principiante obtuvo un nota igual o superior a 92 puntos. Mientras que un 75 % de los alumnos del curso de Erika tiene un puntaje a los mas de 92 puntos.\n",
    "- En el nivel Básico, el curso de Ruth posee un mejor promedio (89.3) y menor variacion en las notas con respecto al curso de Helen.\n",
    "- En el nivel Intermedio, el curso de Marian presenta un mejor promedio (88) con respecto al curso de Lourdes."
   ]
  },
  {
   "cell_type": "code",
   "execution_count": 44,
   "id": "030baee7-eec4-4682-be34-c54edbdfea22",
   "metadata": {},
   "outputs": [
    {
     "data": {
      "application/vnd.microsoft.datawrangler.viewer.v0+json": {
       "columns": [
        {
         "name": "index",
         "rawType": "category",
         "type": "unknown"
        },
        {
         "name": "estado_actividades",
         "rawType": "int64",
         "type": "integer"
        }
       ],
       "ref": "ae2230a2-9dc8-4597-a555-5da91506ff01",
       "rows": [
        [
         "INCOMPLETO",
         "89"
        ],
        [
         "COMPLETO",
         "59"
        ]
       ],
       "shape": {
        "columns": 1,
        "rows": 2
       }
      },
      "text/plain": [
       "INCOMPLETO    89\n",
       "COMPLETO      59\n",
       "Name: estado_actividades, dtype: int64"
      ]
     },
     "execution_count": 44,
     "metadata": {},
     "output_type": "execute_result"
    }
   ],
   "source": [
    "#| output: False\n",
    "df_clean.estado_actividades.value_counts()"
   ]
  },
  {
   "cell_type": "code",
   "execution_count": 45,
   "id": "1245fc0e-7b8c-47d2-b26a-405eb66e296c",
   "metadata": {},
   "outputs": [
    {
     "data": {
      "application/vnd.microsoft.datawrangler.viewer.v0+json": {
       "columns": [
        {
         "name": "index",
         "rawType": "category",
         "type": "unknown"
        },
        {
         "name": "estado_actividades",
         "rawType": "float64",
         "type": "float"
        }
       ],
       "ref": "296cdc61-6536-4627-aee3-780d6950f544",
       "rows": [
        [
         "INCOMPLETO",
         "60.13513513513513"
        ],
        [
         "COMPLETO",
         "39.86486486486486"
        ]
       ],
       "shape": {
        "columns": 1,
        "rows": 2
       }
      },
      "text/plain": [
       "INCOMPLETO    60.135135\n",
       "COMPLETO      39.864865\n",
       "Name: estado_actividades, dtype: float64"
      ]
     },
     "execution_count": 45,
     "metadata": {},
     "output_type": "execute_result"
    }
   ],
   "source": [
    "#| output: False\n",
    "vals_pie = df_clean.estado_actividades.value_counts(normalize=True).mul(100)\n",
    "vals_pie"
   ]
  },
  {
   "cell_type": "markdown",
   "id": "7f396dba",
   "metadata": {},
   "source": [
    ":::: {.columns}\n",
    "\n",
    "::: {.column width=\"50%\"}"
   ]
  },
  {
   "cell_type": "code",
   "execution_count": 46,
   "id": "a3887a0e",
   "metadata": {},
   "outputs": [
    {
     "data": {
      "image/png": "[encoded data removed]",
      "text/plain": [
       "<Figure size 400x500 with 1 Axes>"
      ]
     },
     "metadata": {},
     "output_type": "display_data"
    }
   ],
   "source": [
    "labels = vals_pie.index\n",
    "sizes = vals_pie.values\n",
    "\n",
    "colores = ['#0B8494','#F05A7E']\n",
    "\n",
    "# Configuración de los bordes del pie\n",
    "wedge_properties = {\"edgecolor\": \"black\", \"linewidth\": 1.5}\n",
    "\n",
    "fig, ax = plt.subplots(figsize=(4, 5)) # Creamos una figura y un eje\n",
    "\n",
    "# Creamos el pie chart\n",
    "# pctdistance=0.7 para mostrar el porcentaje DENTRO del pie\n",
    "wedges, texts, autotexts = ax.pie(sizes,\n",
    "                                  labels=labels,\n",
    "                                  autopct='%1.1f%%',\n",
    "                                  pctdistance=0.5, # Muestra el porcentaje DENTRO del pie\n",
    "                                  colors=colores,\n",
    "                                  wedgeprops=wedge_properties,\n",
    "                                  textprops={'color': 'black', 'fontsize': 10})\n",
    "\n",
    "# Quitar el nombre del eje Y (si aparece)\n",
    "ax.yaxis.set_visible(False)\n",
    "\n",
    "# Asegurar que el pie chart sea un círculo\n",
    "ax.axis('equal')\n",
    "\n",
    "for autotext in autotexts:\n",
    "    autotext.set_color('white') # Color del texto de los porcentajes\n",
    "    autotext.set_fontsize(20)\n",
    "    autotext.set_weight('bold')\n",
    "\n",
    "# Añadir un título\n",
    "ax.set_title('Estado de las actividades', fontsize=14, loc='left', fontweight='bold')\n",
    "\n",
    "plt.show()"
   ]
  },
  {
   "cell_type": "markdown",
   "id": "615d6740",
   "metadata": {},
   "source": [
    ":::"
   ]
  },
  {
   "cell_type": "markdown",
   "id": "fbce8fa1",
   "metadata": {},
   "source": [
    "::: {.column width=\"50%\"}"
   ]
  },
  {
   "cell_type": "code",
   "execution_count": 47,
   "id": "967df7cf-b625-49d0-940f-d77139ea652e",
   "metadata": {},
   "outputs": [
    {
     "data": {
      "image/png": "[encoded data removed]",
      "text/plain": [
       "<Figure size 300x400 with 1 Axes>"
      ]
     },
     "metadata": {},
     "output_type": "display_data"
    }
   ],
   "source": [
    "plt.figure(figsize=(3, 4))\n",
    "colors=['#0B8494','#F05A7E']\n",
    "\n",
    "ax=sns.countplot(\n",
    "    df_clean,\n",
    "    x='estado_actividades',\n",
    "    hue='estado_actividades',\n",
    "    linewidth=2,\n",
    "    edgecolor=\".2\",\n",
    "    palette=colors,\n",
    "    gap=.3,\n",
    "    \n",
    ")\n",
    "\n",
    "# Se agregan los números justo debajo del límite superior de la barra\n",
    "for p in ax.patches:\n",
    "    altura = p.get_height()\n",
    "    x = p.get_x() + p.get_width() / 2\n",
    "    y = altura - 2  # Se coloca ligeramente por debajo del tope de la barra\n",
    "    ax.text(\n",
    "        x, y, f'{int(altura)}',\n",
    "        ha='center', va='top',\n",
    "        color='white', fontweight='bold', fontsize=16\n",
    "    )\n",
    "plt.title(\"Conteo del estado de actividades\", fontsize=14,loc=\"left\", fontweight=\"bold\", x=-0.2, y=1.07 )\n",
    "sns.despine(top=True, right=True)\n",
    "plt.xlabel('')\n",
    "plt.ylabel('')\n",
    "plt.show()"
   ]
  },
  {
   "cell_type": "markdown",
   "id": "1d471c64",
   "metadata": {},
   "source": [
    ":::\n",
    "\n",
    "::::"
   ]
  },
  {
   "cell_type": "markdown",
   "id": "c6041852",
   "metadata": {},
   "source": [
    "* El 60 % de los estudiantes no completo sus actividades y tienen riesgo de quedar inhabilitados."
   ]
  },
  {
   "cell_type": "markdown",
   "id": "b52fd6c2",
   "metadata": {},
   "source": [
    "* 89 estudiantes tienen riesgo de quedar inhabilitados."
   ]
  },
  {
   "cell_type": "code",
   "execution_count": 48,
   "id": "d2ec4b4d-082e-4962-9b82-db49d0be6aa5",
   "metadata": {},
   "outputs": [
    {
     "data": {
      "image/png": "[encoded data removed]",
      "text/plain": [
       "<Figure size 640x480 with 1 Axes>"
      ]
     },
     "metadata": {},
     "output_type": "display_data"
    }
   ],
   "source": [
    "#| fig-align: center\n",
    "ax=sns.countplot(\n",
    "    df_clean,\n",
    "    x='nivel',\n",
    "    hue='estado_actividades',\n",
    "    palette=colors,\n",
    "    linewidth=2,\n",
    "    edgecolor=\".2\",\n",
    ")\n",
    "\n",
    "# Agregar etiquetas justo debajo del borde superior\n",
    "for p in ax.patches:\n",
    "    altura = p.get_height()\n",
    "    if altura > 0:  # Para evitar errores si alguna barra es cero\n",
    "        x = p.get_x() + p.get_width() / 2\n",
    "        y = altura - 1  # Se ajusta el valor vertical\n",
    "        ax.text(\n",
    "            x, y, f'{int(altura)}',\n",
    "            ha='center', va='top',\n",
    "            color='white', fontweight='bold', fontsize=16\n",
    "        )\n",
    "\n",
    "plt.suptitle(\"¿Cuantos estudiantes cumplieron con sus actividades?\", fontsize=14, fontweight='bold', x=0.52,y=1.02)\n",
    "plt.title(\"Estado de actividades por nivel \", fontsize=12,loc=\"left\", fontweight=\"bold\", x=-0.0, y=1.04 )\n",
    "\n",
    "plt.legend(title=\"\")\n",
    "sns.despine(top=True, right=True)\n",
    "plt.xlabel('')\n",
    "plt.ylabel('')\n",
    "\n",
    "ax.spines['left'].set_visible(False)   # Quita la línea del eje Y (vertical izquierda)\n",
    "ax.tick_params(axis='y', left=False)   # Quita las marcas (ticks) del eje Y\n",
    "ax.set_yticklabels([]) \n",
    "plt.show()"
   ]
  },
  {
   "cell_type": "markdown",
   "id": "e86591f3",
   "metadata": {},
   "source": [
    "Se puede observar que una mayoria de estudiantes en cada nivel no completaron sus actividades extracurriculares. Esto puede deberse a varios factores propios de cada estudiante, en donde la institucion debera realizar notificaciones."
   ]
  },
  {
   "cell_type": "code",
   "execution_count": 49,
   "id": "0c911007-1098-4742-b99b-d5c4e8290c93",
   "metadata": {},
   "outputs": [
    {
     "data": {
      "image/png": "[encoded data removed]",
      "text/plain": [
       "<Figure size 640x480 with 1 Axes>"
      ]
     },
     "metadata": {},
     "output_type": "display_data"
    }
   ],
   "source": [
    "#| fig-align: center\n",
    "ax = sns.countplot(\n",
    "    df_clean.query('estado_actividades==\"INCOMPLETO\"'),\n",
    "    x='n_actividades',\n",
    "    color='#F05A7E',\n",
    "    linewidth=2,\n",
    "    edgecolor=\".2\",\n",
    ")\n",
    "\n",
    "# Agregar etiquetas justo debajo del borde superior\n",
    "for p in ax.patches:\n",
    "    altura = p.get_height()\n",
    "    if altura > 0:  # Para evitar errores si alguna barra es cero\n",
    "        x = p.get_x() + p.get_width() / 2\n",
    "        y = altura - 1  # Se ajusta el valor vertical\n",
    "        ax.text(\n",
    "            x, y, f'{int(altura)}',\n",
    "            ha='center', va='top',\n",
    "            color='white', fontweight='bold', fontsize=16\n",
    "        )\n",
    "\n",
    "plt.title(\"Actividades de los Estudiantes con Estado: INCOMPLETO\", fontsize=12,loc=\"left\", fontweight=\"bold\", x=-0.1, y=1.04 )\n",
    "plt.xlabel('n actividades')\n",
    "plt.ylabel('Conteo')\n",
    "sns.despine(top=True, right=True)"
   ]
  },
  {
   "cell_type": "markdown",
   "id": "3fc032a3-af9a-4a27-ae8e-2a18e39aa41d",
   "metadata": {},
   "source": [
    "* 28 estudiantes no realizaron ninguna actividad."
   ]
  },
  {
   "cell_type": "code",
   "execution_count": 50,
   "id": "16b402bb-d213-4ca2-8ad1-b2e79316e450",
   "metadata": {},
   "outputs": [
    {
     "data": {
      "application/vnd.microsoft.datawrangler.viewer.v0+json": {
       "columns": [
        {
         "name": "index",
         "rawType": "uint64",
         "type": "integer"
        },
        {
         "name": "n_actividades",
         "rawType": "int64",
         "type": "integer"
        }
       ],
       "ref": "17fc6867-1311-4ed2-8517-4706b57c7207",
       "rows": [
        [
         "0",
         "28"
        ],
        [
         "8",
         "10"
        ],
        [
         "7",
         "9"
        ],
        [
         "1",
         "8"
        ],
        [
         "6",
         "8"
        ],
        [
         "5",
         "8"
        ],
        [
         "2",
         "7"
        ],
        [
         "4",
         "6"
        ],
        [
         "3",
         "5"
        ]
       ],
       "shape": {
        "columns": 1,
        "rows": 9
       }
      },
      "text/plain": [
       "0    28\n",
       "8    10\n",
       "7     9\n",
       "1     8\n",
       "6     8\n",
       "5     8\n",
       "2     7\n",
       "4     6\n",
       "3     5\n",
       "Name: n_actividades, dtype: int64"
      ]
     },
     "execution_count": 50,
     "metadata": {},
     "output_type": "execute_result"
    }
   ],
   "source": [
    "#| output: False\n",
    "df_clean.query('estado_actividades==\"INCOMPLETO\"').n_actividades.value_counts()"
   ]
  },
  {
   "cell_type": "code",
   "execution_count": 51,
   "id": "14550398-f9b4-4c6f-8f9a-37e0f2533575",
   "metadata": {},
   "outputs": [
    {
     "data": {
      "application/vnd.microsoft.datawrangler.viewer.v0+json": {
       "columns": [
        {
         "name": "index",
         "rawType": "object",
         "type": "string"
        },
        {
         "name": "count",
         "rawType": "float64",
         "type": "float"
        },
        {
         "name": "mean",
         "rawType": "float64",
         "type": "float"
        },
        {
         "name": "std",
         "rawType": "float64",
         "type": "float"
        },
        {
         "name": "min",
         "rawType": "float64",
         "type": "float"
        },
        {
         "name": "25%",
         "rawType": "float64",
         "type": "float"
        },
        {
         "name": "50%",
         "rawType": "float64",
         "type": "float"
        },
        {
         "name": "75%",
         "rawType": "float64",
         "type": "float"
        },
        {
         "name": "max",
         "rawType": "float64",
         "type": "float"
        }
       ],
       "ref": "761d9111-fd99-491a-ad06-8c18690e6848",
       "rows": [
        [
         "n_actividades",
         "148.0",
         "6.0",
         "4.306299767442442",
         "0.0",
         "1.75",
         "7.0",
         "9.0",
         "19.0"
        ]
       ],
       "shape": {
        "columns": 8,
        "rows": 1
       }
      },
      "text/html": [
       "<div>\n",
       "<style scoped>\n",
       "    .dataframe tbody tr th:only-of-type {\n",
       "        vertical-align: middle;\n",
       "    }\n",
       "\n",
       "    .dataframe tbody tr th {\n",
       "        vertical-align: top;\n",
       "    }\n",
       "\n",
       "    .dataframe thead th {\n",
       "        text-align: right;\n",
       "    }\n",
       "</style>\n",
       "<table border=\"1\" class=\"dataframe\">\n",
       "  <thead>\n",
       "    <tr style=\"text-align: right;\">\n",
       "      <th></th>\n",
       "      <th>count</th>\n",
       "      <th>mean</th>\n",
       "      <th>std</th>\n",
       "      <th>min</th>\n",
       "      <th>25%</th>\n",
       "      <th>50%</th>\n",
       "      <th>75%</th>\n",
       "      <th>max</th>\n",
       "    </tr>\n",
       "  </thead>\n",
       "  <tbody>\n",
       "    <tr>\n",
       "      <th>n_actividades</th>\n",
       "      <td>148.0</td>\n",
       "      <td>6.0</td>\n",
       "      <td>4.3063</td>\n",
       "      <td>0.0</td>\n",
       "      <td>1.75</td>\n",
       "      <td>7.0</td>\n",
       "      <td>9.0</td>\n",
       "      <td>19.0</td>\n",
       "    </tr>\n",
       "  </tbody>\n",
       "</table>\n",
       "</div>"
      ],
      "text/plain": [
       "               count  mean     std  min   25%  50%  75%   max\n",
       "n_actividades  148.0   6.0  4.3063  0.0  1.75  7.0  9.0  19.0"
      ]
     },
     "execution_count": 51,
     "metadata": {},
     "output_type": "execute_result"
    }
   ],
   "source": [
    "# Distribución del número de activades de todos los estudiantes de mayo\n",
    "df_clean.n_actividades.describe().to_frame().T"
   ]
  },
  {
   "cell_type": "markdown",
   "id": "35f85a59",
   "metadata": {},
   "source": []
  },
  {
   "cell_type": "markdown",
   "id": "1a200332-73d8-42cb-9eed-da0ad1e51f94",
   "metadata": {},
   "source": [
    "* El 50 % de los estudiantes realizo 7 actividades o menos.\n",
    "* Un 25 % de los estudiantes realizo igual o más de 9 actividades.\n",
    "* Existe un estudiante que realizo 19 actividades."
   ]
  },
  {
   "cell_type": "markdown",
   "id": "48ee7ac0",
   "metadata": {},
   "source": [
    "***"
   ]
  },
  {
   "cell_type": "code",
   "execution_count": 52,
   "id": "5c3bf262-5c8d-48c3-9c04-3944e010a3b8",
   "metadata": {},
   "outputs": [],
   "source": [
    "import numpy as np\n",
    "def continuidad(x):\n",
    "    if 'CONGELAR' in x:\n",
    "        return 'CONGELAR'\n",
    "    if 'RETIRAR' in x:\n",
    "        return 'RETIRAR'\n",
    "    return x"
   ]
  },
  {
   "cell_type": "markdown",
   "id": "0804b26b",
   "metadata": {},
   "source": [
    ":::: {.columns}\n",
    "\n",
    "::: {.column width=\"30%\"}"
   ]
  },
  {
   "cell_type": "markdown",
   "id": "b530fe43",
   "metadata": {},
   "source": [
    "* El 57.4 % (85) de los estudiantes continuaran con el programa para el siguiente nivel.\n",
    "* El 15 % (22) de los estudiantes ha decidido congelar el programa.\n",
    "* El 17.6 % (26) no dieron información de su estado.\n",
    "* Solo 2 personas se retiran del programa."
   ]
  },
  {
   "cell_type": "markdown",
   "id": "27ccdb41",
   "metadata": {},
   "source": [
    ":::\n",
    "\n",
    "::: {.column width=\"70%\"}"
   ]
  },
  {
   "cell_type": "code",
   "execution_count": 53,
   "id": "73bfd279-7b4e-450e-88b1-2263d8d19747",
   "metadata": {},
   "outputs": [
    {
     "data": {
      "image/png": "[encoded data removed]",
      "text/plain": [
       "<Figure size 600x500 with 1 Axes>"
      ]
     },
     "metadata": {},
     "output_type": "display_data"
    }
   ],
   "source": [
    "estado_counts = (\n",
    "    df_clean\n",
    "    .assign(estado_continuidad=lambda df: df.continuidad.apply(continuidad))\n",
    "    .estado_continuidad\n",
    "    .value_counts()\n",
    ")\n",
    "\n",
    "labels = estado_counts.index.tolist()\n",
    "data = estado_counts.values.tolist()\n",
    "\n",
    "# Crear figura y eje\n",
    "fig, ax = plt.subplots(figsize=(6, 5), subplot_kw=dict(aspect=\"equal\"))\n",
    "\n",
    "# Colores personalizados\n",
    "colors = sns.color_palette(\"BrBG_r\")\n",
    "\n",
    "# Gráfico de torta SIN autopct\n",
    "wedges, texts = ax.pie(\n",
    "    data,\n",
    "    textprops=dict(color=\"black\", weight=\"bold\"),\n",
    "    colors=colors,\n",
    "    startangle=90,\n",
    "    wedgeprops=dict(linewidth=1, edgecolor='black')\n",
    ")\n",
    "\n",
    "# Se define la función para mostrar porcentaje y cantidad\n",
    "def format_label(pct, total):\n",
    "    absolute = int(np.round(pct / 100. * total))\n",
    "    return f\"{pct:.1f}%\\n({absolute})\"\n",
    "\n",
    "# Total general\n",
    "total = sum(data)\n",
    "\n",
    "# Se posicionan manualmente las etiquetas\n",
    "for i, (wedge, count) in enumerate(zip(wedges, data)):\n",
    "    angle = (wedge.theta2 + wedge.theta1) / 2.\n",
    "    x = np.cos(np.deg2rad(angle))\n",
    "    y = np.sin(np.deg2rad(angle))\n",
    "    ha = 'left' if x >= 0 else 'right'\n",
    "    label = format_label(100 * count / total, total)\n",
    "\n",
    "    if count < 5:\n",
    "        # Se coloca el texto fuera con flecha\n",
    "        ax.annotate(\n",
    "            label,\n",
    "            xy=(x, y),\n",
    "            xytext=(3.8 * x, 1.2 * y),\n",
    "            arrowprops=dict(arrowstyle='-', color='gray'),\n",
    "            ha=ha, va='center', fontsize=10, fontweight='bold'\n",
    "        )\n",
    "    else:\n",
    "        # Se coloca el texto dentro del segmento\n",
    "        ax.text(\n",
    "            0.7 * x,\n",
    "            0.7 * y,\n",
    "            label,\n",
    "            ha='center',\n",
    "            va='center',\n",
    "            fontsize=14,\n",
    "            fontweight='bold'\n",
    "        )\n",
    "\n",
    "# Leyenda externa\n",
    "ax.legend(\n",
    "    wedges,\n",
    "    labels,\n",
    "    title=\"\",\n",
    "    loc=\"center left\",\n",
    "    bbox_to_anchor=(1, 0, 0.5, 1),\n",
    "    fontsize=10,\n",
    ")\n",
    "\n",
    "# Título\n",
    "ax.set_title(\"Estado sobre la continuidad de los estudiantes\", fontsize=14, fontweight=\"bold\", x=0.55,y=1.04)\n",
    "\n",
    "plt.tight_layout()\n",
    "plt.show()"
   ]
  },
  {
   "cell_type": "markdown",
   "id": "f1c46f03",
   "metadata": {},
   "source": [
    ":::\n",
    "\n",
    "::::"
   ]
  },
  {
   "cell_type": "code",
   "execution_count": 54,
   "id": "9ef42a80-5459-4841-ae8e-28b492879985",
   "metadata": {},
   "outputs": [
    {
     "data": {
      "application/vnd.microsoft.datawrangler.viewer.v0+json": {
       "columns": [
        {
         "name": "index",
         "rawType": "int64",
         "type": "integer"
        },
        {
         "name": "id_estudiante",
         "rawType": "uint8",
         "type": "integer"
        },
        {
         "name": "departamento",
         "rawType": "category",
         "type": "unknown"
        },
        {
         "name": "totalgeneral",
         "rawType": "uint8",
         "type": "integer"
        },
        {
         "name": "docente",
         "rawType": "category",
         "type": "unknown"
        },
        {
         "name": "nivel",
         "rawType": "category",
         "type": "unknown"
        },
        {
         "name": "modalidad",
         "rawType": "category",
         "type": "unknown"
        },
        {
         "name": "estado_actividades",
         "rawType": "category",
         "type": "unknown"
        },
        {
         "name": "n_actividades",
         "rawType": "uint8",
         "type": "integer"
        },
        {
         "name": "continuidad",
         "rawType": "category",
         "type": "unknown"
        },
        {
         "name": "estado_continuidad",
         "rawType": "object",
         "type": "string"
        },
        {
         "name": "motivo",
         "rawType": "object",
         "type": "string"
        }
       ],
       "ref": "4f0eff11-5f0d-41fc-bd7d-fba11ef2140a",
       "rows": [
        [
         "0",
         "1",
         "La Paz",
         "81",
         "MARIAN",
         "INTERMEDIO",
         "INTENSIVO",
         "COMPLETO",
         "11",
         "CONGELAR - TRABAJO",
         "CONGELAR",
         "TRABAJO"
        ],
        [
         "1",
         "2",
         "La Paz",
         "75",
         "MARIA",
         "PRINCIPIANTE",
         "INTENSIVO",
         "INCOMPLETO",
         "0",
         "CONGELAR - TRABAJO",
         "CONGELAR",
         "TRABAJO"
        ],
        [
         "16",
         "17",
         "La Paz",
         "75",
         "MARIAN",
         "INTERMEDIO",
         "INTENSIVO",
         "COMPLETO",
         "12",
         "CONGELAR - PREMILITAR",
         "CONGELAR",
         "PREMILITAR"
        ],
        [
         "41",
         "42",
         "La Paz",
         "98",
         "HELEN",
         "BASICO",
         "INTENSIVO",
         "COMPLETO",
         "19",
         "CONGELAR - INTERNADO",
         "CONGELAR",
         "INTERNADO"
        ],
        [
         "44",
         "45",
         "Sucre",
         "88",
         "MARIA",
         "PRINCIPIANTE",
         "INTENSIVO",
         "INCOMPLETO",
         "2",
         "CONGELAR - PRACTICAS",
         "CONGELAR",
         "PRACTICAS"
        ]
       ],
       "shape": {
        "columns": 11,
        "rows": 5
       }
      },
      "text/html": [
       "<div>\n",
       "<style scoped>\n",
       "    .dataframe tbody tr th:only-of-type {\n",
       "        vertical-align: middle;\n",
       "    }\n",
       "\n",
       "    .dataframe tbody tr th {\n",
       "        vertical-align: top;\n",
       "    }\n",
       "\n",
       "    .dataframe thead th {\n",
       "        text-align: right;\n",
       "    }\n",
       "</style>\n",
       "<table border=\"1\" class=\"dataframe\">\n",
       "  <thead>\n",
       "    <tr style=\"text-align: right;\">\n",
       "      <th></th>\n",
       "      <th>id_estudiante</th>\n",
       "      <th>departamento</th>\n",
       "      <th>totalgeneral</th>\n",
       "      <th>docente</th>\n",
       "      <th>nivel</th>\n",
       "      <th>modalidad</th>\n",
       "      <th>estado_actividades</th>\n",
       "      <th>n_actividades</th>\n",
       "      <th>continuidad</th>\n",
       "      <th>estado_continuidad</th>\n",
       "      <th>motivo</th>\n",
       "    </tr>\n",
       "  </thead>\n",
       "  <tbody>\n",
       "    <tr>\n",
       "      <th>0</th>\n",
       "      <td>1</td>\n",
       "      <td>La Paz</td>\n",
       "      <td>81</td>\n",
       "      <td>MARIAN</td>\n",
       "      <td>INTERMEDIO</td>\n",
       "      <td>INTENSIVO</td>\n",
       "      <td>COMPLETO</td>\n",
       "      <td>11</td>\n",
       "      <td>CONGELAR - TRABAJO</td>\n",
       "      <td>CONGELAR</td>\n",
       "      <td>TRABAJO</td>\n",
       "    </tr>\n",
       "    <tr>\n",
       "      <th>1</th>\n",
       "      <td>2</td>\n",
       "      <td>La Paz</td>\n",
       "      <td>75</td>\n",
       "      <td>MARIA</td>\n",
       "      <td>PRINCIPIANTE</td>\n",
       "      <td>INTENSIVO</td>\n",
       "      <td>INCOMPLETO</td>\n",
       "      <td>0</td>\n",
       "      <td>CONGELAR - TRABAJO</td>\n",
       "      <td>CONGELAR</td>\n",
       "      <td>TRABAJO</td>\n",
       "    </tr>\n",
       "    <tr>\n",
       "      <th>16</th>\n",
       "      <td>17</td>\n",
       "      <td>La Paz</td>\n",
       "      <td>75</td>\n",
       "      <td>MARIAN</td>\n",
       "      <td>INTERMEDIO</td>\n",
       "      <td>INTENSIVO</td>\n",
       "      <td>COMPLETO</td>\n",
       "      <td>12</td>\n",
       "      <td>CONGELAR - PREMILITAR</td>\n",
       "      <td>CONGELAR</td>\n",
       "      <td>PREMILITAR</td>\n",
       "    </tr>\n",
       "    <tr>\n",
       "      <th>41</th>\n",
       "      <td>42</td>\n",
       "      <td>La Paz</td>\n",
       "      <td>98</td>\n",
       "      <td>HELEN</td>\n",
       "      <td>BASICO</td>\n",
       "      <td>INTENSIVO</td>\n",
       "      <td>COMPLETO</td>\n",
       "      <td>19</td>\n",
       "      <td>CONGELAR - INTERNADO</td>\n",
       "      <td>CONGELAR</td>\n",
       "      <td>INTERNADO</td>\n",
       "    </tr>\n",
       "    <tr>\n",
       "      <th>44</th>\n",
       "      <td>45</td>\n",
       "      <td>Sucre</td>\n",
       "      <td>88</td>\n",
       "      <td>MARIA</td>\n",
       "      <td>PRINCIPIANTE</td>\n",
       "      <td>INTENSIVO</td>\n",
       "      <td>INCOMPLETO</td>\n",
       "      <td>2</td>\n",
       "      <td>CONGELAR - PRACTICAS</td>\n",
       "      <td>CONGELAR</td>\n",
       "      <td>PRACTICAS</td>\n",
       "    </tr>\n",
       "  </tbody>\n",
       "</table>\n",
       "</div>"
      ],
      "text/plain": [
       "    id_estudiante departamento  totalgeneral docente         nivel  modalidad  \\\n",
       "0               1       La Paz            81  MARIAN    INTERMEDIO  INTENSIVO   \n",
       "1               2       La Paz            75   MARIA  PRINCIPIANTE  INTENSIVO   \n",
       "16             17       La Paz            75  MARIAN    INTERMEDIO  INTENSIVO   \n",
       "41             42       La Paz            98   HELEN        BASICO  INTENSIVO   \n",
       "44             45        Sucre            88   MARIA  PRINCIPIANTE  INTENSIVO   \n",
       "\n",
       "   estado_actividades  n_actividades            continuidad  \\\n",
       "0            COMPLETO             11     CONGELAR - TRABAJO   \n",
       "1          INCOMPLETO              0     CONGELAR - TRABAJO   \n",
       "16           COMPLETO             12  CONGELAR - PREMILITAR   \n",
       "41           COMPLETO             19   CONGELAR - INTERNADO   \n",
       "44         INCOMPLETO              2   CONGELAR - PRACTICAS   \n",
       "\n",
       "   estado_continuidad      motivo  \n",
       "0            CONGELAR     TRABAJO  \n",
       "1            CONGELAR     TRABAJO  \n",
       "16           CONGELAR  PREMILITAR  \n",
       "41           CONGELAR   INTERNADO  \n",
       "44           CONGELAR   PRACTICAS  "
      ]
     },
     "execution_count": 54,
     "metadata": {},
     "output_type": "execute_result"
    }
   ],
   "source": [
    "#| output: False\n",
    "(\n",
    "    df_clean\n",
    "    .assign(estado_continuidad=lambda df: df.continuidad.apply(continuidad))\n",
    "    .query('estado_continuidad == \"CONGELAR\"')\n",
    "    .assign(motivo=lambda df: df['continuidad'].str.replace(r'^CONGELAR - ', '', regex=True))\n",
    ").head()"
   ]
  },
  {
   "cell_type": "markdown",
   "id": "c537ad0e",
   "metadata": {},
   "source": [
    "***"
   ]
  },
  {
   "cell_type": "code",
   "execution_count": 55,
   "id": "73a141ee-7243-4782-a355-09301d0af1fb",
   "metadata": {},
   "outputs": [
    {
     "data": {
      "image/png": "[encoded data removed]",
      "text/plain": [
       "<Figure size 640x480 with 1 Axes>"
      ]
     },
     "metadata": {},
     "output_type": "display_data"
    }
   ],
   "source": [
    "#| fig-align: center\n",
    "df_congl = (\n",
    "    df_clean\n",
    "    .assign(estado_continuidad=lambda df: df.continuidad.apply(continuidad))\n",
    "    .query('estado_continuidad == \"CONGELAR\"')\n",
    "    .assign(motivo=lambda df: df['continuidad'].str.replace(r'^CONGELAR - ', '', regex=True))\n",
    ")\n",
    "\n",
    "# Se cuenta la frecuencia de cada categoría\n",
    "orden = (\n",
    "    df_congl['motivo']\n",
    "    .astype(str)\n",
    "    .value_counts()\n",
    "    .index\n",
    ")\n",
    "\n",
    "# Se redefine la columna como categórica con orden explícito\n",
    "df_congl = df_congl.assign(\n",
    "    motivo=lambda df: pd.Categorical(df['motivo'].astype(str), categories=orden, ordered=True)\n",
    ")\n",
    "\n",
    "ax=sns.countplot(\n",
    "    data=df_congl,\n",
    "    y='motivo',\n",
    "    hue='motivo',\n",
    "    palette='crest_r',\n",
    "    edgecolor=\".2\",\n",
    ")\n",
    "\n",
    "# Se agregan las etiquetas dentro de cada barra\n",
    "for p in ax.patches:\n",
    "    ancho = p.get_width()\n",
    "    y_pos = p.get_y() + p.get_height() / 2\n",
    "    ax.text(\n",
    "        x=ancho - 0.2,  # Se posiciona a la izquierda del borde\n",
    "        y=y_pos,\n",
    "        s=int(ancho),\n",
    "        va='center',\n",
    "        ha='right',\n",
    "        fontsize=12,\n",
    "        fontweight='bold',\n",
    "        color='white'\n",
    "    )\n",
    "\n",
    "# Ocultar eje X y bordes\n",
    "ax.spines['top'].set_visible(False)\n",
    "ax.spines['right'].set_visible(False)\n",
    "ax.spines['bottom'].set_visible(False)\n",
    "ax.xaxis.set_visible(False)\n",
    "\n",
    "plt.title(\"Motivos para congelar el programa\", fontsize=14,loc=\"left\", fontweight=\"bold\", x=-0.22, y=1.04 )\n",
    "plt.ylabel('')\n",
    "plt.xlabel('')\n",
    "plt.show()"
   ]
  },
  {
   "cell_type": "markdown",
   "id": "60f87706-9453-4c5f-9fbc-cb25209372f9",
   "metadata": {},
   "source": [
    "El motivo mas frecuente para congelar los cursos de idiomas es por Trabajo. Tambien existen casos particulares como los estudiantes del area de salud."
   ]
  },
  {
   "cell_type": "markdown",
   "id": "78c66b48",
   "metadata": {},
   "source": [
    "***"
   ]
  },
  {
   "cell_type": "markdown",
   "id": "a172887d",
   "metadata": {},
   "source": [
    "## Sugerencias"
   ]
  },
  {
   "cell_type": "markdown",
   "id": "62757077",
   "metadata": {},
   "source": [
    "Obtener un conjuntos de datos con mayor informacion sobre las caracteristicas sociodemográficas de los estudiantes. Esto para comprender aun mejor los motivos para no continuar, congelar o retirarse del programa. Asi como tambien recabar información sobre todos los estudiantes de otras modalidades de estudio. Tambien se sugiere obtener datos sobre los alumnos reprobados para poder realizar mas comparaciones entre grupos.\n",
    "\n"
   ]
  }
 ],
 "metadata": {
  "kernelspec": {
   "display_name": ".venv",
   "language": "python",
   "name": "python3"
  },
  "language_info": {
   "codemirror_mode": {
    "name": "ipython",
    "version": 3
   },
   "file_extension": ".py",
   "mimetype": "text/x-python",
   "name": "python",
   "nbconvert_exporter": "python",
   "pygments_lexer": "ipython3",
   "version": "3.11.11"
  }
 },
 "nbformat": 4,
 "nbformat_minor": 5
}
